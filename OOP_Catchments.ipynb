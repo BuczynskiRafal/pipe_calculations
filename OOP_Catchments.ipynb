{
  "nbformat": 4,
  "nbformat_minor": 0,
  "metadata": {
    "colab": {
      "provenance": [],
      "authorship_tag": "ABX9TyOpyKtVNW3F0fXoFsZvLcZ4",
      "include_colab_link": true
    },
    "kernelspec": {
      "name": "python3",
      "display_name": "Python 3"
    },
    "language_info": {
      "name": "python"
    }
  },
  "cells": [
    {
      "cell_type": "markdown",
      "metadata": {
        "id": "view-in-github",
        "colab_type": "text"
      },
      "source": [
        "<a href=\"https://colab.research.google.com/github/BuczynskiRafal/pipe_calculations/blob/main/OOP_Catchments.ipynb\" target=\"_parent\"><img src=\"https://colab.research.google.com/assets/colab-badge.svg\" alt=\"Open In Colab\"/></a>"
      ]
    },
    {
      "cell_type": "markdown",
      "source": [
        "# Install extensions"
      ],
      "metadata": {
        "id": "u402HnsBbh0X"
      }
    },
    {
      "cell_type": "code",
      "execution_count": 1,
      "metadata": {
        "colab": {
          "base_uri": "https://localhost:8080/"
        },
        "id": "o6dEO-VzbXcm",
        "outputId": "262fb775-3e3b-4b73-d045-df2c1ab2f73c"
      },
      "outputs": [
        {
          "output_type": "stream",
          "name": "stdout",
          "text": [
            "Looking in indexes: https://pypi.org/simple, https://us-python.pkg.dev/colab-wheels/public/simple/\n",
            "Collecting pyswmm\n",
            "  Downloading pyswmm-1.2.0-py3-none-any.whl (101 kB)\n",
            "\u001b[K     |████████████████████████████████| 101 kB 3.7 MB/s \n",
            "\u001b[?25hCollecting julian>=0.14\n",
            "  Downloading julian-0.14.zip (2.8 kB)\n",
            "Collecting aenum>=3.1.11\n",
            "  Downloading aenum-3.1.11-py3-none-any.whl (131 kB)\n",
            "\u001b[K     |████████████████████████████████| 131 kB 44.6 MB/s \n",
            "\u001b[?25hCollecting swmm-toolkit>=0.9.0\n",
            "  Downloading swmm_toolkit-0.9.0-cp37-cp37m-manylinux_2_17_x86_64.manylinux2014_x86_64.whl (458 kB)\n",
            "\u001b[K     |████████████████████████████████| 458 kB 28.2 MB/s \n",
            "\u001b[?25hBuilding wheels for collected packages: julian\n",
            "  Building wheel for julian (setup.py) ... \u001b[?25l\u001b[?25hdone\n",
            "  Created wheel for julian: filename=julian-0.14-py3-none-any.whl size=2633 sha256=3c0a3ea27e0b4f861b9172c37291b037563e89fa6991dac1233c145ace6a2e62\n",
            "  Stored in directory: /root/.cache/pip/wheels/bb/58/2a/4109ff5870c163b26a499fb8b828ede50e96264571a4f082d3\n",
            "Successfully built julian\n",
            "Installing collected packages: aenum, swmm-toolkit, julian, pyswmm\n",
            "Successfully installed aenum-3.1.11 julian-0.14 pyswmm-1.2.0 swmm-toolkit-0.9.0\n",
            "Looking in indexes: https://pypi.org/simple, https://us-python.pkg.dev/colab-wheels/public/simple/\n",
            "Collecting swmmio\n",
            "  Downloading swmmio-0.4.10-py3-none-any.whl (270 kB)\n",
            "\u001b[K     |████████████████████████████████| 270 kB 9.2 MB/s \n",
            "\u001b[?25hCollecting pyshp==2.1.0\n",
            "  Downloading pyshp-2.1.0.tar.gz (215 kB)\n",
            "\u001b[K     |████████████████████████████████| 215 kB 54.5 MB/s \n",
            "\u001b[?25hRequirement already satisfied: pyyaml>=3.12 in /usr/local/lib/python3.7/dist-packages (from swmmio) (6.0)\n",
            "Requirement already satisfied: Pillow>=6.2.0 in /usr/local/lib/python3.7/dist-packages (from swmmio) (7.1.2)\n",
            "Requirement already satisfied: pandas>=0.24.2 in /usr/local/lib/python3.7/dist-packages (from swmmio) (1.3.5)\n",
            "Requirement already satisfied: networkx<2.8.1,>=2.3 in /usr/local/lib/python3.7/dist-packages (from swmmio) (2.6.3)\n",
            "Collecting geojson>=2.4.1\n",
            "  Downloading geojson-2.5.0-py2.py3-none-any.whl (14 kB)\n",
            "Requirement already satisfied: numpy>=1.16.4 in /usr/local/lib/python3.7/dist-packages (from swmmio) (1.21.6)\n",
            "Requirement already satisfied: python-dateutil>=2.7.3 in /usr/local/lib/python3.7/dist-packages (from pandas>=0.24.2->swmmio) (2.8.2)\n",
            "Requirement already satisfied: pytz>=2017.3 in /usr/local/lib/python3.7/dist-packages (from pandas>=0.24.2->swmmio) (2022.5)\n",
            "Requirement already satisfied: six>=1.5 in /usr/local/lib/python3.7/dist-packages (from python-dateutil>=2.7.3->pandas>=0.24.2->swmmio) (1.15.0)\n",
            "Building wheels for collected packages: pyshp\n",
            "  Building wheel for pyshp (setup.py) ... \u001b[?25l\u001b[?25hdone\n",
            "  Created wheel for pyshp: filename=pyshp-2.1.0-py3-none-any.whl size=32667 sha256=15694c9d7fb718f61648a0a752e77f8e05b58de875ad4907ef7a3a4868b4fe10\n",
            "  Stored in directory: /root/.cache/pip/wheels/a0/c5/f3/548a073ac6a83d5b23d9b39cdd24314fc84bc8afc9882deb33\n",
            "Successfully built pyshp\n",
            "Installing collected packages: pyshp, geojson, swmmio\n",
            "Successfully installed geojson-2.5.0 pyshp-2.1.0 swmmio-0.4.10\n"
          ]
        }
      ],
      "source": [
        "!pip install pyswmm\n",
        "!pip install swmmio"
      ]
    },
    {
      "cell_type": "markdown",
      "source": [
        "# Import extensions"
      ],
      "metadata": {
        "id": "zpwfNLC3bhB0"
      }
    },
    {
      "cell_type": "code",
      "source": [
        "import swmmio\n",
        "import pandas as pd\n",
        "import numpy as np\n",
        "import seaborn as sns\n",
        "import matplotlib.pyplot as plt\n",
        "from pyswmm import Simulation, Nodes, Links, Subcatchments, Output"
      ],
      "metadata": {
        "id": "xqzDxbdfbpeu"
      },
      "execution_count": 2,
      "outputs": []
    },
    {
      "cell_type": "markdown",
      "source": [
        "# Explore model data"
      ],
      "metadata": {
        "id": "JrRYiI16vSVN"
      }
    },
    {
      "cell_type": "code",
      "source": [
        "model = swmmio.Model('example.inp')\n",
        "df_links = model.links.dataframe\n",
        "df_subcatchments = model.subcatchments.dataframe"
      ],
      "metadata": {
        "id": "NvYhM7VNvVXU"
      },
      "execution_count": 3,
      "outputs": []
    },
    {
      "cell_type": "code",
      "source": [
        "df_links[:2]"
      ],
      "metadata": {
        "id": "F4o5aB3Y15WO",
        "outputId": "f1a72720-66e8-4ad9-de7a-64050c35f2c3",
        "colab": {
          "base_uri": "https://localhost:8080/",
          "height": 173
        }
      },
      "execution_count": null,
      "outputs": [
        {
          "output_type": "execute_result",
          "data": {
            "text/plain": [
              "     InletNode OutletNode  ...  Barrels  \\\n",
              "Name                       ...            \n",
              "C3          J1         J3  ...        1   \n",
              "C4          J3         O4  ...        1   \n",
              "\n",
              "                                                    coords  \n",
              "Name                                                        \n",
              "C3    [(777189.014, 592583.674), (777197.821, 592564.501)]  \n",
              "C4     [(777197.821, 592564.501), (777203.103, 592557.13)]  \n",
              "\n",
              "[2 rows x 15 columns]"
            ],
            "text/html": [
              "\n",
              "  <div id=\"df-903874f9-7bc7-4d6c-9fe5-19d2da0d6e45\">\n",
              "    <div class=\"colab-df-container\">\n",
              "      <div>\n",
              "<style scoped>\n",
              "    .dataframe tbody tr th:only-of-type {\n",
              "        vertical-align: middle;\n",
              "    }\n",
              "\n",
              "    .dataframe tbody tr th {\n",
              "        vertical-align: top;\n",
              "    }\n",
              "\n",
              "    .dataframe thead th {\n",
              "        text-align: right;\n",
              "    }\n",
              "</style>\n",
              "<table border=\"1\" class=\"dataframe\">\n",
              "  <thead>\n",
              "    <tr style=\"text-align: right;\">\n",
              "      <th></th>\n",
              "      <th>InletNode</th>\n",
              "      <th>OutletNode</th>\n",
              "      <th>...</th>\n",
              "      <th>Barrels</th>\n",
              "      <th>coords</th>\n",
              "    </tr>\n",
              "    <tr>\n",
              "      <th>Name</th>\n",
              "      <th></th>\n",
              "      <th></th>\n",
              "      <th></th>\n",
              "      <th></th>\n",
              "      <th></th>\n",
              "    </tr>\n",
              "  </thead>\n",
              "  <tbody>\n",
              "    <tr>\n",
              "      <th>C3</th>\n",
              "      <td>J1</td>\n",
              "      <td>J3</td>\n",
              "      <td>...</td>\n",
              "      <td>1</td>\n",
              "      <td>[(777189.014, 592583.674), (777197.821, 592564.501)]</td>\n",
              "    </tr>\n",
              "    <tr>\n",
              "      <th>C4</th>\n",
              "      <td>J3</td>\n",
              "      <td>O4</td>\n",
              "      <td>...</td>\n",
              "      <td>1</td>\n",
              "      <td>[(777197.821, 592564.501), (777203.103, 592557.13)]</td>\n",
              "    </tr>\n",
              "  </tbody>\n",
              "</table>\n",
              "<p>2 rows × 15 columns</p>\n",
              "</div>\n",
              "      <button class=\"colab-df-convert\" onclick=\"convertToInteractive('df-903874f9-7bc7-4d6c-9fe5-19d2da0d6e45')\"\n",
              "              title=\"Convert this dataframe to an interactive table.\"\n",
              "              style=\"display:none;\">\n",
              "        \n",
              "  <svg xmlns=\"http://www.w3.org/2000/svg\" height=\"24px\"viewBox=\"0 0 24 24\"\n",
              "       width=\"24px\">\n",
              "    <path d=\"M0 0h24v24H0V0z\" fill=\"none\"/>\n",
              "    <path d=\"M18.56 5.44l.94 2.06.94-2.06 2.06-.94-2.06-.94-.94-2.06-.94 2.06-2.06.94zm-11 1L8.5 8.5l.94-2.06 2.06-.94-2.06-.94L8.5 2.5l-.94 2.06-2.06.94zm10 10l.94 2.06.94-2.06 2.06-.94-2.06-.94-.94-2.06-.94 2.06-2.06.94z\"/><path d=\"M17.41 7.96l-1.37-1.37c-.4-.4-.92-.59-1.43-.59-.52 0-1.04.2-1.43.59L10.3 9.45l-7.72 7.72c-.78.78-.78 2.05 0 2.83L4 21.41c.39.39.9.59 1.41.59.51 0 1.02-.2 1.41-.59l7.78-7.78 2.81-2.81c.8-.78.8-2.07 0-2.86zM5.41 20L4 18.59l7.72-7.72 1.47 1.35L5.41 20z\"/>\n",
              "  </svg>\n",
              "      </button>\n",
              "      \n",
              "  <style>\n",
              "    .colab-df-container {\n",
              "      display:flex;\n",
              "      flex-wrap:wrap;\n",
              "      gap: 12px;\n",
              "    }\n",
              "\n",
              "    .colab-df-convert {\n",
              "      background-color: #E8F0FE;\n",
              "      border: none;\n",
              "      border-radius: 50%;\n",
              "      cursor: pointer;\n",
              "      display: none;\n",
              "      fill: #1967D2;\n",
              "      height: 32px;\n",
              "      padding: 0 0 0 0;\n",
              "      width: 32px;\n",
              "    }\n",
              "\n",
              "    .colab-df-convert:hover {\n",
              "      background-color: #E2EBFA;\n",
              "      box-shadow: 0px 1px 2px rgba(60, 64, 67, 0.3), 0px 1px 3px 1px rgba(60, 64, 67, 0.15);\n",
              "      fill: #174EA6;\n",
              "    }\n",
              "\n",
              "    [theme=dark] .colab-df-convert {\n",
              "      background-color: #3B4455;\n",
              "      fill: #D2E3FC;\n",
              "    }\n",
              "\n",
              "    [theme=dark] .colab-df-convert:hover {\n",
              "      background-color: #434B5C;\n",
              "      box-shadow: 0px 1px 3px 1px rgba(0, 0, 0, 0.15);\n",
              "      filter: drop-shadow(0px 1px 2px rgba(0, 0, 0, 0.3));\n",
              "      fill: #FFFFFF;\n",
              "    }\n",
              "  </style>\n",
              "\n",
              "      <script>\n",
              "        const buttonEl =\n",
              "          document.querySelector('#df-903874f9-7bc7-4d6c-9fe5-19d2da0d6e45 button.colab-df-convert');\n",
              "        buttonEl.style.display =\n",
              "          google.colab.kernel.accessAllowed ? 'block' : 'none';\n",
              "\n",
              "        async function convertToInteractive(key) {\n",
              "          const element = document.querySelector('#df-903874f9-7bc7-4d6c-9fe5-19d2da0d6e45');\n",
              "          const dataTable =\n",
              "            await google.colab.kernel.invokeFunction('convertToInteractive',\n",
              "                                                     [key], {});\n",
              "          if (!dataTable) return;\n",
              "\n",
              "          const docLinkHtml = 'Like what you see? Visit the ' +\n",
              "            '<a target=\"_blank\" href=https://colab.research.google.com/notebooks/data_table.ipynb>data table notebook</a>'\n",
              "            + ' to learn more about interactive tables.';\n",
              "          element.innerHTML = '';\n",
              "          dataTable['output_type'] = 'display_data';\n",
              "          await google.colab.output.renderOutput(dataTable, element);\n",
              "          const docLink = document.createElement('div');\n",
              "          docLink.innerHTML = docLinkHtml;\n",
              "          element.appendChild(docLink);\n",
              "        }\n",
              "      </script>\n",
              "    </div>\n",
              "  </div>\n",
              "  "
            ]
          },
          "metadata": {},
          "execution_count": 5
        }
      ]
    },
    {
      "cell_type": "code",
      "source": [
        "df_subcatchments[:2]"
      ],
      "metadata": {
        "id": "G5DRt-iX1_Y4",
        "outputId": "f06e911f-3640-42fa-ec3d-9f9bc6180460",
        "colab": {
          "base_uri": "https://localhost:8080/",
          "height": 141
        }
      },
      "execution_count": null,
      "outputs": [
        {
          "output_type": "execute_result",
          "data": {
            "text/plain": [
              "      Raingage Outlet  ...  RouteTo  \\\n",
              "Name                   ...            \n",
              "S1           1     J1  ...   OUTLET   \n",
              "\n",
              "                                                                                                                                                            coords  \n",
              "Name                                                                                                                                                                \n",
              "S1    [(777175.934, 592588.598), (777185.333, 592588.986), (777185.453, 592579.676), (777176.173, 592579.527), (777175.934, 592588.717), (777175.934, 592588.598)]  \n",
              "\n",
              "[1 rows x 14 columns]"
            ],
            "text/html": [
              "\n",
              "  <div id=\"df-a8ef1224-16fd-4824-bf69-635a02bfbfee\">\n",
              "    <div class=\"colab-df-container\">\n",
              "      <div>\n",
              "<style scoped>\n",
              "    .dataframe tbody tr th:only-of-type {\n",
              "        vertical-align: middle;\n",
              "    }\n",
              "\n",
              "    .dataframe tbody tr th {\n",
              "        vertical-align: top;\n",
              "    }\n",
              "\n",
              "    .dataframe thead th {\n",
              "        text-align: right;\n",
              "    }\n",
              "</style>\n",
              "<table border=\"1\" class=\"dataframe\">\n",
              "  <thead>\n",
              "    <tr style=\"text-align: right;\">\n",
              "      <th></th>\n",
              "      <th>Raingage</th>\n",
              "      <th>Outlet</th>\n",
              "      <th>...</th>\n",
              "      <th>RouteTo</th>\n",
              "      <th>coords</th>\n",
              "    </tr>\n",
              "    <tr>\n",
              "      <th>Name</th>\n",
              "      <th></th>\n",
              "      <th></th>\n",
              "      <th></th>\n",
              "      <th></th>\n",
              "      <th></th>\n",
              "    </tr>\n",
              "  </thead>\n",
              "  <tbody>\n",
              "    <tr>\n",
              "      <th>S1</th>\n",
              "      <td>1</td>\n",
              "      <td>J1</td>\n",
              "      <td>...</td>\n",
              "      <td>OUTLET</td>\n",
              "      <td>[(777175.934, 592588.598), (777185.333, 592588.986), (777185.453, 592579.676), (777176.173, 592579.527), (777175.934, 592588.717), (777175.934, 592588.598)]</td>\n",
              "    </tr>\n",
              "  </tbody>\n",
              "</table>\n",
              "<p>1 rows × 14 columns</p>\n",
              "</div>\n",
              "      <button class=\"colab-df-convert\" onclick=\"convertToInteractive('df-a8ef1224-16fd-4824-bf69-635a02bfbfee')\"\n",
              "              title=\"Convert this dataframe to an interactive table.\"\n",
              "              style=\"display:none;\">\n",
              "        \n",
              "  <svg xmlns=\"http://www.w3.org/2000/svg\" height=\"24px\"viewBox=\"0 0 24 24\"\n",
              "       width=\"24px\">\n",
              "    <path d=\"M0 0h24v24H0V0z\" fill=\"none\"/>\n",
              "    <path d=\"M18.56 5.44l.94 2.06.94-2.06 2.06-.94-2.06-.94-.94-2.06-.94 2.06-2.06.94zm-11 1L8.5 8.5l.94-2.06 2.06-.94-2.06-.94L8.5 2.5l-.94 2.06-2.06.94zm10 10l.94 2.06.94-2.06 2.06-.94-2.06-.94-.94-2.06-.94 2.06-2.06.94z\"/><path d=\"M17.41 7.96l-1.37-1.37c-.4-.4-.92-.59-1.43-.59-.52 0-1.04.2-1.43.59L10.3 9.45l-7.72 7.72c-.78.78-.78 2.05 0 2.83L4 21.41c.39.39.9.59 1.41.59.51 0 1.02-.2 1.41-.59l7.78-7.78 2.81-2.81c.8-.78.8-2.07 0-2.86zM5.41 20L4 18.59l7.72-7.72 1.47 1.35L5.41 20z\"/>\n",
              "  </svg>\n",
              "      </button>\n",
              "      \n",
              "  <style>\n",
              "    .colab-df-container {\n",
              "      display:flex;\n",
              "      flex-wrap:wrap;\n",
              "      gap: 12px;\n",
              "    }\n",
              "\n",
              "    .colab-df-convert {\n",
              "      background-color: #E8F0FE;\n",
              "      border: none;\n",
              "      border-radius: 50%;\n",
              "      cursor: pointer;\n",
              "      display: none;\n",
              "      fill: #1967D2;\n",
              "      height: 32px;\n",
              "      padding: 0 0 0 0;\n",
              "      width: 32px;\n",
              "    }\n",
              "\n",
              "    .colab-df-convert:hover {\n",
              "      background-color: #E2EBFA;\n",
              "      box-shadow: 0px 1px 2px rgba(60, 64, 67, 0.3), 0px 1px 3px 1px rgba(60, 64, 67, 0.15);\n",
              "      fill: #174EA6;\n",
              "    }\n",
              "\n",
              "    [theme=dark] .colab-df-convert {\n",
              "      background-color: #3B4455;\n",
              "      fill: #D2E3FC;\n",
              "    }\n",
              "\n",
              "    [theme=dark] .colab-df-convert:hover {\n",
              "      background-color: #434B5C;\n",
              "      box-shadow: 0px 1px 3px 1px rgba(0, 0, 0, 0.15);\n",
              "      filter: drop-shadow(0px 1px 2px rgba(0, 0, 0, 0.3));\n",
              "      fill: #FFFFFF;\n",
              "    }\n",
              "  </style>\n",
              "\n",
              "      <script>\n",
              "        const buttonEl =\n",
              "          document.querySelector('#df-a8ef1224-16fd-4824-bf69-635a02bfbfee button.colab-df-convert');\n",
              "        buttonEl.style.display =\n",
              "          google.colab.kernel.accessAllowed ? 'block' : 'none';\n",
              "\n",
              "        async function convertToInteractive(key) {\n",
              "          const element = document.querySelector('#df-a8ef1224-16fd-4824-bf69-635a02bfbfee');\n",
              "          const dataTable =\n",
              "            await google.colab.kernel.invokeFunction('convertToInteractive',\n",
              "                                                     [key], {});\n",
              "          if (!dataTable) return;\n",
              "\n",
              "          const docLinkHtml = 'Like what you see? Visit the ' +\n",
              "            '<a target=\"_blank\" href=https://colab.research.google.com/notebooks/data_table.ipynb>data table notebook</a>'\n",
              "            + ' to learn more about interactive tables.';\n",
              "          element.innerHTML = '';\n",
              "          dataTable['output_type'] = 'display_data';\n",
              "          await google.colab.output.renderOutput(dataTable, element);\n",
              "          const docLink = document.createElement('div');\n",
              "          docLink.innerHTML = docLinkHtml;\n",
              "          element.appendChild(docLink);\n",
              "        }\n",
              "      </script>\n",
              "    </div>\n",
              "  </div>\n",
              "  "
            ]
          },
          "metadata": {},
          "execution_count": 6
        }
      ]
    },
    {
      "cell_type": "markdown",
      "source": [
        "# Prepare methoed for sumulation"
      ],
      "metadata": {
        "id": "NPT9DZ6ebqbk"
      }
    },
    {
      "cell_type": "code",
      "source": [
        "class PipeData:\n",
        "    def __init__(self):\n",
        "        self.flow_turn_sign = []\n",
        "        self.flow_turns = []\n",
        "        self.peak_depth = []        # maksymalna wysokość napełnienia kanału [m]\n",
        "        self.peak_flow = []         # maksymaly przepływ [m3/s]\n",
        "        self.peak_flow_date = []\n",
        "        self.peak_velocity = []     # maksymalna prędkość przepływu [m/s]\n",
        "        self.time_capacity_limited = []\n",
        "        self.time_courant_crit = []\n",
        "        self.time_full_downstream = []\n",
        "        self.time_full_flow = []\n",
        "        self.time_full_upstream = []\n",
        "        self.time_normal_flow = []\n",
        "\n",
        "class CatchmentData:\n",
        "    def __init__(self):\n",
        "        self.runoff = []\n",
        "        self.peak_runoff_rate = []\n",
        "        self.infiltration = []\n",
        "        self.evaporation = []\n",
        "        self.slope = []\n",
        "        # self.percent_impervious = []\n",
        "        # self.area = []\n",
        "\n",
        "\n",
        "class Analyse:\n",
        "    def __init__(self, file_path='example.inp'):\n",
        "        self.pipe_data = PipeData()\n",
        "        self.catchment_data = CatchmentData()\n",
        "        self._file_path = file_path\n",
        "\n",
        "    def show_subcatchment(self):\n",
        "        with Simulation(self._file_path) as sim:\n",
        "            return [subcatchment.subcatchmentid for subcatchment in Subcatchments(sim)]\n",
        "\n",
        "    def show_conduits(self):\n",
        "        with Simulation(self._file_path) as sim:\n",
        "            return [conduit.linkid for conduit in Links(sim)]\n",
        "\n",
        "    def save_model(self):\n",
        "        # pyswmm not allow to manage diameter of pipe \n",
        "        # this is why it is nessesary to use swmmio \n",
        "        # to overide model data (max. depth - pipe diameter)\n",
        "        pass\n",
        "\n",
        "    def overide_diameter(self):\n",
        "        pass\n",
        "    \n",
        "    def analyse(self, conduit_id=None, subcatchment_id=None, min_slope=0.1, max_slope=100, step=0.1):\n",
        "        iterator = []\n",
        "        counter = min_slope\n",
        "        while counter < max_slope:\n",
        "            counter += step\n",
        "            iterator.append(counter)\n",
        "        for area in range(1, 11, 1):\n",
        "            for slope in iterator:\n",
        "                for imprevious in iterator:\n",
        "                    with Simulation(self._file_path) as sim:\n",
        "                        catchment = Subcatchments(sim)[subcatchment_id]\n",
        "                        conduit = Links(sim)[conduit_id]\n",
        "                        catchment.slope = slope\n",
        "                        catchment.percent_impervious = imprevious\n",
        "                        catchment.area = area\n",
        "                        self.catchment_data.slope.append(slope)\n",
        "                        self.catchment_data.percent_impervious.append(imprevious) \n",
        "                        self.catchment_data.area.append(area)\n",
        "                        for _ in sim:\n",
        "                            pass\n",
        "                        catchment_stats = catchment.statistics\n",
        "                        conduit_stats = conduit.conduit_statistics\n",
        "                        try:\n",
        "                            for key in vars(self.catchment_data):\n",
        "                                getattr(self.catchment_data, key).append(catchment_stats[key])\n",
        "                        except KeyError:\n",
        "                            pass\n",
        "                        try:\n",
        "                            for key in vars(self.pipe_data):\n",
        "                                getattr(self.pipe_data, key).append(conduit_stats[key])\n",
        "                        except KeyError:\n",
        "                            pass\n",
        "            print(f\"loop: {area}\")\n",
        "        return None\n",
        "\n",
        "    def slope_simulation(self, conduit_id=None, subcatchment_id=None, min_slope=1, max_slope=101, step=1):\n",
        "        min_slope, max_slope, step = min_slope / 100, max_slope / 100, step / 100\n",
        "        counter = min_slope\n",
        "        while counter < max_slope:\n",
        "            with Simulation(self._file_path) as sim:\n",
        "                conduit = Links(sim)[conduit_id]\n",
        "                catchment = Subcatchments(sim)[subcatchment_id]\n",
        "                catchment.slope = counter\n",
        "                for _ in sim:\n",
        "                    pass\n",
        "                conduit_stats = conduit.conduit_statistics\n",
        "                catchment_stats = catchment.statistics\n",
        "                try:\n",
        "                    for key in vars(self.catchment_data):\n",
        "                        getattr(self.catchment_data, key).append(catchment_stats[key])\n",
        "                except KeyError:\n",
        "                    pass\n",
        "                try:\n",
        "                    for key in vars(self.pipe_data):\n",
        "                        getattr(self.pipe_data, key).append(conduit_stats[key])\n",
        "                except KeyError:\n",
        "                    pass\n",
        "                self.catchment_data.slope.append(counter * 100)\n",
        "                counter += step\n",
        "        return None"
      ],
      "metadata": {
        "id": "3mDndjd3bvUO"
      },
      "execution_count": 48,
      "outputs": []
    },
    {
      "cell_type": "markdown",
      "source": [
        "# Do simulation"
      ],
      "metadata": {
        "id": "ygv88DbVfooe"
      }
    },
    {
      "cell_type": "code",
      "source": [
        "slope_analyse = Analyse()\n",
        "slope_analyse.slope_simulation(\"C3\", \"S1\")"
      ],
      "metadata": {
        "id": "YSPSc6LYfFyr"
      },
      "execution_count": 49,
      "outputs": []
    },
    {
      "cell_type": "code",
      "source": [
        "for key, value in vars(slope_analyse.catchment_data).items():\n",
        "    print(f\"key: {key}, vals: {len(value)}\")"
      ],
      "metadata": {
        "id": "ipBe-PFaj54O",
        "outputId": "9aedd6a0-1cb8-4e73-af86-77af8b93e30c",
        "colab": {
          "base_uri": "https://localhost:8080/"
        }
      },
      "execution_count": 50,
      "outputs": [
        {
          "output_type": "stream",
          "name": "stdout",
          "text": [
            "key: runoff, vals: 100\n",
            "key: peak_runoff_rate, vals: 100\n",
            "key: infiltration, vals: 100\n",
            "key: evaporation, vals: 100\n",
            "key: slope, vals: 100\n"
          ]
        }
      ]
    },
    {
      "cell_type": "markdown",
      "source": [
        "# Prepare dataframe\n",
        "\n"
      ],
      "metadata": {
        "id": "xL_ZYZXpgMnz"
      }
    },
    {
      "cell_type": "code",
      "source": [
        "data = {**vars(slope_analyse.pipe_data), **vars(slope_analyse.catchment_data)}\n",
        "df_raw = pd.DataFrame(data=data)"
      ],
      "metadata": {
        "id": "hytIygY_hPrV"
      },
      "execution_count": 51,
      "outputs": []
    },
    {
      "cell_type": "markdown",
      "source": [
        "# Data for work"
      ],
      "metadata": {
        "id": "eArUgTQmkC_X"
      }
    },
    {
      "cell_type": "code",
      "source": [
        "df = df_raw.copy()\n",
        "df.info()"
      ],
      "metadata": {
        "id": "K5H4Gl5lkGwn",
        "outputId": "fd7e6b91-2443-4c72-f665-0064b2ba6a70",
        "colab": {
          "base_uri": "https://localhost:8080/"
        }
      },
      "execution_count": 52,
      "outputs": [
        {
          "output_type": "stream",
          "name": "stdout",
          "text": [
            "<class 'pandas.core.frame.DataFrame'>\n",
            "RangeIndex: 100 entries, 0 to 99\n",
            "Data columns (total 17 columns):\n",
            " #   Column                 Non-Null Count  Dtype  \n",
            "---  ------                 --------------  -----  \n",
            " 0   flow_turn_sign         100 non-null    int64  \n",
            " 1   flow_turns             100 non-null    int64  \n",
            " 2   peak_depth             100 non-null    float64\n",
            " 3   peak_flow              100 non-null    float64\n",
            " 4   peak_flow_date         100 non-null    float64\n",
            " 5   peak_velocity          100 non-null    float64\n",
            " 6   time_capacity_limited  100 non-null    float64\n",
            " 7   time_courant_crit      100 non-null    float64\n",
            " 8   time_full_downstream   100 non-null    float64\n",
            " 9   time_full_flow         100 non-null    float64\n",
            " 10  time_full_upstream     100 non-null    float64\n",
            " 11  time_normal_flow       100 non-null    float64\n",
            " 12  runoff                 100 non-null    float64\n",
            " 13  peak_runoff_rate       100 non-null    float64\n",
            " 14  infiltration           100 non-null    float64\n",
            " 15  evaporation            100 non-null    float64\n",
            " 16  slope                  100 non-null    float64\n",
            "dtypes: float64(15), int64(2)\n",
            "memory usage: 13.4 KB\n"
          ]
        }
      ]
    },
    {
      "cell_type": "code",
      "source": [
        "df.head()"
      ],
      "metadata": {
        "id": "6gU-OFN2n5Eq",
        "outputId": "7c526018-6df2-449a-9b6e-a9fb2e546a4d",
        "colab": {
          "base_uri": "https://localhost:8080/",
          "height": 236
        }
      },
      "execution_count": 53,
      "outputs": [
        {
          "output_type": "execute_result",
          "data": {
            "text/plain": [
              "   flow_turn_sign  flow_turns  ...  evaporation  slope\n",
              "0              -1         333  ...          0.0    1.0\n",
              "1              -1         303  ...          0.0    2.0\n",
              "2               1         287  ...          0.0    3.0\n",
              "3               1         279  ...          0.0    4.0\n",
              "4               1         239  ...          0.0    5.0\n",
              "\n",
              "[5 rows x 17 columns]"
            ],
            "text/html": [
              "\n",
              "  <div id=\"df-b7f93d0f-5583-4a0f-ad6d-97366dc5b833\">\n",
              "    <div class=\"colab-df-container\">\n",
              "      <div>\n",
              "<style scoped>\n",
              "    .dataframe tbody tr th:only-of-type {\n",
              "        vertical-align: middle;\n",
              "    }\n",
              "\n",
              "    .dataframe tbody tr th {\n",
              "        vertical-align: top;\n",
              "    }\n",
              "\n",
              "    .dataframe thead th {\n",
              "        text-align: right;\n",
              "    }\n",
              "</style>\n",
              "<table border=\"1\" class=\"dataframe\">\n",
              "  <thead>\n",
              "    <tr style=\"text-align: right;\">\n",
              "      <th></th>\n",
              "      <th>flow_turn_sign</th>\n",
              "      <th>flow_turns</th>\n",
              "      <th>...</th>\n",
              "      <th>evaporation</th>\n",
              "      <th>slope</th>\n",
              "    </tr>\n",
              "  </thead>\n",
              "  <tbody>\n",
              "    <tr>\n",
              "      <th>0</th>\n",
              "      <td>-1</td>\n",
              "      <td>333</td>\n",
              "      <td>...</td>\n",
              "      <td>0.0</td>\n",
              "      <td>1.0</td>\n",
              "    </tr>\n",
              "    <tr>\n",
              "      <th>1</th>\n",
              "      <td>-1</td>\n",
              "      <td>303</td>\n",
              "      <td>...</td>\n",
              "      <td>0.0</td>\n",
              "      <td>2.0</td>\n",
              "    </tr>\n",
              "    <tr>\n",
              "      <th>2</th>\n",
              "      <td>1</td>\n",
              "      <td>287</td>\n",
              "      <td>...</td>\n",
              "      <td>0.0</td>\n",
              "      <td>3.0</td>\n",
              "    </tr>\n",
              "    <tr>\n",
              "      <th>3</th>\n",
              "      <td>1</td>\n",
              "      <td>279</td>\n",
              "      <td>...</td>\n",
              "      <td>0.0</td>\n",
              "      <td>4.0</td>\n",
              "    </tr>\n",
              "    <tr>\n",
              "      <th>4</th>\n",
              "      <td>1</td>\n",
              "      <td>239</td>\n",
              "      <td>...</td>\n",
              "      <td>0.0</td>\n",
              "      <td>5.0</td>\n",
              "    </tr>\n",
              "  </tbody>\n",
              "</table>\n",
              "<p>5 rows × 17 columns</p>\n",
              "</div>\n",
              "      <button class=\"colab-df-convert\" onclick=\"convertToInteractive('df-b7f93d0f-5583-4a0f-ad6d-97366dc5b833')\"\n",
              "              title=\"Convert this dataframe to an interactive table.\"\n",
              "              style=\"display:none;\">\n",
              "        \n",
              "  <svg xmlns=\"http://www.w3.org/2000/svg\" height=\"24px\"viewBox=\"0 0 24 24\"\n",
              "       width=\"24px\">\n",
              "    <path d=\"M0 0h24v24H0V0z\" fill=\"none\"/>\n",
              "    <path d=\"M18.56 5.44l.94 2.06.94-2.06 2.06-.94-2.06-.94-.94-2.06-.94 2.06-2.06.94zm-11 1L8.5 8.5l.94-2.06 2.06-.94-2.06-.94L8.5 2.5l-.94 2.06-2.06.94zm10 10l.94 2.06.94-2.06 2.06-.94-2.06-.94-.94-2.06-.94 2.06-2.06.94z\"/><path d=\"M17.41 7.96l-1.37-1.37c-.4-.4-.92-.59-1.43-.59-.52 0-1.04.2-1.43.59L10.3 9.45l-7.72 7.72c-.78.78-.78 2.05 0 2.83L4 21.41c.39.39.9.59 1.41.59.51 0 1.02-.2 1.41-.59l7.78-7.78 2.81-2.81c.8-.78.8-2.07 0-2.86zM5.41 20L4 18.59l7.72-7.72 1.47 1.35L5.41 20z\"/>\n",
              "  </svg>\n",
              "      </button>\n",
              "      \n",
              "  <style>\n",
              "    .colab-df-container {\n",
              "      display:flex;\n",
              "      flex-wrap:wrap;\n",
              "      gap: 12px;\n",
              "    }\n",
              "\n",
              "    .colab-df-convert {\n",
              "      background-color: #E8F0FE;\n",
              "      border: none;\n",
              "      border-radius: 50%;\n",
              "      cursor: pointer;\n",
              "      display: none;\n",
              "      fill: #1967D2;\n",
              "      height: 32px;\n",
              "      padding: 0 0 0 0;\n",
              "      width: 32px;\n",
              "    }\n",
              "\n",
              "    .colab-df-convert:hover {\n",
              "      background-color: #E2EBFA;\n",
              "      box-shadow: 0px 1px 2px rgba(60, 64, 67, 0.3), 0px 1px 3px 1px rgba(60, 64, 67, 0.15);\n",
              "      fill: #174EA6;\n",
              "    }\n",
              "\n",
              "    [theme=dark] .colab-df-convert {\n",
              "      background-color: #3B4455;\n",
              "      fill: #D2E3FC;\n",
              "    }\n",
              "\n",
              "    [theme=dark] .colab-df-convert:hover {\n",
              "      background-color: #434B5C;\n",
              "      box-shadow: 0px 1px 3px 1px rgba(0, 0, 0, 0.15);\n",
              "      filter: drop-shadow(0px 1px 2px rgba(0, 0, 0, 0.3));\n",
              "      fill: #FFFFFF;\n",
              "    }\n",
              "  </style>\n",
              "\n",
              "      <script>\n",
              "        const buttonEl =\n",
              "          document.querySelector('#df-b7f93d0f-5583-4a0f-ad6d-97366dc5b833 button.colab-df-convert');\n",
              "        buttonEl.style.display =\n",
              "          google.colab.kernel.accessAllowed ? 'block' : 'none';\n",
              "\n",
              "        async function convertToInteractive(key) {\n",
              "          const element = document.querySelector('#df-b7f93d0f-5583-4a0f-ad6d-97366dc5b833');\n",
              "          const dataTable =\n",
              "            await google.colab.kernel.invokeFunction('convertToInteractive',\n",
              "                                                     [key], {});\n",
              "          if (!dataTable) return;\n",
              "\n",
              "          const docLinkHtml = 'Like what you see? Visit the ' +\n",
              "            '<a target=\"_blank\" href=https://colab.research.google.com/notebooks/data_table.ipynb>data table notebook</a>'\n",
              "            + ' to learn more about interactive tables.';\n",
              "          element.innerHTML = '';\n",
              "          dataTable['output_type'] = 'display_data';\n",
              "          await google.colab.output.renderOutput(dataTable, element);\n",
              "          const docLink = document.createElement('div');\n",
              "          docLink.innerHTML = docLinkHtml;\n",
              "          element.appendChild(docLink);\n",
              "        }\n",
              "      </script>\n",
              "    </div>\n",
              "  </div>\n",
              "  "
            ]
          },
          "metadata": {},
          "execution_count": 53
        }
      ]
    },
    {
      "cell_type": "code",
      "source": [
        "df.shape"
      ],
      "metadata": {
        "id": "KDBk-3yFkLcP",
        "outputId": "27aa9b15-61b9-442c-8b59-169a0c50efb5",
        "colab": {
          "base_uri": "https://localhost:8080/"
        }
      },
      "execution_count": 54,
      "outputs": [
        {
          "output_type": "execute_result",
          "data": {
            "text/plain": [
              "(100, 17)"
            ]
          },
          "metadata": {},
          "execution_count": 54
        }
      ]
    },
    {
      "cell_type": "code",
      "source": [
        "df.describe().T"
      ],
      "metadata": {
        "id": "NbdhCYekkTSq",
        "outputId": "fcde86e3-7df5-4e7f-8425-0e4ca2178be4",
        "colab": {
          "base_uri": "https://localhost:8080/",
          "height": 612
        }
      },
      "execution_count": 55,
      "outputs": [
        {
          "output_type": "execute_result",
          "data": {
            "text/plain": [
              "                       count          mean  ...           75%           max\n",
              "flow_turn_sign         100.0      0.620000  ...      1.000000      1.000000\n",
              "flow_turns             100.0    205.840000  ...    205.000000    333.000000\n",
              "peak_depth             100.0      0.622650  ...      0.623468      0.623473\n",
              "peak_flow              100.0      1.538946  ...      1.542300      1.542330\n",
              "peak_flow_date         100.0  44729.041645  ...  44729.041707  44729.041854\n",
              "peak_velocity          100.0      3.045202  ...      3.048559      3.049826\n",
              "time_capacity_limited  100.0      0.000000  ...      0.000000      0.000000\n",
              "time_courant_crit      100.0      0.034258  ...      0.037778      0.038056\n",
              "time_full_downstream   100.0      0.000000  ...      0.000000      0.000000\n",
              "time_full_flow         100.0      0.225488  ...      0.246109      0.254155\n",
              "time_full_upstream     100.0      0.000000  ...      0.000000      0.000000\n",
              "time_normal_flow       100.0      1.662692  ...      2.167462      2.435368\n",
              "runoff                 100.0   2476.783917  ...   2485.359461   2487.990908\n",
              "peak_runoff_rate       100.0      1.376780  ...      1.379321      1.379372\n",
              "infiltration           100.0     58.531387  ...     60.445566    103.467489\n",
              "evaporation            100.0      0.000000  ...      0.000000      0.000000\n",
              "slope                  100.0     50.500000  ...     75.250000    100.000000\n",
              "\n",
              "[17 rows x 8 columns]"
            ],
            "text/html": [
              "\n",
              "  <div id=\"df-32561475-c31e-4dd9-a821-d0e807064d4c\">\n",
              "    <div class=\"colab-df-container\">\n",
              "      <div>\n",
              "<style scoped>\n",
              "    .dataframe tbody tr th:only-of-type {\n",
              "        vertical-align: middle;\n",
              "    }\n",
              "\n",
              "    .dataframe tbody tr th {\n",
              "        vertical-align: top;\n",
              "    }\n",
              "\n",
              "    .dataframe thead th {\n",
              "        text-align: right;\n",
              "    }\n",
              "</style>\n",
              "<table border=\"1\" class=\"dataframe\">\n",
              "  <thead>\n",
              "    <tr style=\"text-align: right;\">\n",
              "      <th></th>\n",
              "      <th>count</th>\n",
              "      <th>mean</th>\n",
              "      <th>...</th>\n",
              "      <th>75%</th>\n",
              "      <th>max</th>\n",
              "    </tr>\n",
              "  </thead>\n",
              "  <tbody>\n",
              "    <tr>\n",
              "      <th>flow_turn_sign</th>\n",
              "      <td>100.0</td>\n",
              "      <td>0.620000</td>\n",
              "      <td>...</td>\n",
              "      <td>1.000000</td>\n",
              "      <td>1.000000</td>\n",
              "    </tr>\n",
              "    <tr>\n",
              "      <th>flow_turns</th>\n",
              "      <td>100.0</td>\n",
              "      <td>205.840000</td>\n",
              "      <td>...</td>\n",
              "      <td>205.000000</td>\n",
              "      <td>333.000000</td>\n",
              "    </tr>\n",
              "    <tr>\n",
              "      <th>peak_depth</th>\n",
              "      <td>100.0</td>\n",
              "      <td>0.622650</td>\n",
              "      <td>...</td>\n",
              "      <td>0.623468</td>\n",
              "      <td>0.623473</td>\n",
              "    </tr>\n",
              "    <tr>\n",
              "      <th>peak_flow</th>\n",
              "      <td>100.0</td>\n",
              "      <td>1.538946</td>\n",
              "      <td>...</td>\n",
              "      <td>1.542300</td>\n",
              "      <td>1.542330</td>\n",
              "    </tr>\n",
              "    <tr>\n",
              "      <th>peak_flow_date</th>\n",
              "      <td>100.0</td>\n",
              "      <td>44729.041645</td>\n",
              "      <td>...</td>\n",
              "      <td>44729.041707</td>\n",
              "      <td>44729.041854</td>\n",
              "    </tr>\n",
              "    <tr>\n",
              "      <th>peak_velocity</th>\n",
              "      <td>100.0</td>\n",
              "      <td>3.045202</td>\n",
              "      <td>...</td>\n",
              "      <td>3.048559</td>\n",
              "      <td>3.049826</td>\n",
              "    </tr>\n",
              "    <tr>\n",
              "      <th>time_capacity_limited</th>\n",
              "      <td>100.0</td>\n",
              "      <td>0.000000</td>\n",
              "      <td>...</td>\n",
              "      <td>0.000000</td>\n",
              "      <td>0.000000</td>\n",
              "    </tr>\n",
              "    <tr>\n",
              "      <th>time_courant_crit</th>\n",
              "      <td>100.0</td>\n",
              "      <td>0.034258</td>\n",
              "      <td>...</td>\n",
              "      <td>0.037778</td>\n",
              "      <td>0.038056</td>\n",
              "    </tr>\n",
              "    <tr>\n",
              "      <th>time_full_downstream</th>\n",
              "      <td>100.0</td>\n",
              "      <td>0.000000</td>\n",
              "      <td>...</td>\n",
              "      <td>0.000000</td>\n",
              "      <td>0.000000</td>\n",
              "    </tr>\n",
              "    <tr>\n",
              "      <th>time_full_flow</th>\n",
              "      <td>100.0</td>\n",
              "      <td>0.225488</td>\n",
              "      <td>...</td>\n",
              "      <td>0.246109</td>\n",
              "      <td>0.254155</td>\n",
              "    </tr>\n",
              "    <tr>\n",
              "      <th>time_full_upstream</th>\n",
              "      <td>100.0</td>\n",
              "      <td>0.000000</td>\n",
              "      <td>...</td>\n",
              "      <td>0.000000</td>\n",
              "      <td>0.000000</td>\n",
              "    </tr>\n",
              "    <tr>\n",
              "      <th>time_normal_flow</th>\n",
              "      <td>100.0</td>\n",
              "      <td>1.662692</td>\n",
              "      <td>...</td>\n",
              "      <td>2.167462</td>\n",
              "      <td>2.435368</td>\n",
              "    </tr>\n",
              "    <tr>\n",
              "      <th>runoff</th>\n",
              "      <td>100.0</td>\n",
              "      <td>2476.783917</td>\n",
              "      <td>...</td>\n",
              "      <td>2485.359461</td>\n",
              "      <td>2487.990908</td>\n",
              "    </tr>\n",
              "    <tr>\n",
              "      <th>peak_runoff_rate</th>\n",
              "      <td>100.0</td>\n",
              "      <td>1.376780</td>\n",
              "      <td>...</td>\n",
              "      <td>1.379321</td>\n",
              "      <td>1.379372</td>\n",
              "    </tr>\n",
              "    <tr>\n",
              "      <th>infiltration</th>\n",
              "      <td>100.0</td>\n",
              "      <td>58.531387</td>\n",
              "      <td>...</td>\n",
              "      <td>60.445566</td>\n",
              "      <td>103.467489</td>\n",
              "    </tr>\n",
              "    <tr>\n",
              "      <th>evaporation</th>\n",
              "      <td>100.0</td>\n",
              "      <td>0.000000</td>\n",
              "      <td>...</td>\n",
              "      <td>0.000000</td>\n",
              "      <td>0.000000</td>\n",
              "    </tr>\n",
              "    <tr>\n",
              "      <th>slope</th>\n",
              "      <td>100.0</td>\n",
              "      <td>50.500000</td>\n",
              "      <td>...</td>\n",
              "      <td>75.250000</td>\n",
              "      <td>100.000000</td>\n",
              "    </tr>\n",
              "  </tbody>\n",
              "</table>\n",
              "<p>17 rows × 8 columns</p>\n",
              "</div>\n",
              "      <button class=\"colab-df-convert\" onclick=\"convertToInteractive('df-32561475-c31e-4dd9-a821-d0e807064d4c')\"\n",
              "              title=\"Convert this dataframe to an interactive table.\"\n",
              "              style=\"display:none;\">\n",
              "        \n",
              "  <svg xmlns=\"http://www.w3.org/2000/svg\" height=\"24px\"viewBox=\"0 0 24 24\"\n",
              "       width=\"24px\">\n",
              "    <path d=\"M0 0h24v24H0V0z\" fill=\"none\"/>\n",
              "    <path d=\"M18.56 5.44l.94 2.06.94-2.06 2.06-.94-2.06-.94-.94-2.06-.94 2.06-2.06.94zm-11 1L8.5 8.5l.94-2.06 2.06-.94-2.06-.94L8.5 2.5l-.94 2.06-2.06.94zm10 10l.94 2.06.94-2.06 2.06-.94-2.06-.94-.94-2.06-.94 2.06-2.06.94z\"/><path d=\"M17.41 7.96l-1.37-1.37c-.4-.4-.92-.59-1.43-.59-.52 0-1.04.2-1.43.59L10.3 9.45l-7.72 7.72c-.78.78-.78 2.05 0 2.83L4 21.41c.39.39.9.59 1.41.59.51 0 1.02-.2 1.41-.59l7.78-7.78 2.81-2.81c.8-.78.8-2.07 0-2.86zM5.41 20L4 18.59l7.72-7.72 1.47 1.35L5.41 20z\"/>\n",
              "  </svg>\n",
              "      </button>\n",
              "      \n",
              "  <style>\n",
              "    .colab-df-container {\n",
              "      display:flex;\n",
              "      flex-wrap:wrap;\n",
              "      gap: 12px;\n",
              "    }\n",
              "\n",
              "    .colab-df-convert {\n",
              "      background-color: #E8F0FE;\n",
              "      border: none;\n",
              "      border-radius: 50%;\n",
              "      cursor: pointer;\n",
              "      display: none;\n",
              "      fill: #1967D2;\n",
              "      height: 32px;\n",
              "      padding: 0 0 0 0;\n",
              "      width: 32px;\n",
              "    }\n",
              "\n",
              "    .colab-df-convert:hover {\n",
              "      background-color: #E2EBFA;\n",
              "      box-shadow: 0px 1px 2px rgba(60, 64, 67, 0.3), 0px 1px 3px 1px rgba(60, 64, 67, 0.15);\n",
              "      fill: #174EA6;\n",
              "    }\n",
              "\n",
              "    [theme=dark] .colab-df-convert {\n",
              "      background-color: #3B4455;\n",
              "      fill: #D2E3FC;\n",
              "    }\n",
              "\n",
              "    [theme=dark] .colab-df-convert:hover {\n",
              "      background-color: #434B5C;\n",
              "      box-shadow: 0px 1px 3px 1px rgba(0, 0, 0, 0.15);\n",
              "      filter: drop-shadow(0px 1px 2px rgba(0, 0, 0, 0.3));\n",
              "      fill: #FFFFFF;\n",
              "    }\n",
              "  </style>\n",
              "\n",
              "      <script>\n",
              "        const buttonEl =\n",
              "          document.querySelector('#df-32561475-c31e-4dd9-a821-d0e807064d4c button.colab-df-convert');\n",
              "        buttonEl.style.display =\n",
              "          google.colab.kernel.accessAllowed ? 'block' : 'none';\n",
              "\n",
              "        async function convertToInteractive(key) {\n",
              "          const element = document.querySelector('#df-32561475-c31e-4dd9-a821-d0e807064d4c');\n",
              "          const dataTable =\n",
              "            await google.colab.kernel.invokeFunction('convertToInteractive',\n",
              "                                                     [key], {});\n",
              "          if (!dataTable) return;\n",
              "\n",
              "          const docLinkHtml = 'Like what you see? Visit the ' +\n",
              "            '<a target=\"_blank\" href=https://colab.research.google.com/notebooks/data_table.ipynb>data table notebook</a>'\n",
              "            + ' to learn more about interactive tables.';\n",
              "          element.innerHTML = '';\n",
              "          dataTable['output_type'] = 'display_data';\n",
              "          await google.colab.output.renderOutput(dataTable, element);\n",
              "          const docLink = document.createElement('div');\n",
              "          docLink.innerHTML = docLinkHtml;\n",
              "          element.appendChild(docLink);\n",
              "        }\n",
              "      </script>\n",
              "    </div>\n",
              "  </div>\n",
              "  "
            ]
          },
          "metadata": {},
          "execution_count": 55
        }
      ]
    },
    {
      "cell_type": "markdown",
      "source": [
        "# Remove unused columns"
      ],
      "metadata": {
        "id": "jKzrHV8Sk3S_"
      }
    },
    {
      "cell_type": "code",
      "source": [
        "df.drop(columns=['flow_turn_sign', 'flow_turns', 'time_capacity_limited', 'time_courant_crit', 'time_full_downstream', 'time_full_upstream'], axis=1, inplace=True)\n",
        "df.head()"
      ],
      "metadata": {
        "id": "BFbMLCxvjtlu",
        "outputId": "5acfccd0-9e04-42c2-fa15-528ee0da20bc",
        "colab": {
          "base_uri": "https://localhost:8080/",
          "height": 236
        }
      },
      "execution_count": 56,
      "outputs": [
        {
          "output_type": "execute_result",
          "data": {
            "text/plain": [
              "   peak_depth  peak_flow  ...  evaporation  slope\n",
              "0    0.594745   1.426818  ...          0.0    1.0\n",
              "1    0.609481   1.485377  ...          0.0    2.0\n",
              "2    0.615045   1.509378  ...          0.0    3.0\n",
              "3    0.618000   1.518762  ...          0.0    4.0\n",
              "4    0.619274   1.526106  ...          0.0    5.0\n",
              "\n",
              "[5 rows x 11 columns]"
            ],
            "text/html": [
              "\n",
              "  <div id=\"df-60e0219d-13a9-4f96-afb2-e54b35eef0a0\">\n",
              "    <div class=\"colab-df-container\">\n",
              "      <div>\n",
              "<style scoped>\n",
              "    .dataframe tbody tr th:only-of-type {\n",
              "        vertical-align: middle;\n",
              "    }\n",
              "\n",
              "    .dataframe tbody tr th {\n",
              "        vertical-align: top;\n",
              "    }\n",
              "\n",
              "    .dataframe thead th {\n",
              "        text-align: right;\n",
              "    }\n",
              "</style>\n",
              "<table border=\"1\" class=\"dataframe\">\n",
              "  <thead>\n",
              "    <tr style=\"text-align: right;\">\n",
              "      <th></th>\n",
              "      <th>peak_depth</th>\n",
              "      <th>peak_flow</th>\n",
              "      <th>...</th>\n",
              "      <th>evaporation</th>\n",
              "      <th>slope</th>\n",
              "    </tr>\n",
              "  </thead>\n",
              "  <tbody>\n",
              "    <tr>\n",
              "      <th>0</th>\n",
              "      <td>0.594745</td>\n",
              "      <td>1.426818</td>\n",
              "      <td>...</td>\n",
              "      <td>0.0</td>\n",
              "      <td>1.0</td>\n",
              "    </tr>\n",
              "    <tr>\n",
              "      <th>1</th>\n",
              "      <td>0.609481</td>\n",
              "      <td>1.485377</td>\n",
              "      <td>...</td>\n",
              "      <td>0.0</td>\n",
              "      <td>2.0</td>\n",
              "    </tr>\n",
              "    <tr>\n",
              "      <th>2</th>\n",
              "      <td>0.615045</td>\n",
              "      <td>1.509378</td>\n",
              "      <td>...</td>\n",
              "      <td>0.0</td>\n",
              "      <td>3.0</td>\n",
              "    </tr>\n",
              "    <tr>\n",
              "      <th>3</th>\n",
              "      <td>0.618000</td>\n",
              "      <td>1.518762</td>\n",
              "      <td>...</td>\n",
              "      <td>0.0</td>\n",
              "      <td>4.0</td>\n",
              "    </tr>\n",
              "    <tr>\n",
              "      <th>4</th>\n",
              "      <td>0.619274</td>\n",
              "      <td>1.526106</td>\n",
              "      <td>...</td>\n",
              "      <td>0.0</td>\n",
              "      <td>5.0</td>\n",
              "    </tr>\n",
              "  </tbody>\n",
              "</table>\n",
              "<p>5 rows × 11 columns</p>\n",
              "</div>\n",
              "      <button class=\"colab-df-convert\" onclick=\"convertToInteractive('df-60e0219d-13a9-4f96-afb2-e54b35eef0a0')\"\n",
              "              title=\"Convert this dataframe to an interactive table.\"\n",
              "              style=\"display:none;\">\n",
              "        \n",
              "  <svg xmlns=\"http://www.w3.org/2000/svg\" height=\"24px\"viewBox=\"0 0 24 24\"\n",
              "       width=\"24px\">\n",
              "    <path d=\"M0 0h24v24H0V0z\" fill=\"none\"/>\n",
              "    <path d=\"M18.56 5.44l.94 2.06.94-2.06 2.06-.94-2.06-.94-.94-2.06-.94 2.06-2.06.94zm-11 1L8.5 8.5l.94-2.06 2.06-.94-2.06-.94L8.5 2.5l-.94 2.06-2.06.94zm10 10l.94 2.06.94-2.06 2.06-.94-2.06-.94-.94-2.06-.94 2.06-2.06.94z\"/><path d=\"M17.41 7.96l-1.37-1.37c-.4-.4-.92-.59-1.43-.59-.52 0-1.04.2-1.43.59L10.3 9.45l-7.72 7.72c-.78.78-.78 2.05 0 2.83L4 21.41c.39.39.9.59 1.41.59.51 0 1.02-.2 1.41-.59l7.78-7.78 2.81-2.81c.8-.78.8-2.07 0-2.86zM5.41 20L4 18.59l7.72-7.72 1.47 1.35L5.41 20z\"/>\n",
              "  </svg>\n",
              "      </button>\n",
              "      \n",
              "  <style>\n",
              "    .colab-df-container {\n",
              "      display:flex;\n",
              "      flex-wrap:wrap;\n",
              "      gap: 12px;\n",
              "    }\n",
              "\n",
              "    .colab-df-convert {\n",
              "      background-color: #E8F0FE;\n",
              "      border: none;\n",
              "      border-radius: 50%;\n",
              "      cursor: pointer;\n",
              "      display: none;\n",
              "      fill: #1967D2;\n",
              "      height: 32px;\n",
              "      padding: 0 0 0 0;\n",
              "      width: 32px;\n",
              "    }\n",
              "\n",
              "    .colab-df-convert:hover {\n",
              "      background-color: #E2EBFA;\n",
              "      box-shadow: 0px 1px 2px rgba(60, 64, 67, 0.3), 0px 1px 3px 1px rgba(60, 64, 67, 0.15);\n",
              "      fill: #174EA6;\n",
              "    }\n",
              "\n",
              "    [theme=dark] .colab-df-convert {\n",
              "      background-color: #3B4455;\n",
              "      fill: #D2E3FC;\n",
              "    }\n",
              "\n",
              "    [theme=dark] .colab-df-convert:hover {\n",
              "      background-color: #434B5C;\n",
              "      box-shadow: 0px 1px 3px 1px rgba(0, 0, 0, 0.15);\n",
              "      filter: drop-shadow(0px 1px 2px rgba(0, 0, 0, 0.3));\n",
              "      fill: #FFFFFF;\n",
              "    }\n",
              "  </style>\n",
              "\n",
              "      <script>\n",
              "        const buttonEl =\n",
              "          document.querySelector('#df-60e0219d-13a9-4f96-afb2-e54b35eef0a0 button.colab-df-convert');\n",
              "        buttonEl.style.display =\n",
              "          google.colab.kernel.accessAllowed ? 'block' : 'none';\n",
              "\n",
              "        async function convertToInteractive(key) {\n",
              "          const element = document.querySelector('#df-60e0219d-13a9-4f96-afb2-e54b35eef0a0');\n",
              "          const dataTable =\n",
              "            await google.colab.kernel.invokeFunction('convertToInteractive',\n",
              "                                                     [key], {});\n",
              "          if (!dataTable) return;\n",
              "\n",
              "          const docLinkHtml = 'Like what you see? Visit the ' +\n",
              "            '<a target=\"_blank\" href=https://colab.research.google.com/notebooks/data_table.ipynb>data table notebook</a>'\n",
              "            + ' to learn more about interactive tables.';\n",
              "          element.innerHTML = '';\n",
              "          dataTable['output_type'] = 'display_data';\n",
              "          await google.colab.output.renderOutput(dataTable, element);\n",
              "          const docLink = document.createElement('div');\n",
              "          docLink.innerHTML = docLinkHtml;\n",
              "          element.appendChild(docLink);\n",
              "        }\n",
              "      </script>\n",
              "    </div>\n",
              "  </div>\n",
              "  "
            ]
          },
          "metadata": {},
          "execution_count": 56
        }
      ]
    },
    {
      "cell_type": "code",
      "source": [
        "df.columns"
      ],
      "metadata": {
        "id": "enmmlZMWlDBo",
        "outputId": "202fe8f8-190c-458b-ee63-c4fe4901d2ff",
        "colab": {
          "base_uri": "https://localhost:8080/"
        }
      },
      "execution_count": 57,
      "outputs": [
        {
          "output_type": "execute_result",
          "data": {
            "text/plain": [
              "Index(['peak_depth', 'peak_flow', 'peak_flow_date', 'peak_velocity',\n",
              "       'time_full_flow', 'time_normal_flow', 'runoff', 'peak_runoff_rate',\n",
              "       'infiltration', 'evaporation', 'slope'],\n",
              "      dtype='object')"
            ]
          },
          "metadata": {},
          "execution_count": 57
        }
      ]
    },
    {
      "cell_type": "markdown",
      "source": [
        "# Subcatchments data output"
      ],
      "metadata": {
        "id": "gIFXvZA1j5mI"
      }
    },
    {
      "cell_type": "markdown",
      "source": [
        "## Dependence of runoff on subcatchment slope."
      ],
      "metadata": {
        "id": "6KC67i8Nj8n6"
      }
    },
    {
      "cell_type": "code",
      "source": [
        "# plt.xscale(\"log\")\n",
        "plt.rcParams[\"figure.figsize\"] = (10,5)\n",
        "plt.plot(df['slope'], df['runoff'])\n",
        "plt.title('Dependence of runoff on subcatchment slope / odpływ całkowity w funkcji spadku.')\n",
        "plt.xlabel('Slope [%]')\n",
        "plt.ylabel('Runoff [m3]')\n",
        "plt.grid(True)\n",
        "plt.show()"
      ],
      "metadata": {
        "id": "MXAsPOALh7_n",
        "outputId": "de814819-7ef6-46a5-f0d6-db4e60716086",
        "colab": {
          "base_uri": "https://localhost:8080/",
          "height": 350
        }
      },
      "execution_count": 58,
      "outputs": [
        {
          "output_type": "display_data",
          "data": {
            "text/plain": [
              "<Figure size 720x360 with 1 Axes>"
            ],
            "image/png": "[encoded data removed]"
          },
          "metadata": {
            "needs_background": "light"
          }
        }
      ]
    },
    {
      "cell_type": "markdown",
      "source": [
        "## Dependence of peak runoff rate on subcatchment slope"
      ],
      "metadata": {
        "id": "_fXoDkSqn3JW"
      }
    },
    {
      "cell_type": "code",
      "source": [
        "plt.xscale(\"log\")\n",
        "plt.rcParams[\"figure.figsize\"] = (10,5)\n",
        "plt.plot(df['slope'], df['peak_runoff_rate'])\n",
        "plt.title('Dependence of peak runoff rate on subcatchment slope / szczytowe tempo odpływu w funkcji spadku')\n",
        "plt.xlabel('Slope [%]')\n",
        "plt.ylabel('Peak runoff rate [m3/s]')\n",
        "plt.grid(True)\n",
        "plt.show()"
      ],
      "metadata": {
        "id": "toCscUvCn56Y",
        "outputId": "b6813eb0-0eea-4913-8291-26dbf14952c9",
        "colab": {
          "base_uri": "https://localhost:8080/",
          "height": 353
        }
      },
      "execution_count": 59,
      "outputs": [
        {
          "output_type": "display_data",
          "data": {
            "text/plain": [
              "<Figure size 720x360 with 1 Axes>"
            ],
            "image/png": "[encoded data removed]"
          },
          "metadata": {
            "needs_background": "light"
          }
        }
      ]
    },
    {
      "cell_type": "markdown",
      "source": [
        "## Dependence of infiltration on subcatchment slope"
      ],
      "metadata": {
        "id": "W1e0ALjYUWM9"
      }
    },
    {
      "cell_type": "code",
      "source": [
        "# plt.xscale(\"log\")\n",
        "plt.rcParams[\"figure.figsize\"] = (10,5)\n",
        "plt.plot(df['slope'], df['infiltration'])\n",
        "plt.title('Dependence of infiltration on subcatchment slope')\n",
        "plt.xlabel('Slope [%]')\n",
        "plt.ylabel('Infiltration [%]')\n",
        "plt.grid(True)\n",
        "plt.show()"
      ],
      "metadata": {
        "id": "su1_KBpJUZa5",
        "outputId": "9202215d-175b-403c-b2f6-f3910d8673a4",
        "colab": {
          "base_uri": "https://localhost:8080/",
          "height": 355
        }
      },
      "execution_count": 68,
      "outputs": [
        {
          "output_type": "display_data",
          "data": {
            "text/plain": [
              "<Figure size 720x360 with 1 Axes>"
            ],
            "image/png": "[encoded data removed]"
          },
          "metadata": {}
        }
      ]
    },
    {
      "cell_type": "markdown",
      "source": [
        "# Pipes data output"
      ],
      "metadata": {
        "id": "9T7yKPL7Qytb"
      }
    },
    {
      "cell_type": "markdown",
      "source": [
        "## Dependence of maximal flow on subcatchment slope."
      ],
      "metadata": {
        "id": "ElXwhINbiCUc"
      }
    },
    {
      "cell_type": "code",
      "source": [
        "# maksymaly przepływ [m3/s] w funkcji spadku terenu zlewni.\n",
        "plt.xscale(\"log\")\n",
        "plt.rcParams[\"figure.figsize\"] = (10,5)\n",
        "plt.plot(df['slope'], df['peak_flow'])\n",
        "plt.title('Dependence of peak flow on catchment slope')\n",
        "plt.xlabel('Slope [%]')\n",
        "plt.ylabel('Maximum flow [m3/s]')\n",
        "plt.grid(True)\n",
        "plt.show()"
      ],
      "metadata": {
        "id": "7Qd8h1q7o2Z6",
        "outputId": "5cab5fcb-9b65-4aac-b797-520e39369553",
        "colab": {
          "base_uri": "https://localhost:8080/",
          "height": 362
        }
      },
      "execution_count": 70,
      "outputs": [
        {
          "output_type": "display_data",
          "data": {
            "text/plain": [
              "<Figure size 720x360 with 1 Axes>"
            ],
            "image/png": "[encoded data removed]"
          },
          "metadata": {}
        }
      ]
    },
    {
      "cell_type": "markdown",
      "source": [
        "## Dependence of maximal velocity on subcatchment slope"
      ],
      "metadata": {
        "id": "-m1gj2Go7yn1"
      }
    },
    {
      "cell_type": "code",
      "source": [
        "# peak_velocity - maksymalna prędkość przepływu [m/s]\n",
        "plt.xscale(\"log\")\n",
        "plt.rcParams[\"figure.figsize\"] = (10,5)\n",
        "plt.plot(df['slope'], df['peak_velocity'])\n",
        "plt.title('Dependence of peak velocity on catchment slope')\n",
        "plt.xlabel('Slope [%]')\n",
        "plt.ylabel('Maximum velocity [m/s]')\n",
        "plt.grid(True)\n",
        "plt.show()"
      ],
      "metadata": {
        "id": "i33QVc_y71bE",
        "outputId": "e87595da-2377-48a8-e23f-e1aa572aa82d",
        "colab": {
          "base_uri": "https://localhost:8080/",
          "height": 362
        }
      },
      "execution_count": 71,
      "outputs": [
        {
          "output_type": "display_data",
          "data": {
            "text/plain": [
              "<Figure size 720x360 with 1 Axes>"
            ],
            "image/png": "[encoded data removed]"
          },
          "metadata": {}
        }
      ]
    },
    {
      "cell_type": "markdown",
      "source": [
        "## Dependence of maximal pipe filling on subcatchment slope."
      ],
      "metadata": {
        "id": "cHanq0nfGFuO"
      }
    },
    {
      "cell_type": "code",
      "source": [
        "# maksymalna wysokość napełnienia kanału  w sunkcji spadku terenu zlewni [m]\n",
        "plt.xscale(\"log\")\n",
        "plt.rcParams[\"figure.figsize\"] = (10,5)\n",
        "plt.plot(df['slope'], df['peak_depth'])\n",
        "plt.title('Dependence of peak depth on subcatchment slope')\n",
        "plt.xlabel('Slope [%]')\n",
        "plt.ylabel('Maximal depth [m]')\n",
        "plt.grid(True)\n",
        "plt.show()"
      ],
      "metadata": {
        "id": "eX48MpHiC9J9",
        "outputId": "4071d680-3d8e-4b92-df28-b70c072f1466",
        "colab": {
          "base_uri": "https://localhost:8080/",
          "height": 362
        }
      },
      "execution_count": 67,
      "outputs": [
        {
          "output_type": "display_data",
          "data": {
            "text/plain": [
              "<Figure size 720x360 with 1 Axes>"
            ],
            "image/png": "[encoded data removed]"
          },
          "metadata": {}
        }
      ]
    },
    {
      "cell_type": "code",
      "source": [
        "df_slope_corr = df.copy()\n",
        "corr = df_slope_corr.corr()\n",
        "\n",
        "sns.set(style=\"ticks\")\n",
        "mask = np.zeros_like(corr, dtype=np.bool)\n",
        "mask[np.triu_indices_from(mask)] = True\n",
        "f, ax = plt.subplots(figsize=(16, 8))\n",
        "cmap = sns.diverging_palette(220, 10, as_cmap=True)\n",
        "sns.heatmap(corr, mask=mask, cmap=cmap, vmax=1, center=0, annot=True,\n",
        "            square=True, linewidths=.5, cbar_kws={\"shrink\": 0.8})"
      ],
      "metadata": {
        "id": "QWPfTSp3k4jl",
        "outputId": "2c1d6a69-2889-4ea6-a93b-09e41b57235a",
        "colab": {
          "base_uri": "https://localhost:8080/",
          "height": 662
        }
      },
      "execution_count": 64,
      "outputs": [
        {
          "output_type": "stream",
          "name": "stderr",
          "text": [
            "/usr/local/lib/python3.7/dist-packages/ipykernel_launcher.py:5: DeprecationWarning: `np.bool` is a deprecated alias for the builtin `bool`. To silence this warning, use `bool` by itself. Doing this will not modify any behavior and is safe. If you specifically wanted the numpy scalar type, use `np.bool_` here.\n",
            "Deprecated in NumPy 1.20; for more details and guidance: https://numpy.org/devdocs/release/1.20.0-notes.html#deprecations\n",
            "  \"\"\"\n"
          ]
        },
        {
          "output_type": "execute_result",
          "data": {
            "text/plain": [
              "<matplotlib.axes._subplots.AxesSubplot at 0x7fb08b273050>"
            ]
          },
          "metadata": {},
          "execution_count": 64
        },
        {
          "output_type": "display_data",
          "data": {
            "text/plain": [
              "<Figure size 1152x576 with 2 Axes>"
            ],
            "image/png": "[encoded data removed]"
          },
          "metadata": {}
        }
      ]
    }
  ]
}