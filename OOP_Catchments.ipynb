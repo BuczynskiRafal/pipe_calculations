{
  "nbformat": 4,
  "nbformat_minor": 0,
  "metadata": {
    "colab": {
      "provenance": [],
      "authorship_tag": "ABX9TyMofu9CDAiWFNEb1UVsATky",
      "include_colab_link": true
    },
    "kernelspec": {
      "name": "python3",
      "display_name": "Python 3"
    },
    "language_info": {
      "name": "python"
    }
  },
  "cells": [
    {
      "cell_type": "markdown",
      "metadata": {
        "id": "view-in-github",
        "colab_type": "text"
      },
      "source": [
        "<a href=\"https://colab.research.google.com/github/BuczynskiRafal/pipe_calculations/blob/main/OOP_Catchments.ipynb\" target=\"_parent\"><img src=\"https://colab.research.google.com/assets/colab-badge.svg\" alt=\"Open In Colab\"/></a>"
      ]
    },
    {
      "cell_type": "markdown",
      "source": [
        "# Install extensions"
      ],
      "metadata": {
        "id": "u402HnsBbh0X"
      }
    },
    {
      "cell_type": "code",
      "execution_count": 1,
      "metadata": {
        "colab": {
          "base_uri": "https://localhost:8080/"
        },
        "id": "o6dEO-VzbXcm",
        "outputId": "363c7bff-3cf3-4a03-aedc-2cb22555a342"
      },
      "outputs": [
        {
          "output_type": "stream",
          "name": "stdout",
          "text": [
            "Looking in indexes: https://pypi.org/simple, https://us-python.pkg.dev/colab-wheels/public/simple/\n",
            "Collecting pyswmm\n",
            "  Downloading pyswmm-1.2.0-py3-none-any.whl (101 kB)\n",
            "\u001b[K     |████████████████████████████████| 101 kB 3.6 MB/s \n",
            "\u001b[?25hCollecting swmm-toolkit>=0.9.0\n",
            "  Downloading swmm_toolkit-0.9.0-cp37-cp37m-manylinux_2_17_x86_64.manylinux2014_x86_64.whl (458 kB)\n",
            "\u001b[K     |████████████████████████████████| 458 kB 34.7 MB/s \n",
            "\u001b[?25hCollecting julian>=0.14\n",
            "  Downloading julian-0.14.zip (2.8 kB)\n",
            "Collecting aenum>=3.1.11\n",
            "  Downloading aenum-3.1.11-py3-none-any.whl (131 kB)\n",
            "\u001b[K     |████████████████████████████████| 131 kB 41.0 MB/s \n",
            "\u001b[?25hBuilding wheels for collected packages: julian\n",
            "  Building wheel for julian (setup.py) ... \u001b[?25l\u001b[?25hdone\n",
            "  Created wheel for julian: filename=julian-0.14-py3-none-any.whl size=2633 sha256=6a0670ba3d183037b1b73427fed6e3174fddf3f0977c5ffc790cbd791cf246f2\n",
            "  Stored in directory: /root/.cache/pip/wheels/bb/58/2a/4109ff5870c163b26a499fb8b828ede50e96264571a4f082d3\n",
            "Successfully built julian\n",
            "Installing collected packages: aenum, swmm-toolkit, julian, pyswmm\n",
            "Successfully installed aenum-3.1.11 julian-0.14 pyswmm-1.2.0 swmm-toolkit-0.9.0\n",
            "Looking in indexes: https://pypi.org/simple, https://us-python.pkg.dev/colab-wheels/public/simple/\n",
            "Collecting swmmio\n",
            "  Downloading swmmio-0.4.10-py3-none-any.whl (270 kB)\n",
            "\u001b[K     |████████████████████████████████| 270 kB 4.8 MB/s \n",
            "\u001b[?25hCollecting geojson>=2.4.1\n",
            "  Downloading geojson-2.5.0-py2.py3-none-any.whl (14 kB)\n",
            "Collecting pyshp==2.1.0\n",
            "  Downloading pyshp-2.1.0.tar.gz (215 kB)\n",
            "\u001b[K     |████████████████████████████████| 215 kB 37.4 MB/s \n",
            "\u001b[?25hRequirement already satisfied: numpy>=1.16.4 in /usr/local/lib/python3.7/dist-packages (from swmmio) (1.21.6)\n",
            "Requirement already satisfied: pyyaml>=3.12 in /usr/local/lib/python3.7/dist-packages (from swmmio) (6.0)\n",
            "Requirement already satisfied: pandas>=0.24.2 in /usr/local/lib/python3.7/dist-packages (from swmmio) (1.3.5)\n",
            "Requirement already satisfied: Pillow>=6.2.0 in /usr/local/lib/python3.7/dist-packages (from swmmio) (7.1.2)\n",
            "Requirement already satisfied: networkx<2.8.1,>=2.3 in /usr/local/lib/python3.7/dist-packages (from swmmio) (2.6.3)\n",
            "Requirement already satisfied: python-dateutil>=2.7.3 in /usr/local/lib/python3.7/dist-packages (from pandas>=0.24.2->swmmio) (2.8.2)\n",
            "Requirement already satisfied: pytz>=2017.3 in /usr/local/lib/python3.7/dist-packages (from pandas>=0.24.2->swmmio) (2022.5)\n",
            "Requirement already satisfied: six>=1.5 in /usr/local/lib/python3.7/dist-packages (from python-dateutil>=2.7.3->pandas>=0.24.2->swmmio) (1.15.0)\n",
            "Building wheels for collected packages: pyshp\n",
            "  Building wheel for pyshp (setup.py) ... \u001b[?25l\u001b[?25hdone\n",
            "  Created wheel for pyshp: filename=pyshp-2.1.0-py3-none-any.whl size=32667 sha256=67fc10dafa63d25ced1cee022aa1232e71fcbd7f7741a70693acf7212de18aa9\n",
            "  Stored in directory: /root/.cache/pip/wheels/a0/c5/f3/548a073ac6a83d5b23d9b39cdd24314fc84bc8afc9882deb33\n",
            "Successfully built pyshp\n",
            "Installing collected packages: pyshp, geojson, swmmio\n",
            "Successfully installed geojson-2.5.0 pyshp-2.1.0 swmmio-0.4.10\n"
          ]
        }
      ],
      "source": [
        "!pip install pyswmm\n",
        "!pip install swmmio"
      ]
    },
    {
      "cell_type": "markdown",
      "source": [
        "# Import extensions"
      ],
      "metadata": {
        "id": "zpwfNLC3bhB0"
      }
    },
    {
      "cell_type": "code",
      "source": [
        "import swmmio\n",
        "import pandas as pd\n",
        "import numpy as np\n",
        "import matplotlib.pyplot as plt\n",
        "from pyswmm import Simulation, Nodes, Links, Subcatchments, Output"
      ],
      "metadata": {
        "id": "xqzDxbdfbpeu"
      },
      "execution_count": 3,
      "outputs": []
    },
    {
      "cell_type": "markdown",
      "source": [
        "# Explore model data"
      ],
      "metadata": {
        "id": "JrRYiI16vSVN"
      }
    },
    {
      "cell_type": "code",
      "source": [
        "model = swmmio.Model('example.inp')\n",
        "df_links = model.links.dataframe\n",
        "df_subcatchments = model.subcatchments.dataframe"
      ],
      "metadata": {
        "id": "NvYhM7VNvVXU"
      },
      "execution_count": 4,
      "outputs": []
    },
    {
      "cell_type": "code",
      "source": [
        "df_links[:2]"
      ],
      "metadata": {
        "id": "F4o5aB3Y15WO",
        "outputId": "f1a72720-66e8-4ad9-de7a-64050c35f2c3",
        "colab": {
          "base_uri": "https://localhost:8080/",
          "height": 173
        }
      },
      "execution_count": 5,
      "outputs": [
        {
          "output_type": "execute_result",
          "data": {
            "text/plain": [
              "     InletNode OutletNode  ...  Barrels  \\\n",
              "Name                       ...            \n",
              "C3          J1         J3  ...        1   \n",
              "C4          J3         O4  ...        1   \n",
              "\n",
              "                                                    coords  \n",
              "Name                                                        \n",
              "C3    [(777189.014, 592583.674), (777197.821, 592564.501)]  \n",
              "C4     [(777197.821, 592564.501), (777203.103, 592557.13)]  \n",
              "\n",
              "[2 rows x 15 columns]"
            ],
            "text/html": [
              "\n",
              "  <div id=\"df-903874f9-7bc7-4d6c-9fe5-19d2da0d6e45\">\n",
              "    <div class=\"colab-df-container\">\n",
              "      <div>\n",
              "<style scoped>\n",
              "    .dataframe tbody tr th:only-of-type {\n",
              "        vertical-align: middle;\n",
              "    }\n",
              "\n",
              "    .dataframe tbody tr th {\n",
              "        vertical-align: top;\n",
              "    }\n",
              "\n",
              "    .dataframe thead th {\n",
              "        text-align: right;\n",
              "    }\n",
              "</style>\n",
              "<table border=\"1\" class=\"dataframe\">\n",
              "  <thead>\n",
              "    <tr style=\"text-align: right;\">\n",
              "      <th></th>\n",
              "      <th>InletNode</th>\n",
              "      <th>OutletNode</th>\n",
              "      <th>...</th>\n",
              "      <th>Barrels</th>\n",
              "      <th>coords</th>\n",
              "    </tr>\n",
              "    <tr>\n",
              "      <th>Name</th>\n",
              "      <th></th>\n",
              "      <th></th>\n",
              "      <th></th>\n",
              "      <th></th>\n",
              "      <th></th>\n",
              "    </tr>\n",
              "  </thead>\n",
              "  <tbody>\n",
              "    <tr>\n",
              "      <th>C3</th>\n",
              "      <td>J1</td>\n",
              "      <td>J3</td>\n",
              "      <td>...</td>\n",
              "      <td>1</td>\n",
              "      <td>[(777189.014, 592583.674), (777197.821, 592564.501)]</td>\n",
              "    </tr>\n",
              "    <tr>\n",
              "      <th>C4</th>\n",
              "      <td>J3</td>\n",
              "      <td>O4</td>\n",
              "      <td>...</td>\n",
              "      <td>1</td>\n",
              "      <td>[(777197.821, 592564.501), (777203.103, 592557.13)]</td>\n",
              "    </tr>\n",
              "  </tbody>\n",
              "</table>\n",
              "<p>2 rows × 15 columns</p>\n",
              "</div>\n",
              "      <button class=\"colab-df-convert\" onclick=\"convertToInteractive('df-903874f9-7bc7-4d6c-9fe5-19d2da0d6e45')\"\n",
              "              title=\"Convert this dataframe to an interactive table.\"\n",
              "              style=\"display:none;\">\n",
              "        \n",
              "  <svg xmlns=\"http://www.w3.org/2000/svg\" height=\"24px\"viewBox=\"0 0 24 24\"\n",
              "       width=\"24px\">\n",
              "    <path d=\"M0 0h24v24H0V0z\" fill=\"none\"/>\n",
              "    <path d=\"M18.56 5.44l.94 2.06.94-2.06 2.06-.94-2.06-.94-.94-2.06-.94 2.06-2.06.94zm-11 1L8.5 8.5l.94-2.06 2.06-.94-2.06-.94L8.5 2.5l-.94 2.06-2.06.94zm10 10l.94 2.06.94-2.06 2.06-.94-2.06-.94-.94-2.06-.94 2.06-2.06.94z\"/><path d=\"M17.41 7.96l-1.37-1.37c-.4-.4-.92-.59-1.43-.59-.52 0-1.04.2-1.43.59L10.3 9.45l-7.72 7.72c-.78.78-.78 2.05 0 2.83L4 21.41c.39.39.9.59 1.41.59.51 0 1.02-.2 1.41-.59l7.78-7.78 2.81-2.81c.8-.78.8-2.07 0-2.86zM5.41 20L4 18.59l7.72-7.72 1.47 1.35L5.41 20z\"/>\n",
              "  </svg>\n",
              "      </button>\n",
              "      \n",
              "  <style>\n",
              "    .colab-df-container {\n",
              "      display:flex;\n",
              "      flex-wrap:wrap;\n",
              "      gap: 12px;\n",
              "    }\n",
              "\n",
              "    .colab-df-convert {\n",
              "      background-color: #E8F0FE;\n",
              "      border: none;\n",
              "      border-radius: 50%;\n",
              "      cursor: pointer;\n",
              "      display: none;\n",
              "      fill: #1967D2;\n",
              "      height: 32px;\n",
              "      padding: 0 0 0 0;\n",
              "      width: 32px;\n",
              "    }\n",
              "\n",
              "    .colab-df-convert:hover {\n",
              "      background-color: #E2EBFA;\n",
              "      box-shadow: 0px 1px 2px rgba(60, 64, 67, 0.3), 0px 1px 3px 1px rgba(60, 64, 67, 0.15);\n",
              "      fill: #174EA6;\n",
              "    }\n",
              "\n",
              "    [theme=dark] .colab-df-convert {\n",
              "      background-color: #3B4455;\n",
              "      fill: #D2E3FC;\n",
              "    }\n",
              "\n",
              "    [theme=dark] .colab-df-convert:hover {\n",
              "      background-color: #434B5C;\n",
              "      box-shadow: 0px 1px 3px 1px rgba(0, 0, 0, 0.15);\n",
              "      filter: drop-shadow(0px 1px 2px rgba(0, 0, 0, 0.3));\n",
              "      fill: #FFFFFF;\n",
              "    }\n",
              "  </style>\n",
              "\n",
              "      <script>\n",
              "        const buttonEl =\n",
              "          document.querySelector('#df-903874f9-7bc7-4d6c-9fe5-19d2da0d6e45 button.colab-df-convert');\n",
              "        buttonEl.style.display =\n",
              "          google.colab.kernel.accessAllowed ? 'block' : 'none';\n",
              "\n",
              "        async function convertToInteractive(key) {\n",
              "          const element = document.querySelector('#df-903874f9-7bc7-4d6c-9fe5-19d2da0d6e45');\n",
              "          const dataTable =\n",
              "            await google.colab.kernel.invokeFunction('convertToInteractive',\n",
              "                                                     [key], {});\n",
              "          if (!dataTable) return;\n",
              "\n",
              "          const docLinkHtml = 'Like what you see? Visit the ' +\n",
              "            '<a target=\"_blank\" href=https://colab.research.google.com/notebooks/data_table.ipynb>data table notebook</a>'\n",
              "            + ' to learn more about interactive tables.';\n",
              "          element.innerHTML = '';\n",
              "          dataTable['output_type'] = 'display_data';\n",
              "          await google.colab.output.renderOutput(dataTable, element);\n",
              "          const docLink = document.createElement('div');\n",
              "          docLink.innerHTML = docLinkHtml;\n",
              "          element.appendChild(docLink);\n",
              "        }\n",
              "      </script>\n",
              "    </div>\n",
              "  </div>\n",
              "  "
            ]
          },
          "metadata": {},
          "execution_count": 5
        }
      ]
    },
    {
      "cell_type": "code",
      "source": [
        "df_subcatchments[:2]"
      ],
      "metadata": {
        "id": "G5DRt-iX1_Y4",
        "outputId": "f06e911f-3640-42fa-ec3d-9f9bc6180460",
        "colab": {
          "base_uri": "https://localhost:8080/",
          "height": 141
        }
      },
      "execution_count": 6,
      "outputs": [
        {
          "output_type": "execute_result",
          "data": {
            "text/plain": [
              "      Raingage Outlet  ...  RouteTo  \\\n",
              "Name                   ...            \n",
              "S1           1     J1  ...   OUTLET   \n",
              "\n",
              "                                                                                                                                                            coords  \n",
              "Name                                                                                                                                                                \n",
              "S1    [(777175.934, 592588.598), (777185.333, 592588.986), (777185.453, 592579.676), (777176.173, 592579.527), (777175.934, 592588.717), (777175.934, 592588.598)]  \n",
              "\n",
              "[1 rows x 14 columns]"
            ],
            "text/html": [
              "\n",
              "  <div id=\"df-a8ef1224-16fd-4824-bf69-635a02bfbfee\">\n",
              "    <div class=\"colab-df-container\">\n",
              "      <div>\n",
              "<style scoped>\n",
              "    .dataframe tbody tr th:only-of-type {\n",
              "        vertical-align: middle;\n",
              "    }\n",
              "\n",
              "    .dataframe tbody tr th {\n",
              "        vertical-align: top;\n",
              "    }\n",
              "\n",
              "    .dataframe thead th {\n",
              "        text-align: right;\n",
              "    }\n",
              "</style>\n",
              "<table border=\"1\" class=\"dataframe\">\n",
              "  <thead>\n",
              "    <tr style=\"text-align: right;\">\n",
              "      <th></th>\n",
              "      <th>Raingage</th>\n",
              "      <th>Outlet</th>\n",
              "      <th>...</th>\n",
              "      <th>RouteTo</th>\n",
              "      <th>coords</th>\n",
              "    </tr>\n",
              "    <tr>\n",
              "      <th>Name</th>\n",
              "      <th></th>\n",
              "      <th></th>\n",
              "      <th></th>\n",
              "      <th></th>\n",
              "      <th></th>\n",
              "    </tr>\n",
              "  </thead>\n",
              "  <tbody>\n",
              "    <tr>\n",
              "      <th>S1</th>\n",
              "      <td>1</td>\n",
              "      <td>J1</td>\n",
              "      <td>...</td>\n",
              "      <td>OUTLET</td>\n",
              "      <td>[(777175.934, 592588.598), (777185.333, 592588.986), (777185.453, 592579.676), (777176.173, 592579.527), (777175.934, 592588.717), (777175.934, 592588.598)]</td>\n",
              "    </tr>\n",
              "  </tbody>\n",
              "</table>\n",
              "<p>1 rows × 14 columns</p>\n",
              "</div>\n",
              "      <button class=\"colab-df-convert\" onclick=\"convertToInteractive('df-a8ef1224-16fd-4824-bf69-635a02bfbfee')\"\n",
              "              title=\"Convert this dataframe to an interactive table.\"\n",
              "              style=\"display:none;\">\n",
              "        \n",
              "  <svg xmlns=\"http://www.w3.org/2000/svg\" height=\"24px\"viewBox=\"0 0 24 24\"\n",
              "       width=\"24px\">\n",
              "    <path d=\"M0 0h24v24H0V0z\" fill=\"none\"/>\n",
              "    <path d=\"M18.56 5.44l.94 2.06.94-2.06 2.06-.94-2.06-.94-.94-2.06-.94 2.06-2.06.94zm-11 1L8.5 8.5l.94-2.06 2.06-.94-2.06-.94L8.5 2.5l-.94 2.06-2.06.94zm10 10l.94 2.06.94-2.06 2.06-.94-2.06-.94-.94-2.06-.94 2.06-2.06.94z\"/><path d=\"M17.41 7.96l-1.37-1.37c-.4-.4-.92-.59-1.43-.59-.52 0-1.04.2-1.43.59L10.3 9.45l-7.72 7.72c-.78.78-.78 2.05 0 2.83L4 21.41c.39.39.9.59 1.41.59.51 0 1.02-.2 1.41-.59l7.78-7.78 2.81-2.81c.8-.78.8-2.07 0-2.86zM5.41 20L4 18.59l7.72-7.72 1.47 1.35L5.41 20z\"/>\n",
              "  </svg>\n",
              "      </button>\n",
              "      \n",
              "  <style>\n",
              "    .colab-df-container {\n",
              "      display:flex;\n",
              "      flex-wrap:wrap;\n",
              "      gap: 12px;\n",
              "    }\n",
              "\n",
              "    .colab-df-convert {\n",
              "      background-color: #E8F0FE;\n",
              "      border: none;\n",
              "      border-radius: 50%;\n",
              "      cursor: pointer;\n",
              "      display: none;\n",
              "      fill: #1967D2;\n",
              "      height: 32px;\n",
              "      padding: 0 0 0 0;\n",
              "      width: 32px;\n",
              "    }\n",
              "\n",
              "    .colab-df-convert:hover {\n",
              "      background-color: #E2EBFA;\n",
              "      box-shadow: 0px 1px 2px rgba(60, 64, 67, 0.3), 0px 1px 3px 1px rgba(60, 64, 67, 0.15);\n",
              "      fill: #174EA6;\n",
              "    }\n",
              "\n",
              "    [theme=dark] .colab-df-convert {\n",
              "      background-color: #3B4455;\n",
              "      fill: #D2E3FC;\n",
              "    }\n",
              "\n",
              "    [theme=dark] .colab-df-convert:hover {\n",
              "      background-color: #434B5C;\n",
              "      box-shadow: 0px 1px 3px 1px rgba(0, 0, 0, 0.15);\n",
              "      filter: drop-shadow(0px 1px 2px rgba(0, 0, 0, 0.3));\n",
              "      fill: #FFFFFF;\n",
              "    }\n",
              "  </style>\n",
              "\n",
              "      <script>\n",
              "        const buttonEl =\n",
              "          document.querySelector('#df-a8ef1224-16fd-4824-bf69-635a02bfbfee button.colab-df-convert');\n",
              "        buttonEl.style.display =\n",
              "          google.colab.kernel.accessAllowed ? 'block' : 'none';\n",
              "\n",
              "        async function convertToInteractive(key) {\n",
              "          const element = document.querySelector('#df-a8ef1224-16fd-4824-bf69-635a02bfbfee');\n",
              "          const dataTable =\n",
              "            await google.colab.kernel.invokeFunction('convertToInteractive',\n",
              "                                                     [key], {});\n",
              "          if (!dataTable) return;\n",
              "\n",
              "          const docLinkHtml = 'Like what you see? Visit the ' +\n",
              "            '<a target=\"_blank\" href=https://colab.research.google.com/notebooks/data_table.ipynb>data table notebook</a>'\n",
              "            + ' to learn more about interactive tables.';\n",
              "          element.innerHTML = '';\n",
              "          dataTable['output_type'] = 'display_data';\n",
              "          await google.colab.output.renderOutput(dataTable, element);\n",
              "          const docLink = document.createElement('div');\n",
              "          docLink.innerHTML = docLinkHtml;\n",
              "          element.appendChild(docLink);\n",
              "        }\n",
              "      </script>\n",
              "    </div>\n",
              "  </div>\n",
              "  "
            ]
          },
          "metadata": {},
          "execution_count": 6
        }
      ]
    },
    {
      "cell_type": "markdown",
      "source": [
        "# Prepare methoed for sumulation"
      ],
      "metadata": {
        "id": "NPT9DZ6ebqbk"
      }
    },
    {
      "cell_type": "code",
      "source": [
        "class PipeData:\n",
        "    def __init__(self):\n",
        "        self.flow_turn_sign = []\n",
        "        self.flow_turns = []\n",
        "        self.peak_depth = []        # maksymalna wysokość napełnienia kanału [m]\n",
        "        self.peak_flow = []         # maksymaly przepływ [m3/s]\n",
        "        self.peak_flow_date = []\n",
        "        self.peak_velocity = []     # maksymalna prędkość przepływu [m/s]\n",
        "        self.time_capacity_limited = []\n",
        "        self.time_courant_crit = []\n",
        "        self.time_full_downstream = []\n",
        "        self.time_full_flow = []\n",
        "        self.time_full_upstream = []\n",
        "        self.time_normal_flow = []\n",
        "\n",
        "class CatchmentData:\n",
        "    def __init__(self):\n",
        "        self.runoff = []\n",
        "        self.peak_runoff_rate = []\n",
        "        self.infiltration = []\n",
        "        self.evaporation = []\n",
        "        self.slope = []\n",
        "        self.percent_impervious = []\n",
        "        self.area = []\n",
        "\n",
        "\n",
        "class Analyse:\n",
        "    def __init__(self, file_path='example.inp'):\n",
        "        self.pipe_data = PipeData()\n",
        "        self.catchment_data = CatchmentData()\n",
        "        self._file_path = file_path\n",
        "\n",
        "    def show_subcatchment(self):\n",
        "        with Simulation(self._file_path) as sim:\n",
        "            return [subcatchment.subcatchmentid for subcatchment in Subcatchments(sim)]\n",
        "\n",
        "    def show_conduits(self):\n",
        "        with Simulation(self._file_path) as sim:\n",
        "            return [conduit.linkid for conduit in Links(sim)]\n",
        "\n",
        "    def save_model(self):\n",
        "        # pyswmm not allow to manage diameter of pipe \n",
        "        # this is why it is nessesary to use swmmio \n",
        "        # to overide model data (max. depth - pipe diameter)\n",
        "        pass\n",
        "\n",
        "    def overide_diameter(self):\n",
        "        pass\n",
        "    \n",
        "    def analyse(self, conduit_id=None, subcatchment_id=None, min_slope=0.1, max_slope=100, step=0.1):\n",
        "        iterator = []\n",
        "        counter = min_slope\n",
        "        while counter < max_slope:\n",
        "            counter += step\n",
        "            iterator.append(counter)\n",
        "        for area in range(1, 11, 1):\n",
        "            for slope in iterator:\n",
        "                for imprevious in iterator:\n",
        "                    with Simulation(self._file_path) as sim:\n",
        "                        catchment = Subcatchments(sim)[subcatchment_id]\n",
        "                        conduit = Links(sim)[conduit_id]\n",
        "                        catchment.slope = slope\n",
        "                        catchment.percent_impervious = imprevious\n",
        "                        catchment.area = area\n",
        "                        self.catchment_data.slope.append(slope)\n",
        "                        self.catchment_data.percent_impervious.append(imprevious) \n",
        "                        self.catchment_data.area.append(area)\n",
        "                        for _ in sim:\n",
        "                            pass\n",
        "                        catchment_stats = catchment.statistics\n",
        "                        conduit_stats = conduit.conduit_statistics\n",
        "                        try:\n",
        "                            for key in vars(self.catchment_data):\n",
        "                                getattr(self.catchment_data, key).append(catchment_stats[key])\n",
        "                        except KeyError:\n",
        "                            pass\n",
        "                        try:\n",
        "                            for key in vars(self.pipe_data):\n",
        "                                getattr(self.pipe_data, key).append(conduit_stats[key])\n",
        "                        except KeyError:\n",
        "                            pass\n",
        "            print(f\"loop: {area}\")\n",
        "        return None\n",
        "\n",
        "    def simulation(self, conduit_id=None, subcatchment_id=None, min_slope=0.1, max_slope=100, step=0.1):\n",
        "        counter = min_slope\n",
        "        while counter < max_slope:\n",
        "            with Simulation(self._file_path) as sim:\n",
        "                conduit = Links(sim)[conduit_id]\n",
        "                catchment = Subcatchments(sim)[subcatchment_id]\n",
        "                catchment.slope = counter\n",
        "                for _ in sim:\n",
        "                    pass\n",
        "                conduit_stats = conduit.conduit_statistics\n",
        "                catchment_stats = catchment.statistics\n",
        "                try:\n",
        "                    for key in vars(self.catchment_data):\n",
        "                        getattr(self.catchment_data, key).append(catchment_stats[key])\n",
        "                except KeyError:\n",
        "                    pass\n",
        "                try:\n",
        "                    for key in vars(self.pipe_data):\n",
        "                        getattr(self.pipe_data, key).append(conduit_stats[key])\n",
        "                except KeyError:\n",
        "                    pass\n",
        "                self.catchment_data.slope.append(counter)\n",
        "                counter += step\n",
        "        return None"
      ],
      "metadata": {
        "id": "3mDndjd3bvUO"
      },
      "execution_count": 33,
      "outputs": []
    },
    {
      "cell_type": "markdown",
      "source": [
        "# Do simulation"
      ],
      "metadata": {
        "id": "ygv88DbVfooe"
      }
    },
    {
      "cell_type": "code",
      "source": [
        "slope_analyse = Analyse()\n",
        "slope_analyse.simulation(\"C3\", \"S1\", step=10)"
      ],
      "metadata": {
        "id": "YSPSc6LYfFyr"
      },
      "execution_count": 34,
      "outputs": []
    },
    {
      "cell_type": "code",
      "source": [
        "feature_analyse = Analyse()\n",
        "feature_analyse.analyse(\"C3\", \"S1\", step=10)"
      ],
      "metadata": {
        "id": "jJIFZSyofn34",
        "outputId": "428da5d1-6721-4c14-9d16-37f9a47b5bb8",
        "colab": {
          "base_uri": "https://localhost:8080/"
        }
      },
      "execution_count": 19,
      "outputs": [
        {
          "output_type": "stream",
          "name": "stdout",
          "text": [
            "loop: 1\n",
            "loop: 2\n",
            "loop: 3\n",
            "loop: 4\n",
            "loop: 5\n",
            "loop: 6\n",
            "loop: 7\n",
            "loop: 8\n",
            "loop: 9\n",
            "loop: 10\n"
          ]
        }
      ]
    },
    {
      "cell_type": "markdown",
      "source": [
        "# Prepare dataframe\n",
        "\n"
      ],
      "metadata": {
        "id": "xL_ZYZXpgMnz"
      }
    },
    {
      "cell_type": "code",
      "source": [
        "# data = {\"slope\": analyse.slope, **vars(analyse.pipe_data), **vars(analyse.catchment_data)}\n",
        "data = {**vars(slope_analyse.pipe_data), **vars(slope_analyse.catchment_data)}\n",
        "df_raw = pd.DataFrame(data=data)"
      ],
      "metadata": {
        "id": "hytIygY_hPrV",
        "outputId": "9e0a60ca-326c-49fe-d785-e421883bb9d7",
        "colab": {
          "base_uri": "https://localhost:8080/",
          "height": 345
        }
      },
      "execution_count": 36,
      "outputs": [
        {
          "output_type": "error",
          "ename": "ValueError",
          "evalue": "ignored",
          "traceback": [
            "\u001b[0;31m---------------------------------------------------------------------------\u001b[0m",
            "\u001b[0;31mValueError\u001b[0m                                Traceback (most recent call last)",
            "\u001b[0;32m<ipython-input-36-b82a03c05f03>\u001b[0m in \u001b[0;36m<module>\u001b[0;34m\u001b[0m\n\u001b[1;32m      1\u001b[0m \u001b[0;31m# data = {\"slope\": analyse.slope, **vars(analyse.pipe_data), **vars(analyse.catchment_data)}\u001b[0m\u001b[0;34m\u001b[0m\u001b[0;34m\u001b[0m\u001b[0;34m\u001b[0m\u001b[0m\n\u001b[1;32m      2\u001b[0m \u001b[0mdata\u001b[0m \u001b[0;34m=\u001b[0m \u001b[0;34m{\u001b[0m\u001b[0;34m**\u001b[0m\u001b[0mvars\u001b[0m\u001b[0;34m(\u001b[0m\u001b[0mslope_analyse\u001b[0m\u001b[0;34m.\u001b[0m\u001b[0mpipe_data\u001b[0m\u001b[0;34m)\u001b[0m\u001b[0;34m,\u001b[0m \u001b[0;34m**\u001b[0m\u001b[0mvars\u001b[0m\u001b[0;34m(\u001b[0m\u001b[0mslope_analyse\u001b[0m\u001b[0;34m.\u001b[0m\u001b[0mcatchment_data\u001b[0m\u001b[0;34m)\u001b[0m\u001b[0;34m}\u001b[0m\u001b[0;34m\u001b[0m\u001b[0;34m\u001b[0m\u001b[0m\n\u001b[0;32m----> 3\u001b[0;31m \u001b[0mdf_raw\u001b[0m \u001b[0;34m=\u001b[0m \u001b[0mpd\u001b[0m\u001b[0;34m.\u001b[0m\u001b[0mDataFrame\u001b[0m\u001b[0;34m(\u001b[0m\u001b[0mdata\u001b[0m\u001b[0;34m=\u001b[0m\u001b[0mdata\u001b[0m\u001b[0;34m)\u001b[0m\u001b[0;34m\u001b[0m\u001b[0;34m\u001b[0m\u001b[0m\n\u001b[0m",
            "\u001b[0;32m/usr/local/lib/python3.7/dist-packages/pandas/core/frame.py\u001b[0m in \u001b[0;36m__init__\u001b[0;34m(self, data, index, columns, dtype, copy)\u001b[0m\n\u001b[1;32m    612\u001b[0m         \u001b[0;32melif\u001b[0m \u001b[0misinstance\u001b[0m\u001b[0;34m(\u001b[0m\u001b[0mdata\u001b[0m\u001b[0;34m,\u001b[0m \u001b[0mdict\u001b[0m\u001b[0;34m)\u001b[0m\u001b[0;34m:\u001b[0m\u001b[0;34m\u001b[0m\u001b[0;34m\u001b[0m\u001b[0m\n\u001b[1;32m    613\u001b[0m             \u001b[0;31m# GH#38939 de facto copy defaults to False only in non-dict cases\u001b[0m\u001b[0;34m\u001b[0m\u001b[0;34m\u001b[0m\u001b[0;34m\u001b[0m\u001b[0m\n\u001b[0;32m--> 614\u001b[0;31m             \u001b[0mmgr\u001b[0m \u001b[0;34m=\u001b[0m \u001b[0mdict_to_mgr\u001b[0m\u001b[0;34m(\u001b[0m\u001b[0mdata\u001b[0m\u001b[0;34m,\u001b[0m \u001b[0mindex\u001b[0m\u001b[0;34m,\u001b[0m \u001b[0mcolumns\u001b[0m\u001b[0;34m,\u001b[0m \u001b[0mdtype\u001b[0m\u001b[0;34m=\u001b[0m\u001b[0mdtype\u001b[0m\u001b[0;34m,\u001b[0m \u001b[0mcopy\u001b[0m\u001b[0;34m=\u001b[0m\u001b[0mcopy\u001b[0m\u001b[0;34m,\u001b[0m \u001b[0mtyp\u001b[0m\u001b[0;34m=\u001b[0m\u001b[0mmanager\u001b[0m\u001b[0;34m)\u001b[0m\u001b[0;34m\u001b[0m\u001b[0;34m\u001b[0m\u001b[0m\n\u001b[0m\u001b[1;32m    615\u001b[0m         \u001b[0;32melif\u001b[0m \u001b[0misinstance\u001b[0m\u001b[0;34m(\u001b[0m\u001b[0mdata\u001b[0m\u001b[0;34m,\u001b[0m \u001b[0mma\u001b[0m\u001b[0;34m.\u001b[0m\u001b[0mMaskedArray\u001b[0m\u001b[0;34m)\u001b[0m\u001b[0;34m:\u001b[0m\u001b[0;34m\u001b[0m\u001b[0;34m\u001b[0m\u001b[0m\n\u001b[1;32m    616\u001b[0m             \u001b[0;32mimport\u001b[0m \u001b[0mnumpy\u001b[0m\u001b[0;34m.\u001b[0m\u001b[0mma\u001b[0m\u001b[0;34m.\u001b[0m\u001b[0mmrecords\u001b[0m \u001b[0;32mas\u001b[0m \u001b[0mmrecords\u001b[0m\u001b[0;34m\u001b[0m\u001b[0;34m\u001b[0m\u001b[0m\n",
            "\u001b[0;32m/usr/local/lib/python3.7/dist-packages/pandas/core/internals/construction.py\u001b[0m in \u001b[0;36mdict_to_mgr\u001b[0;34m(data, index, columns, dtype, typ, copy)\u001b[0m\n\u001b[1;32m    463\u001b[0m \u001b[0;34m\u001b[0m\u001b[0m\n\u001b[1;32m    464\u001b[0m     return arrays_to_mgr(\n\u001b[0;32m--> 465\u001b[0;31m         \u001b[0marrays\u001b[0m\u001b[0;34m,\u001b[0m \u001b[0mdata_names\u001b[0m\u001b[0;34m,\u001b[0m \u001b[0mindex\u001b[0m\u001b[0;34m,\u001b[0m \u001b[0mcolumns\u001b[0m\u001b[0;34m,\u001b[0m \u001b[0mdtype\u001b[0m\u001b[0;34m=\u001b[0m\u001b[0mdtype\u001b[0m\u001b[0;34m,\u001b[0m \u001b[0mtyp\u001b[0m\u001b[0;34m=\u001b[0m\u001b[0mtyp\u001b[0m\u001b[0;34m,\u001b[0m \u001b[0mconsolidate\u001b[0m\u001b[0;34m=\u001b[0m\u001b[0mcopy\u001b[0m\u001b[0;34m\u001b[0m\u001b[0;34m\u001b[0m\u001b[0m\n\u001b[0m\u001b[1;32m    466\u001b[0m     )\n\u001b[1;32m    467\u001b[0m \u001b[0;34m\u001b[0m\u001b[0m\n",
            "\u001b[0;32m/usr/local/lib/python3.7/dist-packages/pandas/core/internals/construction.py\u001b[0m in \u001b[0;36marrays_to_mgr\u001b[0;34m(arrays, arr_names, index, columns, dtype, verify_integrity, typ, consolidate)\u001b[0m\n\u001b[1;32m    117\u001b[0m         \u001b[0;31m# figure out the index, if necessary\u001b[0m\u001b[0;34m\u001b[0m\u001b[0;34m\u001b[0m\u001b[0;34m\u001b[0m\u001b[0m\n\u001b[1;32m    118\u001b[0m         \u001b[0;32mif\u001b[0m \u001b[0mindex\u001b[0m \u001b[0;32mis\u001b[0m \u001b[0;32mNone\u001b[0m\u001b[0;34m:\u001b[0m\u001b[0;34m\u001b[0m\u001b[0;34m\u001b[0m\u001b[0m\n\u001b[0;32m--> 119\u001b[0;31m             \u001b[0mindex\u001b[0m \u001b[0;34m=\u001b[0m \u001b[0m_extract_index\u001b[0m\u001b[0;34m(\u001b[0m\u001b[0marrays\u001b[0m\u001b[0;34m)\u001b[0m\u001b[0;34m\u001b[0m\u001b[0;34m\u001b[0m\u001b[0m\n\u001b[0m\u001b[1;32m    120\u001b[0m         \u001b[0;32melse\u001b[0m\u001b[0;34m:\u001b[0m\u001b[0;34m\u001b[0m\u001b[0;34m\u001b[0m\u001b[0m\n\u001b[1;32m    121\u001b[0m             \u001b[0mindex\u001b[0m \u001b[0;34m=\u001b[0m \u001b[0mensure_index\u001b[0m\u001b[0;34m(\u001b[0m\u001b[0mindex\u001b[0m\u001b[0;34m)\u001b[0m\u001b[0;34m\u001b[0m\u001b[0;34m\u001b[0m\u001b[0m\n",
            "\u001b[0;32m/usr/local/lib/python3.7/dist-packages/pandas/core/internals/construction.py\u001b[0m in \u001b[0;36m_extract_index\u001b[0;34m(data)\u001b[0m\n\u001b[1;32m    633\u001b[0m             \u001b[0mlengths\u001b[0m \u001b[0;34m=\u001b[0m \u001b[0mlist\u001b[0m\u001b[0;34m(\u001b[0m\u001b[0mset\u001b[0m\u001b[0;34m(\u001b[0m\u001b[0mraw_lengths\u001b[0m\u001b[0;34m)\u001b[0m\u001b[0;34m)\u001b[0m\u001b[0;34m\u001b[0m\u001b[0;34m\u001b[0m\u001b[0m\n\u001b[1;32m    634\u001b[0m             \u001b[0;32mif\u001b[0m \u001b[0mlen\u001b[0m\u001b[0;34m(\u001b[0m\u001b[0mlengths\u001b[0m\u001b[0;34m)\u001b[0m \u001b[0;34m>\u001b[0m \u001b[0;36m1\u001b[0m\u001b[0;34m:\u001b[0m\u001b[0;34m\u001b[0m\u001b[0;34m\u001b[0m\u001b[0m\n\u001b[0;32m--> 635\u001b[0;31m                 \u001b[0;32mraise\u001b[0m \u001b[0mValueError\u001b[0m\u001b[0;34m(\u001b[0m\u001b[0;34m\"All arrays must be of the same length\"\u001b[0m\u001b[0;34m)\u001b[0m\u001b[0;34m\u001b[0m\u001b[0;34m\u001b[0m\u001b[0m\n\u001b[0m\u001b[1;32m    636\u001b[0m \u001b[0;34m\u001b[0m\u001b[0m\n\u001b[1;32m    637\u001b[0m             \u001b[0;32mif\u001b[0m \u001b[0mhave_dicts\u001b[0m\u001b[0;34m:\u001b[0m\u001b[0;34m\u001b[0m\u001b[0;34m\u001b[0m\u001b[0m\n",
            "\u001b[0;31mValueError\u001b[0m: All arrays must be of the same length"
          ]
        }
      ]
    },
    {
      "cell_type": "markdown",
      "source": [
        "# Data for work"
      ],
      "metadata": {
        "id": "eArUgTQmkC_X"
      }
    },
    {
      "cell_type": "code",
      "source": [
        "df = df_raw.copy()\n",
        "df.info()"
      ],
      "metadata": {
        "id": "K5H4Gl5lkGwn"
      },
      "execution_count": null,
      "outputs": []
    },
    {
      "cell_type": "code",
      "source": [
        "df.head()"
      ],
      "metadata": {
        "id": "6gU-OFN2n5Eq"
      },
      "execution_count": null,
      "outputs": []
    },
    {
      "cell_type": "code",
      "source": [
        "df.shape"
      ],
      "metadata": {
        "id": "KDBk-3yFkLcP"
      },
      "execution_count": null,
      "outputs": []
    },
    {
      "cell_type": "code",
      "source": [
        "df.describe().T"
      ],
      "metadata": {
        "id": "NbdhCYekkTSq"
      },
      "execution_count": null,
      "outputs": []
    },
    {
      "cell_type": "markdown",
      "source": [
        "# Remove unused columns"
      ],
      "metadata": {
        "id": "jKzrHV8Sk3S_"
      }
    },
    {
      "cell_type": "code",
      "source": [
        "df.columns"
      ],
      "metadata": {
        "id": "enmmlZMWlDBo"
      },
      "execution_count": null,
      "outputs": []
    },
    {
      "cell_type": "code",
      "source": [
        "df.drop(columns=['flow_turn_sign', 'flow_turns', 'time_capacity_limited', 'time_courant_crit', 'time_full_downstream', 'time_full_upstream'], axis=1, inplace=True)\n",
        "df.head()"
      ],
      "metadata": {
        "id": "BFbMLCxvjtlu"
      },
      "execution_count": null,
      "outputs": []
    },
    {
      "cell_type": "markdown",
      "source": [
        "# Subcatchments data output"
      ],
      "metadata": {
        "id": "gIFXvZA1j5mI"
      }
    },
    {
      "cell_type": "markdown",
      "source": [
        "## Dependence of runoff on subcatchment slope."
      ],
      "metadata": {
        "id": "6KC67i8Nj8n6"
      }
    },
    {
      "cell_type": "code",
      "source": [
        "# plt.xscale(\"log\")\n",
        "plt.rcParams[\"figure.figsize\"] = (10,5)\n",
        "plt.plot(df['slope'], df['runoff'])\n",
        "plt.title('Dependence of runoff on subcatchment slope / odpływ całkowity w funkcji spadku.')\n",
        "plt.xlabel('Slope [%]')\n",
        "plt.ylabel('Runoff [m3]')\n",
        "plt.grid(True)\n",
        "plt.show()"
      ],
      "metadata": {
        "id": "MXAsPOALh7_n"
      },
      "execution_count": null,
      "outputs": []
    },
    {
      "cell_type": "markdown",
      "source": [
        "## Dependence of peak runoff rate on subcatchment slope"
      ],
      "metadata": {
        "id": "_fXoDkSqn3JW"
      }
    },
    {
      "cell_type": "code",
      "source": [
        "plt.xscale(\"log\")\n",
        "plt.rcParams[\"figure.figsize\"] = (10,5)\n",
        "plt.plot(df['slope'], df['peak_runoff_rate'])\n",
        "plt.title('Dependence of peak runoff rate on subcatchment slope / szczytowe tempo odpływu w funkcji spadku')\n",
        "plt.xlabel('Slope [%]')\n",
        "plt.ylabel('Peak runoff rate [m3/s]')\n",
        "plt.grid(True)\n",
        "plt.show()"
      ],
      "metadata": {
        "id": "toCscUvCn56Y"
      },
      "execution_count": null,
      "outputs": []
    },
    {
      "cell_type": "markdown",
      "source": [
        "## Dependence of infiltration on subcatchment slope"
      ],
      "metadata": {
        "id": "W1e0ALjYUWM9"
      }
    },
    {
      "cell_type": "code",
      "source": [
        "# plt.xscale(\"log\")\n",
        "plt.rcParams[\"figure.figsize\"] = (10,5)\n",
        "plt.plot(df['slope'], df['infiltration'])\n",
        "plt.title('Dependence of infiltration on subcatchment slope')\n",
        "plt.xlabel('Slope [%]')\n",
        "plt.ylabel('Infiltration [%]')\n",
        "plt.grid(True)\n",
        "plt.show()"
      ],
      "metadata": {
        "id": "su1_KBpJUZa5"
      },
      "execution_count": null,
      "outputs": []
    },
    {
      "cell_type": "markdown",
      "source": [
        "# Pipes data output"
      ],
      "metadata": {
        "id": "9T7yKPL7Qytb"
      }
    },
    {
      "cell_type": "markdown",
      "source": [
        "## Dependence of maximal flow on subcatchment slope."
      ],
      "metadata": {
        "id": "ElXwhINbiCUc"
      }
    },
    {
      "cell_type": "code",
      "source": [
        "# maksymaly przepływ [m3/s] w funkcji spadku terenu zlewni.\n",
        "# plt.xscale(\"log\")\n",
        "plt.rcParams[\"figure.figsize\"] = (10,5)\n",
        "plt.plot(df['slope'], df['peak_flow'])\n",
        "plt.title('Dependence of peak flow on catchment slope')\n",
        "plt.xlabel('Slope [%]')\n",
        "plt.ylabel('Maximum flow [m3/s]')\n",
        "plt.grid(True)\n",
        "plt.show()"
      ],
      "metadata": {
        "id": "7Qd8h1q7o2Z6"
      },
      "execution_count": null,
      "outputs": []
    },
    {
      "cell_type": "markdown",
      "source": [
        "## Dependence of maximal velocity on subcatchment slope"
      ],
      "metadata": {
        "id": "-m1gj2Go7yn1"
      }
    },
    {
      "cell_type": "code",
      "source": [
        "# peak_velocity - maksymalna prędkość przepływu [m/s]\n",
        "# plt.xscale(\"log\")\n",
        "plt.rcParams[\"figure.figsize\"] = (10,5)\n",
        "plt.plot(df['slope'], df['peak_velocity'])\n",
        "plt.title('Dependence of peak velocity on catchment slope')\n",
        "plt.xlabel('Slope [%]')\n",
        "plt.ylabel('Maximum velocity [m/s]')\n",
        "plt.grid(True)\n",
        "plt.show()"
      ],
      "metadata": {
        "id": "i33QVc_y71bE"
      },
      "execution_count": null,
      "outputs": []
    },
    {
      "cell_type": "markdown",
      "source": [
        "## Dependence of maximal pipe filling on subcatchment slope."
      ],
      "metadata": {
        "id": "cHanq0nfGFuO"
      }
    },
    {
      "cell_type": "code",
      "source": [
        "# maksymalna wysokość napełnienia kanału  w sunkcji spadku terenu zlewni [m]\n",
        "plt.xscale(\"log\")\n",
        "plt.rcParams[\"figure.figsize\"] = (10,5)\n",
        "plt.plot(df['slope'], df['peak_depth'])\n",
        "plt.title('Dependence of peak depth on subcatchment slope')\n",
        "plt.xlabel('Slope [%]')\n",
        "plt.ylabel('Maximal depth [m]')\n",
        "plt.grid(True)\n",
        "plt.show()"
      ],
      "metadata": {
        "id": "eX48MpHiC9J9"
      },
      "execution_count": null,
      "outputs": []
    },
    {
      "cell_type": "markdown",
      "source": [
        "# Show correlations betwen features as heatmap"
      ],
      "metadata": {
        "id": "KMkkdyzAk5qs"
      }
    },
    {
      "cell_type": "markdown",
      "source": [
        "## Prepare dataframe with selected features"
      ],
      "metadata": {
        "id": "KXjW7RJ3lEdS"
      }
    },
    {
      "cell_type": "code",
      "source": [
        "# feature_data = {**vars(feature_analyse.pipe_data), **vars(feature_analyse.catchment_data)}\n",
        "feature_data = {**vars(feature_analyse.catchment_data)}\n",
        "df_raw_feature = pd.DataFrame(data=feature_data)"
      ],
      "metadata": {
        "id": "JK3RI_GUfxeA"
      },
      "execution_count": null,
      "outputs": []
    },
    {
      "cell_type": "code",
      "source": [
        "# print(df_raw_feature.columns)"
      ],
      "metadata": {
        "id": "1V7NsEtRmsRH"
      },
      "execution_count": null,
      "outputs": []
    },
    {
      "cell_type": "code",
      "source": [
        "df_corr = df_raw_feature.copy()\n",
        "# df_corr[['slope', 'runoff', 'peak_runoff_rate', 'infiltration']] = df_raw_feature[['slope', 'runoff', 'peak_runoff_rate', 'infiltration']]\n",
        "df_corr[['slope', 'runoff', 'peak_runoff_rate', 'infiltration']] = df_raw_feature[['slope', 'runoff', 'peak_runoff_rate', 'infiltration']]\n",
        "print(df_corr[:-10])"
      ],
      "metadata": {
        "id": "TWohsQhuXnwK",
        "outputId": "c583b613-f46a-4a57-cbb8-9eeecb267079",
        "colab": {
          "base_uri": "https://localhost:8080/"
        }
      },
      "execution_count": null,
      "outputs": [
        {
          "output_type": "stream",
          "name": "stdout",
          "text": [
            "          runoff  peak_runoff_rate  ...  percent_impervious  area\n",
            "0     992.275502          0.276624  ...                10.1     1\n",
            "1     992.275502          0.276624  ...                20.1     1\n",
            "2     992.275502          0.276624  ...                30.1     1\n",
            "3     992.275502          0.276624  ...                40.1     1\n",
            "4     992.275502          0.276624  ...                50.1     1\n",
            "..           ...               ...  ...                 ...   ...\n",
            "985  9949.104929          2.766508  ...                60.1    10\n",
            "986  9949.104929          2.766508  ...                70.1    10\n",
            "987  9949.104929          2.766508  ...                80.1    10\n",
            "988  9949.104929          2.766508  ...                90.1    10\n",
            "989  9949.104929          2.766508  ...               100.1    10\n",
            "\n",
            "[990 rows x 7 columns]\n"
          ]
        }
      ]
    },
    {
      "cell_type": "code",
      "source": [
        "corr = df_corr.corr()"
      ],
      "metadata": {
        "id": "KlF7u6sSW3mV"
      },
      "execution_count": null,
      "outputs": []
    },
    {
      "cell_type": "markdown",
      "source": [
        "## Plot heatmap"
      ],
      "metadata": {
        "id": "f0qNVs8klMMo"
      }
    },
    {
      "cell_type": "code",
      "source": [
        "import seaborn as sns\n",
        "\n",
        "sns.set(style=\"ticks\")\n",
        "mask = np.zeros_like(corr, dtype=np.bool)\n",
        "mask[np.triu_indices_from(mask)] = True\n",
        "f, ax = plt.subplots(figsize=(8, 6))\n",
        "cmap = sns.diverging_palette(220, 10, as_cmap=True)\n",
        "sns.heatmap(corr, mask=mask, cmap=cmap, vmax=1, center=0, annot=True,\n",
        "            square=True, linewidths=.5, cbar_kws={\"shrink\": 0.8})"
      ],
      "metadata": {
        "id": "T64W2yxAXH-B",
        "outputId": "2022bdc0-5082-4938-8d41-ea2ef581333a",
        "colab": {
          "base_uri": "https://localhost:8080/",
          "height": 565
        }
      },
      "execution_count": null,
      "outputs": [
        {
          "output_type": "stream",
          "name": "stderr",
          "text": [
            "/usr/local/lib/python3.7/dist-packages/ipykernel_launcher.py:4: DeprecationWarning: `np.bool` is a deprecated alias for the builtin `bool`. To silence this warning, use `bool` by itself. Doing this will not modify any behavior and is safe. If you specifically wanted the numpy scalar type, use `np.bool_` here.\n",
            "Deprecated in NumPy 1.20; for more details and guidance: https://numpy.org/devdocs/release/1.20.0-notes.html#deprecations\n",
            "  after removing the cwd from sys.path.\n"
          ]
        },
        {
          "output_type": "execute_result",
          "data": {
            "text/plain": [
              "<matplotlib.axes._subplots.AxesSubplot at 0x7f371624e510>"
            ]
          },
          "metadata": {},
          "execution_count": 81
        },
        {
          "output_type": "display_data",
          "data": {
            "text/plain": [
              "<Figure size 576x432 with 2 Axes>"
            ],
            "image/png": "[encoded data removed]"
          },
          "metadata": {}
        }
      ]
    },
    {
      "cell_type": "code",
      "source": [
        "!jupyter nbconvert --to pdf /content/KNN.ipynb"
      ],
      "metadata": {
        "id": "9t4HEJuWcP8F",
        "outputId": "36306d14-9bee-4368-9663-a620c1d6b5fd",
        "colab": {
          "base_uri": "https://localhost:8080/"
        }
      },
      "execution_count": null,
      "outputs": [
        {
          "output_type": "stream",
          "name": "stdout",
          "text": [
            "[NbConvertApp] WARNING | pattern '/content/KNN.ipynb' matched no files\n",
            "This application is used to convert notebook files (*.ipynb)\n",
            "        to various other formats.\n",
            "\n",
            "        WARNING: THE COMMANDLINE INTERFACE MAY CHANGE IN FUTURE RELEASES.\n",
            "\n",
            "Options\n",
            "=======\n",
            "The options below are convenience aliases to configurable class-options,\n",
            "as listed in the \"Equivalent to\" description-line of the aliases.\n",
            "To see all configurable class-options for some <cmd>, use:\n",
            "    <cmd> --help-all\n",
            "\n",
            "--debug\n",
            "    set log level to logging.DEBUG (maximize logging output)\n",
            "    Equivalent to: [--Application.log_level=10]\n",
            "--show-config\n",
            "    Show the application's configuration (human-readable format)\n",
            "    Equivalent to: [--Application.show_config=True]\n",
            "--show-config-json\n",
            "    Show the application's configuration (json format)\n",
            "    Equivalent to: [--Application.show_config_json=True]\n",
            "--generate-config\n",
            "    generate default config file\n",
            "    Equivalent to: [--JupyterApp.generate_config=True]\n",
            "-y\n",
            "    Answer yes to any questions instead of prompting.\n",
            "    Equivalent to: [--JupyterApp.answer_yes=True]\n",
            "--execute\n",
            "    Execute the notebook prior to export.\n",
            "    Equivalent to: [--ExecutePreprocessor.enabled=True]\n",
            "--allow-errors\n",
            "    Continue notebook execution even if one of the cells throws an error and include the error message in the cell output (the default behaviour is to abort conversion). This flag is only relevant if '--execute' was specified, too.\n",
            "    Equivalent to: [--ExecutePreprocessor.allow_errors=True]\n",
            "--stdin\n",
            "    read a single notebook file from stdin. Write the resulting notebook with default basename 'notebook.*'\n",
            "    Equivalent to: [--NbConvertApp.from_stdin=True]\n",
            "--stdout\n",
            "    Write notebook output to stdout instead of files.\n",
            "    Equivalent to: [--NbConvertApp.writer_class=StdoutWriter]\n",
            "--inplace\n",
            "    Run nbconvert in place, overwriting the existing notebook (only \n",
            "            relevant when converting to notebook format)\n",
            "    Equivalent to: [--NbConvertApp.use_output_suffix=False --NbConvertApp.export_format=notebook --FilesWriter.build_directory=]\n",
            "--clear-output\n",
            "    Clear output of current file and save in place, \n",
            "            overwriting the existing notebook.\n",
            "    Equivalent to: [--NbConvertApp.use_output_suffix=False --NbConvertApp.export_format=notebook --FilesWriter.build_directory= --ClearOutputPreprocessor.enabled=True]\n",
            "--no-prompt\n",
            "    Exclude input and output prompts from converted document.\n",
            "    Equivalent to: [--TemplateExporter.exclude_input_prompt=True --TemplateExporter.exclude_output_prompt=True]\n",
            "--no-input\n",
            "    Exclude input cells and output prompts from converted document. \n",
            "            This mode is ideal for generating code-free reports.\n",
            "    Equivalent to: [--TemplateExporter.exclude_output_prompt=True --TemplateExporter.exclude_input=True]\n",
            "--log-level=<Enum>\n",
            "    Set the log level by value or name.\n",
            "    Choices: any of [0, 10, 20, 30, 40, 50, 'DEBUG', 'INFO', 'WARN', 'ERROR', 'CRITICAL']\n",
            "    Default: 30\n",
            "    Equivalent to: [--Application.log_level]\n",
            "--config=<Unicode>\n",
            "    Full path of a config file.\n",
            "    Default: ''\n",
            "    Equivalent to: [--JupyterApp.config_file]\n",
            "--to=<Unicode>\n",
            "    The export format to be used, either one of the built-in formats\n",
            "            ['asciidoc', 'custom', 'html', 'latex', 'markdown', 'notebook', 'pdf', 'python', 'rst', 'script', 'slides']\n",
            "            or a dotted object name that represents the import path for an\n",
            "            `Exporter` class\n",
            "    Default: 'html'\n",
            "    Equivalent to: [--NbConvertApp.export_format]\n",
            "--template=<Unicode>\n",
            "    Name of the template file to use\n",
            "    Default: ''\n",
            "    Equivalent to: [--TemplateExporter.template_file]\n",
            "--writer=<DottedObjectName>\n",
            "    Writer class used to write the \n",
            "                                        results of the conversion\n",
            "    Default: 'FilesWriter'\n",
            "    Equivalent to: [--NbConvertApp.writer_class]\n",
            "--post=<DottedOrNone>\n",
            "    PostProcessor class used to write the\n",
            "                                        results of the conversion\n",
            "    Default: ''\n",
            "    Equivalent to: [--NbConvertApp.postprocessor_class]\n",
            "--output=<Unicode>\n",
            "    overwrite base name use for output files.\n",
            "                can only be used when converting one notebook at a time.\n",
            "    Default: ''\n",
            "    Equivalent to: [--NbConvertApp.output_base]\n",
            "--output-dir=<Unicode>\n",
            "    Directory to write output(s) to. Defaults\n",
            "                                  to output to the directory of each notebook. To recover\n",
            "                                  previous default behaviour (outputting to the current \n",
            "                                  working directory) use . as the flag value.\n",
            "    Default: ''\n",
            "    Equivalent to: [--FilesWriter.build_directory]\n",
            "--reveal-prefix=<Unicode>\n",
            "    The URL prefix for reveal.js (version 3.x).\n",
            "            This defaults to the reveal CDN, but can be any url pointing to a copy \n",
            "            of reveal.js. \n",
            "            For speaker notes to work, this must be a relative path to a local \n",
            "            copy of reveal.js: e.g., \"reveal.js\".\n",
            "            If a relative path is given, it must be a subdirectory of the\n",
            "            current directory (from which the server is run).\n",
            "            See the usage documentation\n",
            "            (https://nbconvert.readthedocs.io/en/latest/usage.html#reveal-js-html-slideshow)\n",
            "            for more details.\n",
            "    Default: ''\n",
            "    Equivalent to: [--SlidesExporter.reveal_url_prefix]\n",
            "--nbformat=<Enum>\n",
            "    The nbformat version to write.\n",
            "            Use this to downgrade notebooks.\n",
            "    Choices: any of [1, 2, 3, 4]\n",
            "    Default: 4\n",
            "    Equivalent to: [--NotebookExporter.nbformat_version]\n",
            "\n",
            "Examples\n",
            "--------\n",
            "\n",
            "    The simplest way to use nbconvert is\n",
            "\n",
            "            > jupyter nbconvert mynotebook.ipynb\n",
            "\n",
            "            which will convert mynotebook.ipynb to the default format (probably HTML).\n",
            "\n",
            "            You can specify the export format with `--to`.\n",
            "            Options include ['asciidoc', 'custom', 'html', 'latex', 'markdown', 'notebook', 'pdf', 'python', 'rst', 'script', 'slides'].\n",
            "\n",
            "            > jupyter nbconvert --to latex mynotebook.ipynb\n",
            "\n",
            "            Both HTML and LaTeX support multiple output templates. LaTeX includes\n",
            "            'base', 'article' and 'report'.  HTML includes 'basic' and 'full'. You\n",
            "            can specify the flavor of the format used.\n",
            "\n",
            "            > jupyter nbconvert --to html --template basic mynotebook.ipynb\n",
            "\n",
            "            You can also pipe the output to stdout, rather than a file\n",
            "\n",
            "            > jupyter nbconvert mynotebook.ipynb --stdout\n",
            "\n",
            "            PDF is generated via latex\n",
            "\n",
            "            > jupyter nbconvert mynotebook.ipynb --to pdf\n",
            "\n",
            "            You can get (and serve) a Reveal.js-powered slideshow\n",
            "\n",
            "            > jupyter nbconvert myslides.ipynb --to slides --post serve\n",
            "\n",
            "            Multiple notebooks can be given at the command line in a couple of \n",
            "            different ways:\n",
            "\n",
            "            > jupyter nbconvert notebook*.ipynb\n",
            "            > jupyter nbconvert notebook1.ipynb notebook2.ipynb\n",
            "\n",
            "            or you can specify the notebooks list in a config file, containing::\n",
            "\n",
            "                c.NbConvertApp.notebooks = [\"my_notebook.ipynb\"]\n",
            "\n",
            "            > jupyter nbconvert --config mycfg.py\n",
            "\n",
            "To see all available configurables, use `--help-all`.\n",
            "\n"
          ]
        }
      ]
    }
  ]
}