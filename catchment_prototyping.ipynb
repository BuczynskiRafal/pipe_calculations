{
  "nbformat": 4,
  "nbformat_minor": 0,
  "metadata": {
    "colab": {
      "provenance": [],
      "authorship_tag": "ABX9TyPluUFyD12urT1al6yRqFzG",
      "include_colab_link": true
    },
    "kernelspec": {
      "name": "python3",
      "display_name": "Python 3"
    },
    "language_info": {
      "name": "python"
    }
  },
  "cells": [
    {
      "cell_type": "markdown",
      "metadata": {
        "id": "view-in-github",
        "colab_type": "text"
      },
      "source": [
        "<a href=\"https://colab.research.google.com/github/BuczynskiRafal/pipe_calculations/blob/main/catchment_prototyping.ipynb\" target=\"_parent\"><img src=\"https://colab.research.google.com/assets/colab-badge.svg\" alt=\"Open In Colab\"/></a>"
      ]
    },
    {
      "cell_type": "markdown",
      "source": [
        "# Get requires"
      ],
      "metadata": {
        "id": "iZkhBloqmiua"
      }
    },
    {
      "cell_type": "code",
      "execution_count": 2,
      "metadata": {
        "colab": {
          "base_uri": "https://localhost:8080/"
        },
        "id": "6MFoGrVK5v_Q",
        "outputId": "ac4288c3-442d-4dd2-9317-7a38b53ad920"
      },
      "outputs": [
        {
          "output_type": "stream",
          "name": "stdout",
          "text": [
            "Looking in indexes: https://pypi.org/simple, https://us-python.pkg.dev/colab-wheels/public/simple/\n",
            "Requirement already satisfied: scikit-fuzzy in /usr/local/lib/python3.8/dist-packages (0.4.2)\n",
            "Requirement already satisfied: scipy>=0.9.0 in /usr/local/lib/python3.8/dist-packages (from scikit-fuzzy) (1.7.3)\n",
            "Requirement already satisfied: networkx>=1.9.0 in /usr/local/lib/python3.8/dist-packages (from scikit-fuzzy) (2.6.3)\n",
            "Requirement already satisfied: numpy>=1.6.0 in /usr/local/lib/python3.8/dist-packages (from scikit-fuzzy) (1.21.6)\n"
          ]
        }
      ],
      "source": [
        "!pip install -U scikit-fuzzy"
      ]
    },
    {
      "cell_type": "code",
      "source": [
        "!pip install -U catchment_prototyping-0.0.1.tar.gz"
      ],
      "metadata": {
        "id": "jx7_hthazXpG",
        "outputId": "8ede13eb-96e0-409c-f8b3-a97c5ed0c94b",
        "colab": {
          "base_uri": "https://localhost:8080/"
        }
      },
      "execution_count": 3,
      "outputs": [
        {
          "output_type": "stream",
          "name": "stdout",
          "text": [
            "Looking in indexes: https://pypi.org/simple, https://us-python.pkg.dev/colab-wheels/public/simple/\n",
            "Processing ./catchment_prototyping-0.0.1.tar.gz\n",
            "Requirement already satisfied: scikit-fuzzy in /usr/local/lib/python3.8/dist-packages (from catchment-prototyping==0.0.1) (0.4.2)\n",
            "Requirement already satisfied: numpy in /usr/local/lib/python3.8/dist-packages (from catchment-prototyping==0.0.1) (1.21.6)\n",
            "Requirement already satisfied: scipy>=0.9.0 in /usr/local/lib/python3.8/dist-packages (from scikit-fuzzy->catchment-prototyping==0.0.1) (1.7.3)\n",
            "Requirement already satisfied: networkx>=1.9.0 in /usr/local/lib/python3.8/dist-packages (from scikit-fuzzy->catchment-prototyping==0.0.1) (2.6.3)\n",
            "Building wheels for collected packages: catchment-prototyping\n",
            "  Building wheel for catchment-prototyping (setup.py) ... \u001b[?25l\u001b[?25hdone\n",
            "  Created wheel for catchment-prototyping: filename=catchment_prototyping-0.0.1-py3-none-any.whl size=7952 sha256=26c2e1c2de5cf0d483b5c193129e37c86ec622911380d2cba792012e0fc50ab3\n",
            "  Stored in directory: /root/.cache/pip/wheels/4d/25/ed/57ce42be143bfd3089a75054c0bc6d234ef3c24da0ecb20aa0\n",
            "Successfully built catchment-prototyping\n",
            "Installing collected packages: catchment-prototyping\n",
            "Successfully installed catchment-prototyping-0.0.1\n"
          ]
        }
      ]
    },
    {
      "cell_type": "code",
      "source": [
        "import numpy as np\n",
        "import pandas as pd\n",
        "import skfuzzy as fuzz\n",
        "import matplotlib.pyplot as plt\n",
        "from fuzzy.categories import LandForm, LandUse\n",
        "from fuzzy.engine import Prototype, engine\n",
        "from fuzzy.memberships import membership\n",
        "from skfuzzy import control as ctrl\n",
        "import plotly.graph_objects as go\n",
        "from numpy.core._multiarray_umath  import  ndarray\n",
        "from matplotlib import cm"
      ],
      "metadata": {
        "id": "yU65RLrU51iI"
      },
      "execution_count": 8,
      "outputs": []
    },
    {
      "cell_type": "markdown",
      "source": [
        "# Create object for prototyping"
      ],
      "metadata": {
        "id": "JhOOH6JJmqFh"
      }
    },
    {
      "cell_type": "markdown",
      "source": [
        "## Select land use and type form"
      ],
      "metadata": {
        "id": "B6m2t4V5p4F0"
      }
    },
    {
      "cell_type": "code",
      "source": [
        "land_use = LandUse.flats_and_plateaus\n",
        "land_form = LandForm.permeable_areas"
      ],
      "metadata": {
        "id": "wHYODaPfp9xc"
      },
      "execution_count": 10,
      "outputs": []
    },
    {
      "cell_type": "markdown",
      "source": [
        "## Prepare object for calculations"
      ],
      "metadata": {
        "id": "o0JHniKGqxav"
      }
    },
    {
      "cell_type": "code",
      "source": [
        "clc = Prototype(land_use=land_use, land_form=land_form)"
      ],
      "metadata": {
        "id": "QiW334Ts_tri"
      },
      "execution_count": 12,
      "outputs": []
    },
    {
      "cell_type": "markdown",
      "source": [
        "## Get example results"
      ],
      "metadata": {
        "id": "ZK8BCNiZq5CZ"
      }
    },
    {
      "cell_type": "code",
      "source": [
        "slope = clc.slope_result\n",
        "impervious = clc.impervious_result\n",
        "catchment = clc.get_populate(clc.catchment_result)\n",
        "print(slope)\n",
        "print(impervious)\n",
        "print(catchment)\n"
      ],
      "metadata": {
        "id": "0_3c0b0Oq6pR",
        "outputId": "7ce0cd2d-5bc0-40c8-80fc-c2379b1f017f",
        "colab": {
          "base_uri": "https://localhost:8080/"
        }
      },
      "execution_count": 13,
      "outputs": [
        {
          "output_type": "stream",
          "name": "stdout",
          "text": [
            "3.0909090909090913\n",
            "30.000000000000007\n",
            "meadows\n"
          ]
        }
      ]
    },
    {
      "cell_type": "code",
      "source": [
        "result = clc.slope_result"
      ],
      "metadata": {
        "id": "N95pIUQH0W9F"
      },
      "execution_count": 14,
      "outputs": []
    },
    {
      "cell_type": "markdown",
      "source": [
        "## Plot result"
      ],
      "metadata": {
        "id": "xkvbZSiZ3H8s"
      }
    },
    {
      "cell_type": "code",
      "source": [
        "membership.slope.view(sim=engine.slope_simulation)"
      ],
      "metadata": {
        "id": "VCtSJzrF0Zuw",
        "outputId": "e90c9a10-e0d4-4a2e-901e-ecba86e14403",
        "colab": {
          "base_uri": "https://localhost:8080/",
          "height": 281
        }
      },
      "execution_count": 17,
      "outputs": [
        {
          "output_type": "display_data",
          "data": {
            "text/plain": [
              "<Figure size 432x288 with 1 Axes>"
            ],
            "image/png": "[encoded data removed]"
          },
          "metadata": {
            "needs_background": "light"
          }
        }
      ]
    },
    {
      "cell_type": "markdown",
      "source": [
        "## Plot universe of slope"
      ],
      "metadata": {
        "id": "xcXPM4Jh3Obf"
      }
    },
    {
      "cell_type": "code",
      "source": [
        "# x = land_use_type\n",
        "# y = land_form_type\n",
        "\n",
        "land_use_type = np.arange(0, 10.1, 1)\n",
        "land_form_type = np.arange(0, 14.1, 1)\n",
        "land_use_type, land_form_type = np.meshgrid(land_use_type, land_form_type)\n",
        "pred_val: np.ndarray = np.zeros(shape=(len(land_form_type), len(land_form_type[1])))\n",
        "\n",
        "for i in range(1, len(land_use_type[1])):\n",
        "    for j in range(1, len(land_form_type)):\n",
        "        simulate = Prototype(land_use=i, land_form=j)\n",
        "        pred_val[j][i] = simulate.slope_result\n",
        "\n",
        "fig = go.Figure(data=[go.Surface(x=land_use_type, y=land_form_type, z=pred_val,\n",
        "    contours = {\n",
        "        \"z\": {\"show\": True, \"start\": 0, \"end\": 100, \"size\": 5, \"color\":\"grey\"}\n",
        "    },\n",
        "    # colorscale=[[0, 'rgb(100,0,255)'], [1, 'rgb(255,0,0)']],\n",
        "    )])\n",
        "fig.update_layout(title='Slope evaluation using the fuzzy logic model',\n",
        "                  scene=dict(\n",
        "                      xaxis_title='Land use [‰]',\n",
        "                      yaxis_title='Land form [m/s]',\n",
        "                      zaxis_title='Slope evaluation'),\n",
        "                  autosize=True,\n",
        "                  width=900, height=900,)\n",
        "fig.update_traces(contours_z=dict(show=True, usecolormap=True,\n",
        "                                  highlightcolor=\"black\", project_z=True))\n",
        "fig.show()"
      ],
      "metadata": {
        "id": "9iqjRfpfxbLb",
        "outputId": "1de7de8c-85d7-42ae-d18a-b91a1ae3a89e",
        "colab": {
          "base_uri": "https://localhost:8080/",
          "height": 917
        }
      },
      "execution_count": 24,
      "outputs": [
        {
          "output_type": "display_data",
          "data": {
            "text/html": [
              "<html>\n",
              "<head><meta charset=\"utf-8\" /></head>\n",
              "<body>\n",
              "    <div>            <script src=\"https://cdnjs.cloudflare.com/ajax/libs/mathjax/2.7.5/MathJax.js?config=TeX-AMS-MML_SVG\"></script><script type=\"text/javascript\">if (window.MathJax) {MathJax.Hub.Config({SVG: {font: \"STIX-Web\"}});}</script>                <script type=\"text/javascript\">window.PlotlyConfig = {MathJaxConfig: 'local'};</script>\n",
              "        <script src=\"https://cdn.plot.ly/plotly-2.8.3.min.js\"></script>                <div id=\"093544c3-e5f4-4cb7-b94e-865ba92e9023\" class=\"plotly-graph-div\" style=\"height:900px; width:900px;\"></div>            <script type=\"text/javascript\">                                    window.PLOTLYENV=window.PLOTLYENV || {};                                    if (document.getElementById(\"093544c3-e5f4-4cb7-b94e-865ba92e9023\")) {                    Plotly.newPlot(                        \"093544c3-e5f4-4cb7-b94e-865ba92e9023\",                        [{\"contours\":{\"z\":{\"color\":\"grey\",\"end\":100,\"show\":true,\"size\":5,\"start\":0,\"project\":{\"z\":true},\"highlightcolor\":\"black\",\"usecolormap\":true}},\"x\":[[0.0,1.0,2.0,3.0,4.0,5.0,6.0,7.0,8.0,9.0,10.0],[0.0,1.0,2.0,3.0,4.0,5.0,6.0,7.0,8.0,9.0,10.0],[0.0,1.0,2.0,3.0,4.0,5.0,6.0,7.0,8.0,9.0,10.0],[0.0,1.0,2.0,3.0,4.0,5.0,6.0,7.0,8.0,9.0,10.0],[0.0,1.0,2.0,3.0,4.0,5.0,6.0,7.0,8.0,9.0,10.0],[0.0,1.0,2.0,3.0,4.0,5.0,6.0,7.0,8.0,9.0,10.0],[0.0,1.0,2.0,3.0,4.0,5.0,6.0,7.0,8.0,9.0,10.0],[0.0,1.0,2.0,3.0,4.0,5.0,6.0,7.0,8.0,9.0,10.0],[0.0,1.0,2.0,3.0,4.0,5.0,6.0,7.0,8.0,9.0,10.0],[0.0,1.0,2.0,3.0,4.0,5.0,6.0,7.0,8.0,9.0,10.0],[0.0,1.0,2.0,3.0,4.0,5.0,6.0,7.0,8.0,9.0,10.0],[0.0,1.0,2.0,3.0,4.0,5.0,6.0,7.0,8.0,9.0,10.0],[0.0,1.0,2.0,3.0,4.0,5.0,6.0,7.0,8.0,9.0,10.0],[0.0,1.0,2.0,3.0,4.0,5.0,6.0,7.0,8.0,9.0,10.0],[0.0,1.0,2.0,3.0,4.0,5.0,6.0,7.0,8.0,9.0,10.0]],\"y\":[[0.0,0.0,0.0,0.0,0.0,0.0,0.0,0.0,0.0,0.0,0.0],[1.0,1.0,1.0,1.0,1.0,1.0,1.0,1.0,1.0,1.0,1.0],[2.0,2.0,2.0,2.0,2.0,2.0,2.0,2.0,2.0,2.0,2.0],[3.0,3.0,3.0,3.0,3.0,3.0,3.0,3.0,3.0,3.0,3.0],[4.0,4.0,4.0,4.0,4.0,4.0,4.0,4.0,4.0,4.0,4.0],[5.0,5.0,5.0,5.0,5.0,5.0,5.0,5.0,5.0,5.0,5.0],[6.0,6.0,6.0,6.0,6.0,6.0,6.0,6.0,6.0,6.0,6.0],[7.0,7.0,7.0,7.0,7.0,7.0,7.0,7.0,7.0,7.0,7.0],[8.0,8.0,8.0,8.0,8.0,8.0,8.0,8.0,8.0,8.0,8.0],[9.0,9.0,9.0,9.0,9.0,9.0,9.0,9.0,9.0,9.0,9.0],[10.0,10.0,10.0,10.0,10.0,10.0,10.0,10.0,10.0,10.0,10.0],[11.0,11.0,11.0,11.0,11.0,11.0,11.0,11.0,11.0,11.0,11.0],[12.0,12.0,12.0,12.0,12.0,12.0,12.0,12.0,12.0,12.0,12.0],[13.0,13.0,13.0,13.0,13.0,13.0,13.0,13.0,13.0,13.0,13.0],[14.0,14.0,14.0,14.0,14.0,14.0,14.0,14.0,14.0,14.0,14.0]],\"z\":[[0.0,0.0,0.0,0.0,0.0,0.0,0.0,0.0,0.0,0.0,0.0],[0.0,1.7777777777777777,3.0909090909090913,5.000000000000001,6.666666666666667,13.999999999999998,22.666666666666664,65.00000000000004,65.00000000000004,65.00000000000004,65.00000000000004],[0.0,1.7777777777777777,3.0909090909090913,5.000000000000001,6.666666666666667,13.999999999999998,22.666666666666664,65.00000000000004,65.00000000000004,65.00000000000004,65.00000000000004],[0.0,1.7777777777777777,3.0909090909090913,5.000000000000001,6.666666666666667,13.999999999999998,22.666666666666664,65.00000000000004,65.00000000000004,65.00000000000004,65.00000000000004],[0.0,13.999999999999998,13.999999999999998,13.999999999999998,22.666666666666664,22.666666666666664,22.666666666666664,83.33333333333336,83.33333333333336,83.33333333333336,83.33333333333336],[0.0,37.33333333333336,37.33333333333336,65.00000000000004,65.00000000000004,83.33333333333336,83.33333333333336,83.33333333333336,83.33333333333336,83.33333333333336,83.33333333333336],[0.0,37.33333333333336,37.33333333333336,65.00000000000004,65.00000000000004,65.00000000000004,83.33333333333336,83.33333333333336,83.33333333333336,83.33333333333336,83.33333333333336],[0.0,1.7777777777777777,3.0909090909090913,5.000000000000001,6.666666666666667,13.999999999999998,22.666666666666664,37.33333333333336,65.00000000000004,83.33333333333336,83.33333333333336],[0.0,1.7777777777777777,3.0909090909090913,5.000000000000001,6.666666666666667,13.999999999999998,22.666666666666664,37.33333333333336,65.00000000000004,83.33333333333336,83.33333333333336],[0.0,1.7777777777777777,3.0909090909090913,5.000000000000001,6.666666666666667,13.999999999999998,22.666666666666664,37.33333333333336,65.00000000000004,83.33333333333336,83.33333333333336],[0.0,3.0909090909090913,3.0909090909090913,5.000000000000001,5.000000000000001,22.666666666666664,22.666666666666664,65.00000000000004,65.00000000000004,65.00000000000004,65.00000000000004],[0.0,1.7777777777777777,3.0909090909090913,3.0909090909090913,6.666666666666667,6.666666666666667,65.00000000000004,65.00000000000004,65.00000000000004,65.00000000000004,65.00000000000004],[0.0,3.0909090909090913,5.000000000000001,5.000000000000001,5.000000000000001,13.999999999999998,13.999999999999998,65.00000000000004,65.00000000000004,65.00000000000004,65.00000000000004],[0.0,1.7777777777777777,1.7777777777777777,1.7777777777777777,1.7777777777777777,1.7777777777777777,1.7777777777777777,65.00000000000004,65.00000000000004,65.00000000000004,65.00000000000004],[0.0,1.7777777777777777,1.7777777777777777,1.7777777777777777,1.7777777777777777,1.7777777777777777,1.7777777777777777,65.00000000000004,65.00000000000004,65.00000000000004,65.00000000000004]],\"type\":\"surface\"}],                        {\"template\":{\"data\":{\"bar\":[{\"error_x\":{\"color\":\"#2a3f5f\"},\"error_y\":{\"color\":\"#2a3f5f\"},\"marker\":{\"line\":{\"color\":\"#E5ECF6\",\"width\":0.5},\"pattern\":{\"fillmode\":\"overlay\",\"size\":10,\"solidity\":0.2}},\"type\":\"bar\"}],\"barpolar\":[{\"marker\":{\"line\":{\"color\":\"#E5ECF6\",\"width\":0.5},\"pattern\":{\"fillmode\":\"overlay\",\"size\":10,\"solidity\":0.2}},\"type\":\"barpolar\"}],\"carpet\":[{\"aaxis\":{\"endlinecolor\":\"#2a3f5f\",\"gridcolor\":\"white\",\"linecolor\":\"white\",\"minorgridcolor\":\"white\",\"startlinecolor\":\"#2a3f5f\"},\"baxis\":{\"endlinecolor\":\"#2a3f5f\",\"gridcolor\":\"white\",\"linecolor\":\"white\",\"minorgridcolor\":\"white\",\"startlinecolor\":\"#2a3f5f\"},\"type\":\"carpet\"}],\"choropleth\":[{\"colorbar\":{\"outlinewidth\":0,\"ticks\":\"\"},\"type\":\"choropleth\"}],\"contour\":[{\"colorbar\":{\"outlinewidth\":0,\"ticks\":\"\"},\"colorscale\":[[0.0,\"#0d0887\"],[0.1111111111111111,\"#46039f\"],[0.2222222222222222,\"#7201a8\"],[0.3333333333333333,\"#9c179e\"],[0.4444444444444444,\"#bd3786\"],[0.5555555555555556,\"#d8576b\"],[0.6666666666666666,\"#ed7953\"],[0.7777777777777778,\"#fb9f3a\"],[0.8888888888888888,\"#fdca26\"],[1.0,\"#f0f921\"]],\"type\":\"contour\"}],\"contourcarpet\":[{\"colorbar\":{\"outlinewidth\":0,\"ticks\":\"\"},\"type\":\"contourcarpet\"}],\"heatmap\":[{\"colorbar\":{\"outlinewidth\":0,\"ticks\":\"\"},\"colorscale\":[[0.0,\"#0d0887\"],[0.1111111111111111,\"#46039f\"],[0.2222222222222222,\"#7201a8\"],[0.3333333333333333,\"#9c179e\"],[0.4444444444444444,\"#bd3786\"],[0.5555555555555556,\"#d8576b\"],[0.6666666666666666,\"#ed7953\"],[0.7777777777777778,\"#fb9f3a\"],[0.8888888888888888,\"#fdca26\"],[1.0,\"#f0f921\"]],\"type\":\"heatmap\"}],\"heatmapgl\":[{\"colorbar\":{\"outlinewidth\":0,\"ticks\":\"\"},\"colorscale\":[[0.0,\"#0d0887\"],[0.1111111111111111,\"#46039f\"],[0.2222222222222222,\"#7201a8\"],[0.3333333333333333,\"#9c179e\"],[0.4444444444444444,\"#bd3786\"],[0.5555555555555556,\"#d8576b\"],[0.6666666666666666,\"#ed7953\"],[0.7777777777777778,\"#fb9f3a\"],[0.8888888888888888,\"#fdca26\"],[1.0,\"#f0f921\"]],\"type\":\"heatmapgl\"}],\"histogram\":[{\"marker\":{\"pattern\":{\"fillmode\":\"overlay\",\"size\":10,\"solidity\":0.2}},\"type\":\"histogram\"}],\"histogram2d\":[{\"colorbar\":{\"outlinewidth\":0,\"ticks\":\"\"},\"colorscale\":[[0.0,\"#0d0887\"],[0.1111111111111111,\"#46039f\"],[0.2222222222222222,\"#7201a8\"],[0.3333333333333333,\"#9c179e\"],[0.4444444444444444,\"#bd3786\"],[0.5555555555555556,\"#d8576b\"],[0.6666666666666666,\"#ed7953\"],[0.7777777777777778,\"#fb9f3a\"],[0.8888888888888888,\"#fdca26\"],[1.0,\"#f0f921\"]],\"type\":\"histogram2d\"}],\"histogram2dcontour\":[{\"colorbar\":{\"outlinewidth\":0,\"ticks\":\"\"},\"colorscale\":[[0.0,\"#0d0887\"],[0.1111111111111111,\"#46039f\"],[0.2222222222222222,\"#7201a8\"],[0.3333333333333333,\"#9c179e\"],[0.4444444444444444,\"#bd3786\"],[0.5555555555555556,\"#d8576b\"],[0.6666666666666666,\"#ed7953\"],[0.7777777777777778,\"#fb9f3a\"],[0.8888888888888888,\"#fdca26\"],[1.0,\"#f0f921\"]],\"type\":\"histogram2dcontour\"}],\"mesh3d\":[{\"colorbar\":{\"outlinewidth\":0,\"ticks\":\"\"},\"type\":\"mesh3d\"}],\"parcoords\":[{\"line\":{\"colorbar\":{\"outlinewidth\":0,\"ticks\":\"\"}},\"type\":\"parcoords\"}],\"pie\":[{\"automargin\":true,\"type\":\"pie\"}],\"scatter\":[{\"marker\":{\"colorbar\":{\"outlinewidth\":0,\"ticks\":\"\"}},\"type\":\"scatter\"}],\"scatter3d\":[{\"line\":{\"colorbar\":{\"outlinewidth\":0,\"ticks\":\"\"}},\"marker\":{\"colorbar\":{\"outlinewidth\":0,\"ticks\":\"\"}},\"type\":\"scatter3d\"}],\"scattercarpet\":[{\"marker\":{\"colorbar\":{\"outlinewidth\":0,\"ticks\":\"\"}},\"type\":\"scattercarpet\"}],\"scattergeo\":[{\"marker\":{\"colorbar\":{\"outlinewidth\":0,\"ticks\":\"\"}},\"type\":\"scattergeo\"}],\"scattergl\":[{\"marker\":{\"colorbar\":{\"outlinewidth\":0,\"ticks\":\"\"}},\"type\":\"scattergl\"}],\"scattermapbox\":[{\"marker\":{\"colorbar\":{\"outlinewidth\":0,\"ticks\":\"\"}},\"type\":\"scattermapbox\"}],\"scatterpolar\":[{\"marker\":{\"colorbar\":{\"outlinewidth\":0,\"ticks\":\"\"}},\"type\":\"scatterpolar\"}],\"scatterpolargl\":[{\"marker\":{\"colorbar\":{\"outlinewidth\":0,\"ticks\":\"\"}},\"type\":\"scatterpolargl\"}],\"scatterternary\":[{\"marker\":{\"colorbar\":{\"outlinewidth\":0,\"ticks\":\"\"}},\"type\":\"scatterternary\"}],\"surface\":[{\"colorbar\":{\"outlinewidth\":0,\"ticks\":\"\"},\"colorscale\":[[0.0,\"#0d0887\"],[0.1111111111111111,\"#46039f\"],[0.2222222222222222,\"#7201a8\"],[0.3333333333333333,\"#9c179e\"],[0.4444444444444444,\"#bd3786\"],[0.5555555555555556,\"#d8576b\"],[0.6666666666666666,\"#ed7953\"],[0.7777777777777778,\"#fb9f3a\"],[0.8888888888888888,\"#fdca26\"],[1.0,\"#f0f921\"]],\"type\":\"surface\"}],\"table\":[{\"cells\":{\"fill\":{\"color\":\"#EBF0F8\"},\"line\":{\"color\":\"white\"}},\"header\":{\"fill\":{\"color\":\"#C8D4E3\"},\"line\":{\"color\":\"white\"}},\"type\":\"table\"}]},\"layout\":{\"annotationdefaults\":{\"arrowcolor\":\"#2a3f5f\",\"arrowhead\":0,\"arrowwidth\":1},\"autotypenumbers\":\"strict\",\"coloraxis\":{\"colorbar\":{\"outlinewidth\":0,\"ticks\":\"\"}},\"colorscale\":{\"diverging\":[[0,\"#8e0152\"],[0.1,\"#c51b7d\"],[0.2,\"#de77ae\"],[0.3,\"#f1b6da\"],[0.4,\"#fde0ef\"],[0.5,\"#f7f7f7\"],[0.6,\"#e6f5d0\"],[0.7,\"#b8e186\"],[0.8,\"#7fbc41\"],[0.9,\"#4d9221\"],[1,\"#276419\"]],\"sequential\":[[0.0,\"#0d0887\"],[0.1111111111111111,\"#46039f\"],[0.2222222222222222,\"#7201a8\"],[0.3333333333333333,\"#9c179e\"],[0.4444444444444444,\"#bd3786\"],[0.5555555555555556,\"#d8576b\"],[0.6666666666666666,\"#ed7953\"],[0.7777777777777778,\"#fb9f3a\"],[0.8888888888888888,\"#fdca26\"],[1.0,\"#f0f921\"]],\"sequentialminus\":[[0.0,\"#0d0887\"],[0.1111111111111111,\"#46039f\"],[0.2222222222222222,\"#7201a8\"],[0.3333333333333333,\"#9c179e\"],[0.4444444444444444,\"#bd3786\"],[0.5555555555555556,\"#d8576b\"],[0.6666666666666666,\"#ed7953\"],[0.7777777777777778,\"#fb9f3a\"],[0.8888888888888888,\"#fdca26\"],[1.0,\"#f0f921\"]]},\"colorway\":[\"#636efa\",\"#EF553B\",\"#00cc96\",\"#ab63fa\",\"#FFA15A\",\"#19d3f3\",\"#FF6692\",\"#B6E880\",\"#FF97FF\",\"#FECB52\"],\"font\":{\"color\":\"#2a3f5f\"},\"geo\":{\"bgcolor\":\"white\",\"lakecolor\":\"white\",\"landcolor\":\"#E5ECF6\",\"showlakes\":true,\"showland\":true,\"subunitcolor\":\"white\"},\"hoverlabel\":{\"align\":\"left\"},\"hovermode\":\"closest\",\"mapbox\":{\"style\":\"light\"},\"paper_bgcolor\":\"white\",\"plot_bgcolor\":\"#E5ECF6\",\"polar\":{\"angularaxis\":{\"gridcolor\":\"white\",\"linecolor\":\"white\",\"ticks\":\"\"},\"bgcolor\":\"#E5ECF6\",\"radialaxis\":{\"gridcolor\":\"white\",\"linecolor\":\"white\",\"ticks\":\"\"}},\"scene\":{\"xaxis\":{\"backgroundcolor\":\"#E5ECF6\",\"gridcolor\":\"white\",\"gridwidth\":2,\"linecolor\":\"white\",\"showbackground\":true,\"ticks\":\"\",\"zerolinecolor\":\"white\"},\"yaxis\":{\"backgroundcolor\":\"#E5ECF6\",\"gridcolor\":\"white\",\"gridwidth\":2,\"linecolor\":\"white\",\"showbackground\":true,\"ticks\":\"\",\"zerolinecolor\":\"white\"},\"zaxis\":{\"backgroundcolor\":\"#E5ECF6\",\"gridcolor\":\"white\",\"gridwidth\":2,\"linecolor\":\"white\",\"showbackground\":true,\"ticks\":\"\",\"zerolinecolor\":\"white\"}},\"shapedefaults\":{\"line\":{\"color\":\"#2a3f5f\"}},\"ternary\":{\"aaxis\":{\"gridcolor\":\"white\",\"linecolor\":\"white\",\"ticks\":\"\"},\"baxis\":{\"gridcolor\":\"white\",\"linecolor\":\"white\",\"ticks\":\"\"},\"bgcolor\":\"#E5ECF6\",\"caxis\":{\"gridcolor\":\"white\",\"linecolor\":\"white\",\"ticks\":\"\"}},\"title\":{\"x\":0.05},\"xaxis\":{\"automargin\":true,\"gridcolor\":\"white\",\"linecolor\":\"white\",\"ticks\":\"\",\"title\":{\"standoff\":15},\"zerolinecolor\":\"white\",\"zerolinewidth\":2},\"yaxis\":{\"automargin\":true,\"gridcolor\":\"white\",\"linecolor\":\"white\",\"ticks\":\"\",\"title\":{\"standoff\":15},\"zerolinecolor\":\"white\",\"zerolinewidth\":2}}},\"title\":{\"text\":\"Slope evaluation using the fuzzy logic model\"},\"scene\":{\"xaxis\":{\"title\":{\"text\":\"Land use [\\u2030]\"}},\"yaxis\":{\"title\":{\"text\":\"Land form [m/s]\"}},\"zaxis\":{\"title\":{\"text\":\"Slope evaluation\"}}},\"autosize\":true,\"width\":900,\"height\":900},                        {\"responsive\": true}                    ).then(function(){\n",
              "                            \n",
              "var gd = document.getElementById('093544c3-e5f4-4cb7-b94e-865ba92e9023');\n",
              "var x = new MutationObserver(function (mutations, observer) {{\n",
              "        var display = window.getComputedStyle(gd).display;\n",
              "        if (!display || display === 'none') {{\n",
              "            console.log([gd, 'removed!']);\n",
              "            Plotly.purge(gd);\n",
              "            observer.disconnect();\n",
              "        }}\n",
              "}});\n",
              "\n",
              "// Listen for the removal of the full notebook cells\n",
              "var notebookContainer = gd.closest('#notebook-container');\n",
              "if (notebookContainer) {{\n",
              "    x.observe(notebookContainer, {childList: true});\n",
              "}}\n",
              "\n",
              "// Listen for the clearing of the current output cell\n",
              "var outputEl = gd.closest('.output');\n",
              "if (outputEl) {{\n",
              "    x.observe(outputEl, {childList: true});\n",
              "}}\n",
              "\n",
              "                        })                };                            </script>        </div>\n",
              "</body>\n",
              "</html>"
            ]
          },
          "metadata": {}
        }
      ]
    },
    {
      "cell_type": "markdown",
      "source": [
        "## Plot universe of impervious"
      ],
      "metadata": {
        "id": "LR56OHjq4Jgi"
      }
    },
    {
      "cell_type": "code",
      "source": [
        "# x = land_use_type\n",
        "# y = land_form_type\n",
        "\n",
        "land_use_type = np.arange(0, 10.1, 1)\n",
        "land_form_type = np.arange(0, 14.1, 1)\n",
        "land_use_type, land_form_type = np.meshgrid(land_use_type, land_form_type)\n",
        "pred_val: np.ndarray = np.zeros(shape=(len(land_form_type), len(land_form_type[1])))\n",
        "\n",
        "for i in range(1, len(land_use_type[1])):\n",
        "    for j in range(1, len(land_form_type)):\n",
        "        simulate = Prototype(land_use=i, land_form=j)\n",
        "        pred_val[j][i] = simulate.impervious_result\n",
        "\n",
        "fig = go.Figure(data=[go.Surface(x=land_use_type, y=land_form_type, z=pred_val,\n",
        "    contours = {\n",
        "        \"z\": {\"show\": True, \"start\": 0, \"end\": 100, \"size\": 5, \"color\":\"grey\"}\n",
        "    },\n",
        "    # colorscale=[[0, 'rgb(100,0,255)'], [1, 'rgb(255,0,0)']],\n",
        "    )])\n",
        "fig.update_layout(title='Slope evaluation using the fuzzy logic model',\n",
        "                  scene=dict(\n",
        "                      xaxis_title='Land use [‰]',\n",
        "                      yaxis_title='Land form [m/s]',\n",
        "                      zaxis_title='Slope evaluation'),\n",
        "                  autosize=True,\n",
        "                  width=900, height=900,)\n",
        "fig.update_traces(contours_z=dict(show=True, usecolormap=True,\n",
        "                                  highlightcolor=\"black\", project_z=True))\n",
        "fig.show()"
      ],
      "metadata": {
        "id": "Pl1Lgkvv4Q1M",
        "outputId": "6b94ad4b-0a3d-4e8f-82c3-18ae6d9bca9f",
        "colab": {
          "base_uri": "https://localhost:8080/",
          "height": 917
        }
      },
      "execution_count": 26,
      "outputs": [
        {
          "output_type": "display_data",
          "data": {
            "text/html": [
              "<html>\n",
              "<head><meta charset=\"utf-8\" /></head>\n",
              "<body>\n",
              "    <div>            <script src=\"https://cdnjs.cloudflare.com/ajax/libs/mathjax/2.7.5/MathJax.js?config=TeX-AMS-MML_SVG\"></script><script type=\"text/javascript\">if (window.MathJax) {MathJax.Hub.Config({SVG: {font: \"STIX-Web\"}});}</script>                <script type=\"text/javascript\">window.PlotlyConfig = {MathJaxConfig: 'local'};</script>\n",
              "        <script src=\"https://cdn.plot.ly/plotly-2.8.3.min.js\"></script>                <div id=\"224db1b9-c593-48a9-857d-60e3456fe889\" class=\"plotly-graph-div\" style=\"height:900px; width:900px;\"></div>            <script type=\"text/javascript\">                                    window.PLOTLYENV=window.PLOTLYENV || {};                                    if (document.getElementById(\"224db1b9-c593-48a9-857d-60e3456fe889\")) {                    Plotly.newPlot(                        \"224db1b9-c593-48a9-857d-60e3456fe889\",                        [{\"contours\":{\"z\":{\"color\":\"grey\",\"end\":100,\"show\":true,\"size\":5,\"start\":0,\"project\":{\"z\":true},\"highlightcolor\":\"black\",\"usecolormap\":true}},\"x\":[[0.0,1.0,2.0,3.0,4.0,5.0,6.0,7.0,8.0,9.0,10.0],[0.0,1.0,2.0,3.0,4.0,5.0,6.0,7.0,8.0,9.0,10.0],[0.0,1.0,2.0,3.0,4.0,5.0,6.0,7.0,8.0,9.0,10.0],[0.0,1.0,2.0,3.0,4.0,5.0,6.0,7.0,8.0,9.0,10.0],[0.0,1.0,2.0,3.0,4.0,5.0,6.0,7.0,8.0,9.0,10.0],[0.0,1.0,2.0,3.0,4.0,5.0,6.0,7.0,8.0,9.0,10.0],[0.0,1.0,2.0,3.0,4.0,5.0,6.0,7.0,8.0,9.0,10.0],[0.0,1.0,2.0,3.0,4.0,5.0,6.0,7.0,8.0,9.0,10.0],[0.0,1.0,2.0,3.0,4.0,5.0,6.0,7.0,8.0,9.0,10.0],[0.0,1.0,2.0,3.0,4.0,5.0,6.0,7.0,8.0,9.0,10.0],[0.0,1.0,2.0,3.0,4.0,5.0,6.0,7.0,8.0,9.0,10.0],[0.0,1.0,2.0,3.0,4.0,5.0,6.0,7.0,8.0,9.0,10.0],[0.0,1.0,2.0,3.0,4.0,5.0,6.0,7.0,8.0,9.0,10.0],[0.0,1.0,2.0,3.0,4.0,5.0,6.0,7.0,8.0,9.0,10.0],[0.0,1.0,2.0,3.0,4.0,5.0,6.0,7.0,8.0,9.0,10.0]],\"y\":[[0.0,0.0,0.0,0.0,0.0,0.0,0.0,0.0,0.0,0.0,0.0],[1.0,1.0,1.0,1.0,1.0,1.0,1.0,1.0,1.0,1.0,1.0],[2.0,2.0,2.0,2.0,2.0,2.0,2.0,2.0,2.0,2.0,2.0],[3.0,3.0,3.0,3.0,3.0,3.0,3.0,3.0,3.0,3.0,3.0],[4.0,4.0,4.0,4.0,4.0,4.0,4.0,4.0,4.0,4.0,4.0],[5.0,5.0,5.0,5.0,5.0,5.0,5.0,5.0,5.0,5.0,5.0],[6.0,6.0,6.0,6.0,6.0,6.0,6.0,6.0,6.0,6.0,6.0],[7.0,7.0,7.0,7.0,7.0,7.0,7.0,7.0,7.0,7.0,7.0],[8.0,8.0,8.0,8.0,8.0,8.0,8.0,8.0,8.0,8.0,8.0],[9.0,9.0,9.0,9.0,9.0,9.0,9.0,9.0,9.0,9.0,9.0],[10.0,10.0,10.0,10.0,10.0,10.0,10.0,10.0,10.0,10.0,10.0],[11.0,11.0,11.0,11.0,11.0,11.0,11.0,11.0,11.0,11.0,11.0],[12.0,12.0,12.0,12.0,12.0,12.0,12.0,12.0,12.0,12.0,12.0],[13.0,13.0,13.0,13.0,13.0,13.0,13.0,13.0,13.0,13.0,13.0],[14.0,14.0,14.0,14.0,14.0,14.0,14.0,14.0,14.0,14.0,14.0]],\"z\":[[0.0,0.0,0.0,0.0,0.0,0.0,0.0,0.0,0.0,0.0,0.0],[0.0,83.33333333333336,30.000000000000007,65.00000000000004,65.00000000000004,65.00000000000004,65.00000000000004,5.088435374149661,5.088435374149661,5.088435374149661,5.088435374149661],[0.0,83.33333333333336,30.000000000000007,65.00000000000004,65.00000000000004,65.00000000000004,65.00000000000004,5.088435374149661,5.088435374149661,5.088435374149661,5.088435374149661],[0.0,83.33333333333336,30.000000000000007,65.00000000000004,65.00000000000004,65.00000000000004,65.00000000000004,5.088435374149661,5.088435374149661,5.088435374149661,5.088435374149661],[0.0,30.000000000000007,30.000000000000007,30.000000000000007,25.000000000000007,25.000000000000007,25.000000000000007,5.088435374149661,5.088435374149661,5.088435374149661,5.088435374149661],[0.0,2.333333333333333,2.333333333333333,5.088435374149661,5.088435374149661,5.088435374149661,5.088435374149661,5.088435374149661,5.088435374149661,5.088435374149661,5.088435374149661],[0.0,2.333333333333333,2.333333333333333,5.088435374149661,5.088435374149661,5.088435374149661,5.088435374149661,5.088435374149661,5.088435374149661,5.088435374149661,5.088435374149661],[0.0,10.000000000000002,10.000000000000002,10.000000000000002,10.000000000000002,10.000000000000002,10.000000000000002,10.000000000000002,10.000000000000002,10.000000000000002,10.000000000000002],[0.0,15.000000000000004,15.000000000000004,15.000000000000004,15.000000000000004,15.000000000000004,15.000000000000004,15.000000000000004,15.000000000000004,15.000000000000004,15.000000000000004],[0.0,20.000000000000004,20.000000000000004,20.000000000000004,20.000000000000004,20.000000000000004,20.000000000000004,20.000000000000004,20.000000000000004,20.000000000000004,20.000000000000004],[0.0,25.000000000000007,25.000000000000007,25.000000000000007,25.000000000000007,25.000000000000007,25.000000000000007,5.088435374149661,5.088435374149661,5.088435374149661,5.088435374149661],[0.0,30.000000000000007,30.000000000000007,30.000000000000007,30.000000000000007,30.000000000000007,5.088435374149661,5.088435374149661,5.088435374149661,5.088435374149661,5.088435374149661],[0.0,30.000000000000007,65.00000000000004,65.00000000000004,65.00000000000004,65.00000000000004,65.00000000000004,5.088435374149661,5.088435374149661,5.088435374149661,5.088435374149661],[0.0,83.33333333333336,83.33333333333336,83.33333333333336,30.000000000000007,30.000000000000007,30.000000000000007,5.088435374149661,5.088435374149661,5.088435374149661,5.088435374149661],[0.0,83.33333333333336,83.33333333333336,83.33333333333336,30.000000000000007,30.000000000000007,30.000000000000007,5.088435374149661,5.088435374149661,5.088435374149661,5.088435374149661]],\"type\":\"surface\"}],                        {\"template\":{\"data\":{\"bar\":[{\"error_x\":{\"color\":\"#2a3f5f\"},\"error_y\":{\"color\":\"#2a3f5f\"},\"marker\":{\"line\":{\"color\":\"#E5ECF6\",\"width\":0.5},\"pattern\":{\"fillmode\":\"overlay\",\"size\":10,\"solidity\":0.2}},\"type\":\"bar\"}],\"barpolar\":[{\"marker\":{\"line\":{\"color\":\"#E5ECF6\",\"width\":0.5},\"pattern\":{\"fillmode\":\"overlay\",\"size\":10,\"solidity\":0.2}},\"type\":\"barpolar\"}],\"carpet\":[{\"aaxis\":{\"endlinecolor\":\"#2a3f5f\",\"gridcolor\":\"white\",\"linecolor\":\"white\",\"minorgridcolor\":\"white\",\"startlinecolor\":\"#2a3f5f\"},\"baxis\":{\"endlinecolor\":\"#2a3f5f\",\"gridcolor\":\"white\",\"linecolor\":\"white\",\"minorgridcolor\":\"white\",\"startlinecolor\":\"#2a3f5f\"},\"type\":\"carpet\"}],\"choropleth\":[{\"colorbar\":{\"outlinewidth\":0,\"ticks\":\"\"},\"type\":\"choropleth\"}],\"contour\":[{\"colorbar\":{\"outlinewidth\":0,\"ticks\":\"\"},\"colorscale\":[[0.0,\"#0d0887\"],[0.1111111111111111,\"#46039f\"],[0.2222222222222222,\"#7201a8\"],[0.3333333333333333,\"#9c179e\"],[0.4444444444444444,\"#bd3786\"],[0.5555555555555556,\"#d8576b\"],[0.6666666666666666,\"#ed7953\"],[0.7777777777777778,\"#fb9f3a\"],[0.8888888888888888,\"#fdca26\"],[1.0,\"#f0f921\"]],\"type\":\"contour\"}],\"contourcarpet\":[{\"colorbar\":{\"outlinewidth\":0,\"ticks\":\"\"},\"type\":\"contourcarpet\"}],\"heatmap\":[{\"colorbar\":{\"outlinewidth\":0,\"ticks\":\"\"},\"colorscale\":[[0.0,\"#0d0887\"],[0.1111111111111111,\"#46039f\"],[0.2222222222222222,\"#7201a8\"],[0.3333333333333333,\"#9c179e\"],[0.4444444444444444,\"#bd3786\"],[0.5555555555555556,\"#d8576b\"],[0.6666666666666666,\"#ed7953\"],[0.7777777777777778,\"#fb9f3a\"],[0.8888888888888888,\"#fdca26\"],[1.0,\"#f0f921\"]],\"type\":\"heatmap\"}],\"heatmapgl\":[{\"colorbar\":{\"outlinewidth\":0,\"ticks\":\"\"},\"colorscale\":[[0.0,\"#0d0887\"],[0.1111111111111111,\"#46039f\"],[0.2222222222222222,\"#7201a8\"],[0.3333333333333333,\"#9c179e\"],[0.4444444444444444,\"#bd3786\"],[0.5555555555555556,\"#d8576b\"],[0.6666666666666666,\"#ed7953\"],[0.7777777777777778,\"#fb9f3a\"],[0.8888888888888888,\"#fdca26\"],[1.0,\"#f0f921\"]],\"type\":\"heatmapgl\"}],\"histogram\":[{\"marker\":{\"pattern\":{\"fillmode\":\"overlay\",\"size\":10,\"solidity\":0.2}},\"type\":\"histogram\"}],\"histogram2d\":[{\"colorbar\":{\"outlinewidth\":0,\"ticks\":\"\"},\"colorscale\":[[0.0,\"#0d0887\"],[0.1111111111111111,\"#46039f\"],[0.2222222222222222,\"#7201a8\"],[0.3333333333333333,\"#9c179e\"],[0.4444444444444444,\"#bd3786\"],[0.5555555555555556,\"#d8576b\"],[0.6666666666666666,\"#ed7953\"],[0.7777777777777778,\"#fb9f3a\"],[0.8888888888888888,\"#fdca26\"],[1.0,\"#f0f921\"]],\"type\":\"histogram2d\"}],\"histogram2dcontour\":[{\"colorbar\":{\"outlinewidth\":0,\"ticks\":\"\"},\"colorscale\":[[0.0,\"#0d0887\"],[0.1111111111111111,\"#46039f\"],[0.2222222222222222,\"#7201a8\"],[0.3333333333333333,\"#9c179e\"],[0.4444444444444444,\"#bd3786\"],[0.5555555555555556,\"#d8576b\"],[0.6666666666666666,\"#ed7953\"],[0.7777777777777778,\"#fb9f3a\"],[0.8888888888888888,\"#fdca26\"],[1.0,\"#f0f921\"]],\"type\":\"histogram2dcontour\"}],\"mesh3d\":[{\"colorbar\":{\"outlinewidth\":0,\"ticks\":\"\"},\"type\":\"mesh3d\"}],\"parcoords\":[{\"line\":{\"colorbar\":{\"outlinewidth\":0,\"ticks\":\"\"}},\"type\":\"parcoords\"}],\"pie\":[{\"automargin\":true,\"type\":\"pie\"}],\"scatter\":[{\"marker\":{\"colorbar\":{\"outlinewidth\":0,\"ticks\":\"\"}},\"type\":\"scatter\"}],\"scatter3d\":[{\"line\":{\"colorbar\":{\"outlinewidth\":0,\"ticks\":\"\"}},\"marker\":{\"colorbar\":{\"outlinewidth\":0,\"ticks\":\"\"}},\"type\":\"scatter3d\"}],\"scattercarpet\":[{\"marker\":{\"colorbar\":{\"outlinewidth\":0,\"ticks\":\"\"}},\"type\":\"scattercarpet\"}],\"scattergeo\":[{\"marker\":{\"colorbar\":{\"outlinewidth\":0,\"ticks\":\"\"}},\"type\":\"scattergeo\"}],\"scattergl\":[{\"marker\":{\"colorbar\":{\"outlinewidth\":0,\"ticks\":\"\"}},\"type\":\"scattergl\"}],\"scattermapbox\":[{\"marker\":{\"colorbar\":{\"outlinewidth\":0,\"ticks\":\"\"}},\"type\":\"scattermapbox\"}],\"scatterpolar\":[{\"marker\":{\"colorbar\":{\"outlinewidth\":0,\"ticks\":\"\"}},\"type\":\"scatterpolar\"}],\"scatterpolargl\":[{\"marker\":{\"colorbar\":{\"outlinewidth\":0,\"ticks\":\"\"}},\"type\":\"scatterpolargl\"}],\"scatterternary\":[{\"marker\":{\"colorbar\":{\"outlinewidth\":0,\"ticks\":\"\"}},\"type\":\"scatterternary\"}],\"surface\":[{\"colorbar\":{\"outlinewidth\":0,\"ticks\":\"\"},\"colorscale\":[[0.0,\"#0d0887\"],[0.1111111111111111,\"#46039f\"],[0.2222222222222222,\"#7201a8\"],[0.3333333333333333,\"#9c179e\"],[0.4444444444444444,\"#bd3786\"],[0.5555555555555556,\"#d8576b\"],[0.6666666666666666,\"#ed7953\"],[0.7777777777777778,\"#fb9f3a\"],[0.8888888888888888,\"#fdca26\"],[1.0,\"#f0f921\"]],\"type\":\"surface\"}],\"table\":[{\"cells\":{\"fill\":{\"color\":\"#EBF0F8\"},\"line\":{\"color\":\"white\"}},\"header\":{\"fill\":{\"color\":\"#C8D4E3\"},\"line\":{\"color\":\"white\"}},\"type\":\"table\"}]},\"layout\":{\"annotationdefaults\":{\"arrowcolor\":\"#2a3f5f\",\"arrowhead\":0,\"arrowwidth\":1},\"autotypenumbers\":\"strict\",\"coloraxis\":{\"colorbar\":{\"outlinewidth\":0,\"ticks\":\"\"}},\"colorscale\":{\"diverging\":[[0,\"#8e0152\"],[0.1,\"#c51b7d\"],[0.2,\"#de77ae\"],[0.3,\"#f1b6da\"],[0.4,\"#fde0ef\"],[0.5,\"#f7f7f7\"],[0.6,\"#e6f5d0\"],[0.7,\"#b8e186\"],[0.8,\"#7fbc41\"],[0.9,\"#4d9221\"],[1,\"#276419\"]],\"sequential\":[[0.0,\"#0d0887\"],[0.1111111111111111,\"#46039f\"],[0.2222222222222222,\"#7201a8\"],[0.3333333333333333,\"#9c179e\"],[0.4444444444444444,\"#bd3786\"],[0.5555555555555556,\"#d8576b\"],[0.6666666666666666,\"#ed7953\"],[0.7777777777777778,\"#fb9f3a\"],[0.8888888888888888,\"#fdca26\"],[1.0,\"#f0f921\"]],\"sequentialminus\":[[0.0,\"#0d0887\"],[0.1111111111111111,\"#46039f\"],[0.2222222222222222,\"#7201a8\"],[0.3333333333333333,\"#9c179e\"],[0.4444444444444444,\"#bd3786\"],[0.5555555555555556,\"#d8576b\"],[0.6666666666666666,\"#ed7953\"],[0.7777777777777778,\"#fb9f3a\"],[0.8888888888888888,\"#fdca26\"],[1.0,\"#f0f921\"]]},\"colorway\":[\"#636efa\",\"#EF553B\",\"#00cc96\",\"#ab63fa\",\"#FFA15A\",\"#19d3f3\",\"#FF6692\",\"#B6E880\",\"#FF97FF\",\"#FECB52\"],\"font\":{\"color\":\"#2a3f5f\"},\"geo\":{\"bgcolor\":\"white\",\"lakecolor\":\"white\",\"landcolor\":\"#E5ECF6\",\"showlakes\":true,\"showland\":true,\"subunitcolor\":\"white\"},\"hoverlabel\":{\"align\":\"left\"},\"hovermode\":\"closest\",\"mapbox\":{\"style\":\"light\"},\"paper_bgcolor\":\"white\",\"plot_bgcolor\":\"#E5ECF6\",\"polar\":{\"angularaxis\":{\"gridcolor\":\"white\",\"linecolor\":\"white\",\"ticks\":\"\"},\"bgcolor\":\"#E5ECF6\",\"radialaxis\":{\"gridcolor\":\"white\",\"linecolor\":\"white\",\"ticks\":\"\"}},\"scene\":{\"xaxis\":{\"backgroundcolor\":\"#E5ECF6\",\"gridcolor\":\"white\",\"gridwidth\":2,\"linecolor\":\"white\",\"showbackground\":true,\"ticks\":\"\",\"zerolinecolor\":\"white\"},\"yaxis\":{\"backgroundcolor\":\"#E5ECF6\",\"gridcolor\":\"white\",\"gridwidth\":2,\"linecolor\":\"white\",\"showbackground\":true,\"ticks\":\"\",\"zerolinecolor\":\"white\"},\"zaxis\":{\"backgroundcolor\":\"#E5ECF6\",\"gridcolor\":\"white\",\"gridwidth\":2,\"linecolor\":\"white\",\"showbackground\":true,\"ticks\":\"\",\"zerolinecolor\":\"white\"}},\"shapedefaults\":{\"line\":{\"color\":\"#2a3f5f\"}},\"ternary\":{\"aaxis\":{\"gridcolor\":\"white\",\"linecolor\":\"white\",\"ticks\":\"\"},\"baxis\":{\"gridcolor\":\"white\",\"linecolor\":\"white\",\"ticks\":\"\"},\"bgcolor\":\"#E5ECF6\",\"caxis\":{\"gridcolor\":\"white\",\"linecolor\":\"white\",\"ticks\":\"\"}},\"title\":{\"x\":0.05},\"xaxis\":{\"automargin\":true,\"gridcolor\":\"white\",\"linecolor\":\"white\",\"ticks\":\"\",\"title\":{\"standoff\":15},\"zerolinecolor\":\"white\",\"zerolinewidth\":2},\"yaxis\":{\"automargin\":true,\"gridcolor\":\"white\",\"linecolor\":\"white\",\"ticks\":\"\",\"title\":{\"standoff\":15},\"zerolinecolor\":\"white\",\"zerolinewidth\":2}}},\"title\":{\"text\":\"Slope evaluation using the fuzzy logic model\"},\"scene\":{\"xaxis\":{\"title\":{\"text\":\"Land use [\\u2030]\"}},\"yaxis\":{\"title\":{\"text\":\"Land form [m/s]\"}},\"zaxis\":{\"title\":{\"text\":\"Slope evaluation\"}}},\"autosize\":true,\"width\":900,\"height\":900},                        {\"responsive\": true}                    ).then(function(){\n",
              "                            \n",
              "var gd = document.getElementById('224db1b9-c593-48a9-857d-60e3456fe889');\n",
              "var x = new MutationObserver(function (mutations, observer) {{\n",
              "        var display = window.getComputedStyle(gd).display;\n",
              "        if (!display || display === 'none') {{\n",
              "            console.log([gd, 'removed!']);\n",
              "            Plotly.purge(gd);\n",
              "            observer.disconnect();\n",
              "        }}\n",
              "}});\n",
              "\n",
              "// Listen for the removal of the full notebook cells\n",
              "var notebookContainer = gd.closest('#notebook-container');\n",
              "if (notebookContainer) {{\n",
              "    x.observe(notebookContainer, {childList: true});\n",
              "}}\n",
              "\n",
              "// Listen for the clearing of the current output cell\n",
              "var outputEl = gd.closest('.output');\n",
              "if (outputEl) {{\n",
              "    x.observe(outputEl, {childList: true});\n",
              "}}\n",
              "\n",
              "                        })                };                            </script>        </div>\n",
              "</body>\n",
              "</html>"
            ]
          },
          "metadata": {}
        }
      ]
    },
    {
      "cell_type": "markdown",
      "source": [
        "# Get category of catchment"
      ],
      "metadata": {
        "id": "lHbhBxwT3W30"
      }
    },
    {
      "cell_type": "code",
      "source": [
        "category = clc.get_populate(clc.catchment_result)\n",
        "category"
      ],
      "metadata": {
        "colab": {
          "base_uri": "https://localhost:8080/",
          "height": 35
        },
        "id": "Sc9S7O4WQr3S",
        "outputId": "24ba7e00-5d93-43b0-b055-c3019ad7afa4"
      },
      "execution_count": 25,
      "outputs": [
        {
          "output_type": "execute_result",
          "data": {
            "text/plain": [
              "'mountains'"
            ],
            "application/vnd.google.colaboratory.intrinsic+json": {
              "type": "string"
            }
          },
          "metadata": {},
          "execution_count": 25
        }
      ]
    }
  ]
}