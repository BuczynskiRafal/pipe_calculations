{
  "nbformat": 4,
  "nbformat_minor": 0,
  "metadata": {
    "colab": {
      "provenance": [],
      "authorship_tag": "ABX9TyPpo9JhWZpE3L0haftYGgo4",
      "include_colab_link": true
    },
    "kernelspec": {
      "name": "python3",
      "display_name": "Python 3"
    },
    "language_info": {
      "name": "python"
    }
  },
  "cells": [
    {
      "cell_type": "markdown",
      "metadata": {
        "id": "view-in-github",
        "colab_type": "text"
      },
      "source": [
        "<a href=\"https://colab.research.google.com/github/BuczynskiRafal/pipe_calculations/blob/main/Catchments.ipynb\" target=\"_parent\"><img src=\"https://colab.research.google.com/assets/colab-badge.svg\" alt=\"Open In Colab\"/></a>"
      ]
    },
    {
      "cell_type": "markdown",
      "source": [
        "# Install extensions"
      ],
      "metadata": {
        "id": "u402HnsBbh0X"
      }
    },
    {
      "cell_type": "code",
      "execution_count": 62,
      "metadata": {
        "colab": {
          "base_uri": "https://localhost:8080/"
        },
        "id": "o6dEO-VzbXcm",
        "outputId": "f64e162d-4e38-4994-9375-677ac27f8265"
      },
      "outputs": [
        {
          "output_type": "stream",
          "name": "stdout",
          "text": [
            "Looking in indexes: https://pypi.org/simple, https://us-python.pkg.dev/colab-wheels/public/simple/\n",
            "Requirement already satisfied: pyswmm in /usr/local/lib/python3.7/dist-packages (1.2.0)\n",
            "Requirement already satisfied: julian>=0.14 in /usr/local/lib/python3.7/dist-packages (from pyswmm) (0.14)\n",
            "Requirement already satisfied: swmm-toolkit>=0.9.0 in /usr/local/lib/python3.7/dist-packages (from pyswmm) (0.9.0)\n",
            "Requirement already satisfied: aenum>=3.1.11 in /usr/local/lib/python3.7/dist-packages (from pyswmm) (3.1.11)\n"
          ]
        }
      ],
      "source": [
        "!pip install pyswmm"
      ]
    },
    {
      "cell_type": "markdown",
      "source": [
        "# Import extensions"
      ],
      "metadata": {
        "id": "zpwfNLC3bhB0"
      }
    },
    {
      "cell_type": "code",
      "source": [
        "import pandas as pd\n",
        "import numpy as np\n",
        "from pyswmm import Simulation, Nodes, Links, Subcatchments, Output"
      ],
      "metadata": {
        "id": "xqzDxbdfbpeu"
      },
      "execution_count": 63,
      "outputs": []
    },
    {
      "cell_type": "code",
      "source": [
        "for i in range(1, 10):\n",
        "    with Simulation('example.inp') as sim:\n",
        "        s1 = Subcatchments(sim)[\"S1\"]\n",
        "        s1.slope = i\n",
        "\n",
        "        max = 0\n",
        "        for step in sim:\n",
        "            if s1.runoff > max:\n",
        "                max = s1.runoff\n",
        "        print(max)\n",
        "        print(s1.statistics)"
      ],
      "metadata": {
        "id": "BHwQ16lXY8zS",
        "outputId": "efe6ac51-735f-4e18-86ea-71f65cdc6ec7",
        "colab": {
          "base_uri": "https://localhost:8080/"
        }
      },
      "execution_count": 64,
      "outputs": [
        {
          "output_type": "stream",
          "name": "stdout",
          "text": [
            "1.1017117766835463\n",
            "{'evaporation': 0.0, 'infiltration': 40.08095092739969, 'peak_runoff_rate': 1.1017117766835463, 'precipitation': 8.333333333333334, 'runoff': 412.5946068003226, 'runon': 0.0}\n",
            "1.1986211660596646\n",
            "{'evaporation': 0.0, 'infiltration': 35.82874550923575, 'peak_runoff_rate': 1.1986211660596646, 'precipitation': 8.333333333333334, 'runoff': 419.4945354170769, 'runon': 0.0}\n",
            "1.244700020136731\n",
            "{'evaporation': 0.0, 'infiltration': 33.52297295028401, 'peak_runoff_rate': 1.244700020136731, 'precipitation': 8.333333333333334, 'runoff': 421.9438819971835, 'runon': 0.0}\n",
            "1.2719449053932335\n",
            "{'evaporation': 0.0, 'infiltration': 31.90571182483301, 'peak_runoff_rate': 1.2719449053932335, 'precipitation': 8.333333333333334, 'runoff': 422.87515938800146, 'runon': 0.0}\n",
            "1.2900221023880891\n",
            "{'evaporation': 0.0, 'infiltration': 30.81802602443707, 'peak_runoff_rate': 1.2900221023880891, 'precipitation': 8.333333333333334, 'runoff': 423.20841027569634, 'runon': 0.0}\n",
            "1.3027692541200493\n",
            "{'evaporation': 0.0, 'infiltration': 29.84424419779055, 'peak_runoff_rate': 1.3027692541200493, 'precipitation': 8.333333333333334, 'runoff': 423.17518782605976, 'runon': 0.0}\n",
            "1.3122494099203652\n",
            "{'evaporation': 0.0, 'infiltration': 29.076930149659294, 'peak_runoff_rate': 1.3122494099203652, 'precipitation': 8.333333333333334, 'runoff': 422.98155847635684, 'runon': 0.0}\n",
            "1.3195075688625915\n",
            "{'evaporation': 0.0, 'infiltration': 28.684803370551943, 'peak_runoff_rate': 1.3195075688625915, 'precipitation': 8.333333333333334, 'runoff': 422.7191595793016, 'runon': 0.0}\n",
            "1.3251626970580155\n",
            "{'evaporation': 0.0, 'infiltration': 28.045447402698798, 'peak_runoff_rate': 1.3251626970580155, 'precipitation': 8.333333333333334, 'runoff': 422.3835285149803, 'runon': 0.0}\n"
          ]
        }
      ]
    },
    {
      "cell_type": "code",
      "source": [
        "def get_slope_data(min_slope=0.05, max_slope=100, file_path='example.inp'):\n",
        "    slope = []\n",
        "    runoff = []\n",
        "    peak_runoff_rate = []\n",
        "    infiltration = []\n",
        "    evaporation = []\n",
        "    runon = []\n",
        "    s = min_slope\n",
        "    while s < max_slope:\n",
        "        slope.append(s)\n",
        "        with Simulation(file_path) as sim:\n",
        "            s1 = Subcatchments(sim)[\"S1\"]\n",
        "            s1.slope = s\n",
        "\n",
        "            for step in sim:\n",
        "                pass\n",
        "                \n",
        "            stats = s1.statistics\n",
        "            runoff.append(stats[\"runoff\"])\n",
        "            peak_runoff_rate.append(stats[\"peak_runoff_rate\"])\n",
        "            infiltration.append(stats[\"infiltration\"])\n",
        "            evaporation.append(stats[\"evaporation\"])\n",
        "            runon.append(stats[\"runon\"])\n",
        "        s += 0.05\n",
        "    return {\"slope\": slope, \"runoff\": runoff, \"peak_runoff_rate\": peak_runoff_rate, \"infiltration\": infiltration, \"evaporation\": evaporation}"
      ],
      "metadata": {
        "id": "q74aJdP-cIuX"
      },
      "execution_count": 65,
      "outputs": []
    },
    {
      "cell_type": "markdown",
      "source": [
        "# Manage file to get data to process"
      ],
      "metadata": {
        "id": "DtaHHe9ob8VP"
      }
    },
    {
      "cell_type": "markdown",
      "source": [
        "# get slope data"
      ],
      "metadata": {
        "id": "xytmm5v-dI-p"
      }
    },
    {
      "cell_type": "code",
      "source": [
        "data = get_slope_data()"
      ],
      "metadata": {
        "id": "TiY9JZUYdIC5"
      },
      "execution_count": 66,
      "outputs": []
    },
    {
      "cell_type": "markdown",
      "source": [
        "# prepare dataframe"
      ],
      "metadata": {
        "id": "lQvxer51hSgn"
      }
    },
    {
      "cell_type": "code",
      "source": [
        "df = pd.DataFrame(data=data)\n",
        "df.head()"
      ],
      "metadata": {
        "id": "Yu6L9ne4g9g5",
        "outputId": "3cb02417-4924-4428-a5ed-e721d27fb68c",
        "colab": {
          "base_uri": "https://localhost:8080/",
          "height": 206
        }
      },
      "execution_count": 67,
      "outputs": [
        {
          "output_type": "execute_result",
          "data": {
            "text/plain": [
              "   slope      runoff  peak_runoff_rate  infiltration  evaporation\n",
              "0   0.05  369.418090          0.641317     65.343830          0.0\n",
              "1   0.10  379.232016          0.732375     58.171137          0.0\n",
              "2   0.15  385.221674          0.792551     54.427921          0.0\n",
              "3   0.20  389.548955          0.837815     51.939255          0.0\n",
              "4   0.25  392.935795          0.874077     50.113490          0.0"
            ],
            "text/html": [
              "\n",
              "  <div id=\"df-bfe82435-a922-4d40-974e-db6134d6c80f\">\n",
              "    <div class=\"colab-df-container\">\n",
              "      <div>\n",
              "<style scoped>\n",
              "    .dataframe tbody tr th:only-of-type {\n",
              "        vertical-align: middle;\n",
              "    }\n",
              "\n",
              "    .dataframe tbody tr th {\n",
              "        vertical-align: top;\n",
              "    }\n",
              "\n",
              "    .dataframe thead th {\n",
              "        text-align: right;\n",
              "    }\n",
              "</style>\n",
              "<table border=\"1\" class=\"dataframe\">\n",
              "  <thead>\n",
              "    <tr style=\"text-align: right;\">\n",
              "      <th></th>\n",
              "      <th>slope</th>\n",
              "      <th>runoff</th>\n",
              "      <th>peak_runoff_rate</th>\n",
              "      <th>infiltration</th>\n",
              "      <th>evaporation</th>\n",
              "    </tr>\n",
              "  </thead>\n",
              "  <tbody>\n",
              "    <tr>\n",
              "      <th>0</th>\n",
              "      <td>0.05</td>\n",
              "      <td>369.418090</td>\n",
              "      <td>0.641317</td>\n",
              "      <td>65.343830</td>\n",
              "      <td>0.0</td>\n",
              "    </tr>\n",
              "    <tr>\n",
              "      <th>1</th>\n",
              "      <td>0.10</td>\n",
              "      <td>379.232016</td>\n",
              "      <td>0.732375</td>\n",
              "      <td>58.171137</td>\n",
              "      <td>0.0</td>\n",
              "    </tr>\n",
              "    <tr>\n",
              "      <th>2</th>\n",
              "      <td>0.15</td>\n",
              "      <td>385.221674</td>\n",
              "      <td>0.792551</td>\n",
              "      <td>54.427921</td>\n",
              "      <td>0.0</td>\n",
              "    </tr>\n",
              "    <tr>\n",
              "      <th>3</th>\n",
              "      <td>0.20</td>\n",
              "      <td>389.548955</td>\n",
              "      <td>0.837815</td>\n",
              "      <td>51.939255</td>\n",
              "      <td>0.0</td>\n",
              "    </tr>\n",
              "    <tr>\n",
              "      <th>4</th>\n",
              "      <td>0.25</td>\n",
              "      <td>392.935795</td>\n",
              "      <td>0.874077</td>\n",
              "      <td>50.113490</td>\n",
              "      <td>0.0</td>\n",
              "    </tr>\n",
              "  </tbody>\n",
              "</table>\n",
              "</div>\n",
              "      <button class=\"colab-df-convert\" onclick=\"convertToInteractive('df-bfe82435-a922-4d40-974e-db6134d6c80f')\"\n",
              "              title=\"Convert this dataframe to an interactive table.\"\n",
              "              style=\"display:none;\">\n",
              "        \n",
              "  <svg xmlns=\"http://www.w3.org/2000/svg\" height=\"24px\"viewBox=\"0 0 24 24\"\n",
              "       width=\"24px\">\n",
              "    <path d=\"M0 0h24v24H0V0z\" fill=\"none\"/>\n",
              "    <path d=\"M18.56 5.44l.94 2.06.94-2.06 2.06-.94-2.06-.94-.94-2.06-.94 2.06-2.06.94zm-11 1L8.5 8.5l.94-2.06 2.06-.94-2.06-.94L8.5 2.5l-.94 2.06-2.06.94zm10 10l.94 2.06.94-2.06 2.06-.94-2.06-.94-.94-2.06-.94 2.06-2.06.94z\"/><path d=\"M17.41 7.96l-1.37-1.37c-.4-.4-.92-.59-1.43-.59-.52 0-1.04.2-1.43.59L10.3 9.45l-7.72 7.72c-.78.78-.78 2.05 0 2.83L4 21.41c.39.39.9.59 1.41.59.51 0 1.02-.2 1.41-.59l7.78-7.78 2.81-2.81c.8-.78.8-2.07 0-2.86zM5.41 20L4 18.59l7.72-7.72 1.47 1.35L5.41 20z\"/>\n",
              "  </svg>\n",
              "      </button>\n",
              "      \n",
              "  <style>\n",
              "    .colab-df-container {\n",
              "      display:flex;\n",
              "      flex-wrap:wrap;\n",
              "      gap: 12px;\n",
              "    }\n",
              "\n",
              "    .colab-df-convert {\n",
              "      background-color: #E8F0FE;\n",
              "      border: none;\n",
              "      border-radius: 50%;\n",
              "      cursor: pointer;\n",
              "      display: none;\n",
              "      fill: #1967D2;\n",
              "      height: 32px;\n",
              "      padding: 0 0 0 0;\n",
              "      width: 32px;\n",
              "    }\n",
              "\n",
              "    .colab-df-convert:hover {\n",
              "      background-color: #E2EBFA;\n",
              "      box-shadow: 0px 1px 2px rgba(60, 64, 67, 0.3), 0px 1px 3px 1px rgba(60, 64, 67, 0.15);\n",
              "      fill: #174EA6;\n",
              "    }\n",
              "\n",
              "    [theme=dark] .colab-df-convert {\n",
              "      background-color: #3B4455;\n",
              "      fill: #D2E3FC;\n",
              "    }\n",
              "\n",
              "    [theme=dark] .colab-df-convert:hover {\n",
              "      background-color: #434B5C;\n",
              "      box-shadow: 0px 1px 3px 1px rgba(0, 0, 0, 0.15);\n",
              "      filter: drop-shadow(0px 1px 2px rgba(0, 0, 0, 0.3));\n",
              "      fill: #FFFFFF;\n",
              "    }\n",
              "  </style>\n",
              "\n",
              "      <script>\n",
              "        const buttonEl =\n",
              "          document.querySelector('#df-bfe82435-a922-4d40-974e-db6134d6c80f button.colab-df-convert');\n",
              "        buttonEl.style.display =\n",
              "          google.colab.kernel.accessAllowed ? 'block' : 'none';\n",
              "\n",
              "        async function convertToInteractive(key) {\n",
              "          const element = document.querySelector('#df-bfe82435-a922-4d40-974e-db6134d6c80f');\n",
              "          const dataTable =\n",
              "            await google.colab.kernel.invokeFunction('convertToInteractive',\n",
              "                                                     [key], {});\n",
              "          if (!dataTable) return;\n",
              "\n",
              "          const docLinkHtml = 'Like what you see? Visit the ' +\n",
              "            '<a target=\"_blank\" href=https://colab.research.google.com/notebooks/data_table.ipynb>data table notebook</a>'\n",
              "            + ' to learn more about interactive tables.';\n",
              "          element.innerHTML = '';\n",
              "          dataTable['output_type'] = 'display_data';\n",
              "          await google.colab.output.renderOutput(dataTable, element);\n",
              "          const docLink = document.createElement('div');\n",
              "          docLink.innerHTML = docLinkHtml;\n",
              "          element.appendChild(docLink);\n",
              "        }\n",
              "      </script>\n",
              "    </div>\n",
              "  </div>\n",
              "  "
            ]
          },
          "metadata": {},
          "execution_count": 67
        }
      ]
    },
    {
      "cell_type": "markdown",
      "source": [
        "# Plot runoff data"
      ],
      "metadata": {
        "id": "BOXm5ikxh6lS"
      }
    },
    {
      "cell_type": "code",
      "source": [
        "import matplotlib.pyplot as plt\n",
        "\n",
        "plt.rcParams[\"figure.figsize\"] = (10,5)\n",
        "plt.plot(df['slope'], df['runoff'])\n",
        "plt.title('runoff in function of catchment slope')\n",
        "plt.xlabel('slope')\n",
        "plt.ylabel('runoff')\n",
        "plt.grid(True)\n",
        "plt.show()"
      ],
      "metadata": {
        "id": "MXAsPOALh7_n",
        "outputId": "bea417dd-01e8-4b9b-d91f-2a4085f71eea",
        "colab": {
          "base_uri": "https://localhost:8080/",
          "height": 350
        }
      },
      "execution_count": 68,
      "outputs": [
        {
          "output_type": "display_data",
          "data": {
            "text/plain": [
              "<Figure size 720x360 with 1 Axes>"
            ],
            "image/png": "[encoded data removed]"
          },
          "metadata": {
            "needs_background": "light"
          }
        }
      ]
    },
    {
      "cell_type": "markdown",
      "source": [
        "# Plot peak runoff rate data"
      ],
      "metadata": {
        "id": "_fXoDkSqn3JW"
      }
    },
    {
      "cell_type": "code",
      "source": [
        "import matplotlib.pyplot as plt\n",
        "\n",
        "plt.rcParams[\"figure.figsize\"] = (10,5)\n",
        "plt.plot(df['slope'], df['peak_runoff_rate'])\n",
        "plt.title('peak runoff rate in function of catchment slope')\n",
        "plt.xlabel('slope')\n",
        "plt.ylabel('peak runoff rate')\n",
        "plt.grid(True)\n",
        "plt.show()"
      ],
      "metadata": {
        "id": "toCscUvCn56Y",
        "outputId": "eb9d7009-36ad-4de8-cb62-dac5184e48e0",
        "colab": {
          "base_uri": "https://localhost:8080/",
          "height": 350
        }
      },
      "execution_count": 69,
      "outputs": [
        {
          "output_type": "display_data",
          "data": {
            "text/plain": [
              "<Figure size 720x360 with 1 Axes>"
            ],
            "image/png": "[encoded data removed]"
          },
          "metadata": {
            "needs_background": "light"
          }
        }
      ]
    },
    {
      "cell_type": "markdown",
      "source": [
        "# Plot infiltration data"
      ],
      "metadata": {
        "id": "W1e0ALjYUWM9"
      }
    },
    {
      "cell_type": "code",
      "source": [
        "import matplotlib.pyplot as plt\n",
        "\n",
        "plt.rcParams[\"figure.figsize\"] = (10,5)\n",
        "plt.plot(df['slope'], df['infiltration'])\n",
        "plt.title('infiltration in function of catchment slope')\n",
        "plt.xlabel('slope')\n",
        "plt.ylabel('infiltration')\n",
        "plt.grid(True)\n",
        "plt.show()"
      ],
      "metadata": {
        "id": "su1_KBpJUZa5",
        "outputId": "5a5cdd3a-1008-4cfb-a761-9b92f738cbe3",
        "colab": {
          "base_uri": "https://localhost:8080/",
          "height": 350
        }
      },
      "execution_count": 70,
      "outputs": [
        {
          "output_type": "display_data",
          "data": {
            "text/plain": [
              "<Figure size 720x360 with 1 Axes>"
            ],
            "image/png": "[encoded data removed]"
          },
          "metadata": {
            "needs_background": "light"
          }
        }
      ]
    }
  ]
}